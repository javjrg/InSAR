{
 "cells": [
  {
   "cell_type": "markdown",
   "metadata": {},
   "source": [
    "# Introducción a datos Ráster (GDAL)"
   ]
  },
  {
   "cell_type": "markdown",
   "metadata": {
    "hideCode": true,
    "hidePrompt": true
   },
   "source": [
    "En esta sección, mostraremos el uso de la librería GDAL para trabajar con datos geoespaciales en general y con productos de datos de radar generados con el software ISCE. Comenzaremos con los conceptos básicos de las representaciones de datos geoespaciales y trabajaremos a través de varias operaciones comunes que involucran imágenes geoespaciales.\n",
    "\n",
    "Al final de esta sección, utilizaremos GDAL para manipular productos de interferogramas estándar sin envolver del archivo ARIA/GRFN."
   ]
  },
  {
   "cell_type": "markdown",
   "metadata": {},
   "source": [
    "## Configuración"
   ]
  },
  {
   "cell_type": "code",
   "execution_count": 4,
   "metadata": {},
   "outputs": [],
   "source": [
    "# Ejecute siempre esta celda al comienzo de cada sesión\n",
    "import os\n",
    "from osgeo import gdal, osr\n",
    "from pathlib import Path\n",
    "import zipfile\n",
    "\n",
    "if 'nb_dir' not in globals():\n",
    "    nb_dir = os.getcwd()"
   ]
  },
  {
   "cell_type": "markdown",
   "metadata": {},
   "source": [
    "## Descargar conjuntos de datos para notebook"
   ]
  },
  {
   "cell_type": "markdown",
   "metadata": {},
   "source": [
    "Descargaremos los conjuntos de datos utilizados en este cuaderno."
   ]
  },
  {
   "cell_type": "markdown",
   "metadata": {},
   "source": [
    "### Datos 1: mosaico SRTM DEM en formato geotiff sobre California de topografía abierta"
   ]
  },
  {
   "cell_type": "code",
   "execution_count": 5,
   "metadata": {},
   "outputs": [
    {
     "name": "stdout",
     "output_type": "stream",
     "text": [
      "  % Total    % Received % Xferd  Average Speed   Time    Time     Time  Current\n",
      "                                 Dload  Upload   Total   Spent    Left  Speed\n",
      "100   121    0   121    0     0    114      0 --:--:--  0:00:01 --:--:--   114\n"
     ]
    }
   ],
   "source": [
    "!curl -X GET \"https://portal.opentopography.org/API/globaldem?demtype=SRTMGL1_E&south=33&north=34&west=-119&east=-118&outputFormat=GTiff\" -H \"accept: */*\" --output N33W119_wgs84.tif"
   ]
  },
  {
   "cell_type": "markdown",
   "metadata": {
    "heading_collapsed": true
   },
   "source": [
    "### Datos 2: DEM de Groenlandia en formato netcdf de la Universidad de Montana"
   ]
  },
  {
   "cell_type": "code",
   "execution_count": 6,
   "metadata": {
    "hidden": true
   },
   "outputs": [
    {
     "name": "stdout",
     "output_type": "stream",
     "text": [
      "--2022-09-07 10:58:36--  http://websrv.cs.umt.edu/isis/images/a/ab/Greenland1km.nc\n",
      "Resolviendo websrv.cs.umt.edu (websrv.cs.umt.edu)... 150.131.192.24\n",
      "Conectando con websrv.cs.umt.edu (websrv.cs.umt.edu)[150.131.192.24]:80... conectado.\n",
      "Petición HTTP enviada, esperando respuesta... 200 OK\n",
      "Longitud: 84110176 (80M) [application/x-netcdf]\n",
      "Grabando a: «Greenland1km.nc»\n",
      "\n",
      "Greenland1km.nc     100%[===================>]  80.21M  4.01MB/s    en 17s     \n",
      "\n",
      "2022-09-07 10:58:54 (4.83 MB/s) - «Greenland1km.nc» guardado [84110176/84110176]\n",
      "\n"
     ]
    }
   ],
   "source": [
    "!wget -nc http://websrv.cs.umt.edu/isis/images/a/ab/Greenland1km.nc"
   ]
  },
  {
   "cell_type": "markdown",
   "metadata": {
    "heading_collapsed": true
   },
   "source": [
    "### Datos 3: DEM del sur de California en formato GMT de UC Santa Barbara"
   ]
  },
  {
   "cell_type": "code",
   "execution_count": 7,
   "metadata": {
    "hidden": true
   },
   "outputs": [
    {
     "name": "stdout",
     "output_type": "stream",
     "text": [
      "--2022-09-07 11:00:52--  https://projects.eri.ucsb.edu/mapcat/mapftp/18.grd\n",
      "Resolviendo projects.eri.ucsb.edu (projects.eri.ucsb.edu)... 128.111.100.88\n",
      "Conectando con projects.eri.ucsb.edu (projects.eri.ucsb.edu)[128.111.100.88]:443... conectado.\n",
      "Petición HTTP enviada, esperando respuesta... 200 OK\n",
      "Longitud: 2888672 (2.8M)\n",
      "Grabando a: «18.grd»\n",
      "\n",
      "18.grd              100%[===================>]   2.75M   680KB/s    en 4.4s    \n",
      "\n",
      "2022-09-07 11:00:58 (637 KB/s) - «18.grd» guardado [2888672/2888672]\n",
      "\n"
     ]
    }
   ],
   "source": [
    "!wget -nc https://projects.eri.ucsb.edu/mapcat/mapftp/18.grd"
   ]
  },
  {
   "cell_type": "markdown",
   "metadata": {
    "heading_collapsed": true
   },
   "source": [
    "### Datos 4: USGS DEM sobre Bushkill, PA desde PSU"
   ]
  },
  {
   "cell_type": "code",
   "execution_count": 8,
   "metadata": {
    "hidden": true
   },
   "outputs": [
    {
     "name": "stdout",
     "output_type": "stream",
     "text": [
      "--2022-09-07 11:01:21--  https://courseware.e-education.psu.edu/downloads/natureofgeoinfo/DEM.zip\n",
      "Resolviendo courseware.e-education.psu.edu (courseware.e-education.psu.edu)... 146.186.26.53\n",
      "Conectando con courseware.e-education.psu.edu (courseware.e-education.psu.edu)[146.186.26.53]:443... conectado.\n",
      "Petición HTTP enviada, esperando respuesta... 200 OK\n",
      "Longitud: 2600801 (2.5M) [application/zip]\n",
      "Grabando a: «DEM.zip»\n",
      "\n",
      "DEM.zip             100%[===================>]   2.48M   943KB/s    en 2.7s    \n",
      "\n",
      "2022-09-07 11:01:25 (943 KB/s) - «DEM.zip» guardado [2600801/2600801]\n",
      "\n"
     ]
    }
   ],
   "source": [
    "!wget -nc https://courseware.e-education.psu.edu/downloads/natureofgeoinfo/DEM.zip"
   ]
  },
  {
   "cell_type": "markdown",
   "metadata": {
    "heading_collapsed": true
   },
   "source": [
    "### Datos 5: datos en formato ISCE del procesamiento stripmapApp.py de Hawái"
   ]
  },
  {
   "cell_type": "code",
   "execution_count": 10,
   "metadata": {
    "hidden": true
   },
   "outputs": [
    {
     "name": "stdout",
     "output_type": "stream",
     "text": [
      "download: s3://asf-jupyter-data/unavco2021/stripmap.zip to ./stripmap.zip\n",
      "Extrayendo: stripmap.zip\n"
     ]
    }
   ],
   "source": [
    "# descargue y descomprima algunos datos preprocesados de un depósito de AWS\n",
    "\n",
    "def asf_unzip(output_dir, file_path):\n",
    "    \"\"\"\n",
    "    Toma una ruta de directorio de salida y una ruta de archivo a un archivo comprimido.\n",
    "    Si el archivo es un zip válido, extrae todo en el directorio de salida.\n",
    "    \"\"\"\n",
    "    ext = file_path.suffix\n",
    "    assert ext == '.zip', 'Error: file_path debe ser la ruta de un zip'\n",
    "\n",
    "    if output_dir.is_dir() and file_path.is_file():\n",
    "        print(f\"Extrayendo: {file_path}\")\n",
    "        try:\n",
    "            zipfile.ZipFile(file_path).extractall(output_dir)\n",
    "        except zipfile.BadZipFile:\n",
    "            print(f\"Error de archivo comprimido.\")\n",
    "        return\n",
    "    \n",
    "path = \"./stripmap.zip\"\n",
    "!aws --region=us-east-1 --no-sign-request s3 cp s3://asf-jupyter-data/unavco2021/stripmap.zip $path\n",
    "\n",
    "path = Path(path)\n",
    "asf_unzip(path.parent, path)\n",
    "path.unlink()"
   ]
  },
  {
   "cell_type": "markdown",
   "metadata": {},
   "source": [
    "### Datos 6: DEM en formato ISCE de Copernicus DEM\n",
    "Aquí usamos una nueva utilidad de descarga DEM desarrollada por Scott Staniewicz en JPL llamada 'sardem' que ha sido preinstalada en los servidores 'unavco2022'. El siguiente comando descargará una sola celda de grado 1x1 de Copernicus GLO30 DEM, la convertirá a alturas elipsoidales y creará los archivos de metadatos ISCE2.\n",
    "\n",
    "Consulte https://github.com/scottstanie/sardem para instalarlo en otra computadora."
   ]
  },
  {
   "cell_type": "code",
   "execution_count": 13,
   "metadata": {},
   "outputs": [
    {
     "name": "stdout",
     "output_type": "stream",
     "text": [
      "[09/07 12:59:40] [INFO dem.py] Bounds: -119.0 34.0 -118.0 35.0\n",
      "[09/07 12:59:40] [INFO download.py] Downloading https://e4ftl01.cr.usgs.gov/MEASURES/SRTMGL1.003/2000.02.11/N34W119.SRTMGL1.hgt.zip\n",
      "[09/07 12:59:40] [INFO download.py] Using netrc file: /Users/javjrg/.netrc\n",
      "[09/07 13:00:03] [INFO download.py] Writing to /Users/javjrg/.cache/sardem/N34W119.hgt.zip\n",
      "[09/07 13:00:03] [INFO download.py] Unzipping /Users/javjrg/.cache/sardem/N34W119.hgt.zip\n",
      "Archive:  /Users/javjrg/.cache/sardem/N34W119.hgt.zip\n",
      "  inflating: /Users/javjrg/.cache/sardem/N34W119.hgt  \n",
      "[09/07 13:00:04] [INFO dem.py] Cropping stitched DEM to boundaries\n",
      "[09/07 13:00:05] [INFO dem.py] Rate = 1: No upsampling to do\n",
      "[09/07 13:00:05] [INFO dem.py] Writing DEM to elevation.dem\n",
      "[09/07 13:00:05] [INFO dem.py] Writing .dem.rsc file to elevation.dem.rsc\n",
      "[09/07 13:00:05] [INFO dem.py] Creating ISCE2 XML file\n",
      "This is the Open Source version of ISCE.\n",
      "Some of the workflows depend on a separate licensed package.\n",
      "To obtain the licensed package, please make a request for ISCE\n",
      "through the website: https://download.jpl.nasa.gov/ops/request/index.cfm.\n",
      "Alternatively, if you are a member, or can become a member of WinSAR\n",
      "you may be able to obtain access to a version of the licensed sofware at\n",
      "https://winsar.unavco.org/software/isce\n",
      "Writing geotrans to VRT for /Users/javjrg/Library/CloudStorage/OneDrive-Personal/Proyectos/Gits/InSAR/Notebooks/elevation.dem\n",
      "Creating output file that is 3600P x 3600L.\n",
      "Processing egm_elevation.dem [1/1] : 0...10...20...30...40...50...60...70...80...90...100 - done.\n"
     ]
    }
   ],
   "source": [
    "#!sardem --bbox -119 34 -118 35 --data COP -isce\n",
    "!sardem --bbox -119 34 -118 35 -isce\n",
    "# no especificamos el nombre del archivo de salida, por lo que creó \"elevation.dem\""
   ]
  },
  {
   "cell_type": "markdown",
   "metadata": {
    "heading_collapsed": true,
    "hideCode": true,
    "hidePrompt": true
   },
   "source": [
    "## GIS - Sistema de información geográfica (Geographic Information System)"
   ]
  },
  {
   "cell_type": "markdown",
   "metadata": {
    "hidden": true,
    "hideCode": true,
    "hidePrompt": true
   },
   "source": [
    "GIS es un marco para organizar, administrar, visualizar y analizar datos geoespaciales. Como geofísicos, geólogos o geodestas, todos usamos este conjunto de herramientas para trabajar con datos en mapas. Todos los datos que se pueden trazar en un mapa se pueden clasificar como datos **geoespaciales**.\n",
    "\n",
    "Las herramientas GIS gratuitas más populares incluyen:\n",
    "\n",
    "1. Generic Mapping Tools (GMT) http://gmt.soest.hawaii.edu/\n",
    "2. Geospatial Data Abstraction Library (GDAL) http://www.gdal.org/\n",
    "3. QGIS https://qgis.org/\n",
    "4. PROJ.4 / pyproj https://proj4.org/\n",
    "5. Otras como Shapely, Fiona, Caropy, Basemap etc \n",
    "\n",
    "En esta sección, nos centraremos en la <u>Geospatial Data Abstraction Library (GDAL)</u>."
   ]
  },
  {
   "cell_type": "markdown",
   "metadata": {
    "heading_collapsed": true,
    "hidden": true,
    "hideCode": true,
    "hidePrompt": true
   },
   "source": [
    "### Tipos de datos geoespaciales"
   ]
  },
  {
   "cell_type": "markdown",
   "metadata": {
    "hidden": true,
    "hideCode": true,
    "hidePrompt": true
   },
   "source": [
    "Los datos geoespaciales generalmente se pueden clasificar en 2 tipos"
   ]
  },
  {
   "cell_type": "markdown",
   "metadata": {
    "heading_collapsed": true,
    "hidden": true,
    "hideCode": true,
    "hidePrompt": true
   },
   "source": [
    "#### Datos ráster"
   ]
  },
  {
   "cell_type": "markdown",
   "metadata": {
    "hidden": true,
    "hideCode": true,
    "hidePrompt": true
   },
   "source": [
    "Desde la página web de ARCGIS:\n",
    "\n",
    "En su forma más simple, un ráster consta de una matriz de celdas (o píxeles) organizadas en filas y columnas (o una cuadrícula) donde cada celda contiene un valor que representa información. Los ejemplos típicos de imágenes de trama incluyen:\n",
    "\n",
    "1. Mapas de radares meteorológicos\n",
    "2. Imágenes de satélite\n",
    "\n",
    "Claramente, a partir de los ejercicios que hemos estado haciendo con los datos SAR, estos tipos de imágenes pertenecen a conjuntos de datos ráster. Este tutorial se centrará en la manipulación de datos ráster."
   ]
  },
  {
   "cell_type": "markdown",
   "metadata": {
    "heading_collapsed": true,
    "hidden": true,
    "hideCode": true,
    "hidePrompt": true
   },
   "source": [
    "#### Datos vectoriales"
   ]
  },
  {
   "cell_type": "markdown",
   "metadata": {
    "hidden": true,
    "hideCode": true,
    "hidePrompt": true
   },
   "source": [
    "Los datos vectoriales se refieren a conjuntos de datos que intentan representar información utilizando construcciones geométricas como puntos, líneas y polígonos. Los ejemplos típicos de datos vectoriales incluyen:\n",
    "\n",
    "1. Carreteras, límites de países, etc.\n",
    "2. Ubicaciones de terremotos de un catálogo\n",
    "3. Características en forma de polígono como costas, etc.\n",
    "\n",
    "Con SAR/InSAR, estos tipos de conjuntos de datos tienden a usarse de manera auxiliar para ayudar en la interpretación. Este tipo de datos no se discutirá en detalle como tal en este tutorial."
   ]
  },
  {
   "cell_type": "markdown",
   "metadata": {
    "heading_collapsed": true,
    "hidden": true,
    "hideCode": true,
    "hidePrompt": true
   },
   "source": [
    "### ¿Por qué GDAL?"
   ]
  },
  {
   "cell_type": "markdown",
   "metadata": {
    "hidden": true,
    "hideCode": true,
    "hidePrompt": true
   },
   "source": [
    "* Gratis y de código abierto (https://github.com/OSGeo/gdal)\n",
    "* Soporte para más de 80 formatos de imagen y proyecciones de mapas\n",
    "* Línea de comandos y API C/C++/Python/R\n",
    "* Utilizado ampliamente por los grandes servicios de datos geoespaciales del mundo\n",
    "* Amplio conjunto de pruebas y comunidad activa de desarrolladores\n",
    "* GDAL también incluye una amplia compatibilidad con conjuntos de datos vectoriales (no es un tema de este tutorial)\n",
    "\n",
    "<b><font color=\"blue\">Nota:<br>\n",
    "     En esta sección se debe usar específicamente con GDAL 3.x\n",
    "     </font></b>"
   ]
  },
  {
   "cell_type": "markdown",
   "metadata": {
    "heading_collapsed": true,
    "hideCode": true,
    "hidePrompt": true
   },
   "source": [
    "## Modelo de datos ráster en GDAL"
   ]
  },
  {
   "cell_type": "markdown",
   "metadata": {
    "hidden": true,
    "hideCode": true,
    "hidePrompt": true
   },
   "source": [
    "GDAL tiene un modelo de datos muy claramente definido. Para obtener una descripción detallada de todos los aspectos del modelo de datos, consulte http://www.gdal.org/gdal_datamodel.html. En este tutorial, nos centraremos en algunos aspectos importantes de este modelo."
   ]
  },
  {
   "cell_type": "markdown",
   "metadata": {
    "heading_collapsed": true,
    "hidden": true,
    "hideCode": true,
    "hidePrompt": true
   },
   "source": [
    "### Bandas de ráster"
   ]
  },
  {
   "cell_type": "markdown",
   "metadata": {
    "hidden": true,
    "hideCode": true,
    "hidePrompt": true
   },
   "source": [
    "Una imagen ráster compatible con GDAL puede constar de muchas matrices 2D contenidas en ella, siempre que\n",
    "\n",
    "1. Son del mismo tamaño\n",
    "2. Representan información de los mismos puntos, es decir, las coordenadas del mapa son las mismas.\n",
    "3. Algunos formatos de datos inherentemente permiten que las diferentes bandas sean de diferentes tipos de datos, pero esto no es muy común.\n",
    "\n",
    "Veamos ejemplos de imágenes de banda única y multibanda usando la utilidad **gdalinfo**."
   ]
  },
  {
   "cell_type": "code",
   "execution_count": 18,
   "metadata": {
    "hidden": true,
    "hideCode": false,
    "hidePrompt": false,
    "scrolled": true
   },
   "outputs": [
    {
     "name": "stdout",
     "output_type": "stream",
     "text": [
      "Driver: GTiff/GeoTIFF\n",
      "Files: N33W119_wgs84.tif\n",
      "Size is 3600, 3600\n",
      "Coordinate System is:\n",
      "GEOGCRS[\"WGS 84\",\n",
      "    DATUM[\"World Geodetic System 1984\",\n",
      "        ELLIPSOID[\"WGS 84\",6378137,298.257223563,\n",
      "            LENGTHUNIT[\"metre\",1]]],\n",
      "    PRIMEM[\"Greenwich\",0,\n",
      "        ANGLEUNIT[\"degree\",0.0174532925199433]],\n",
      "    CS[ellipsoidal,2],\n",
      "        AXIS[\"geodetic latitude (Lat)\",north,\n",
      "            ORDER[1],\n",
      "            ANGLEUNIT[\"degree\",0.0174532925199433]],\n",
      "        AXIS[\"geodetic longitude (Lon)\",east,\n",
      "            ORDER[2],\n",
      "            ANGLEUNIT[\"degree\",0.0174532925199433]],\n",
      "    ID[\"EPSG\",4326]]\n",
      "Data axis to CRS axis mapping: 2,1\n",
      "Origin = (-119.000138888880798,34.000138888885445)\n",
      "Pixel Size = (0.000277777777778,-0.000277777777778)\n",
      "Metadata:\n",
      "  AREA_OR_POINT=Area\n",
      "Image Structure Metadata:\n",
      "  COMPRESSION=LZW\n",
      "  INTERLEAVE=BAND\n",
      "  LAYOUT=COG\n",
      "Corner Coordinates:\n",
      "Upper Left  (-119.0001389,  34.0001389) (119d 0' 0.50\"W, 34d 0' 0.50\"N)\n",
      "Lower Left  (-119.0001389,  33.0001389) (119d 0' 0.50\"W, 33d 0' 0.50\"N)\n",
      "Upper Right (-118.0001389,  34.0001389) (118d 0' 0.50\"W, 34d 0' 0.50\"N)\n",
      "Lower Right (-118.0001389,  33.0001389) (118d 0' 0.50\"W, 33d 0' 0.50\"N)\n",
      "Center      (-118.5001389,  33.5001389) (118d30' 0.50\"W, 33d30' 0.50\"N)\n",
      "Band 1 Block=256x256 Type=Float32, ColorInterp=Gray\n",
      "  NoData Value=-32768\n"
     ]
    }
   ],
   "source": [
    "# Veamos un mosaico SRTM descargado\n",
    "# Este es un archivo de una sola banda\n",
    "\n",
    "!gdalinfo N33W119_wgs84.tif"
   ]
  },
  {
   "cell_type": "markdown",
   "metadata": {},
   "source": [
    "<div class=\"alert alert-danger\">\n",
    "<b>PROBLEMA POTENCIAL:</b>\n",
    "Si ve `ERROR 4: 'N33W119_wgs84.tif' not recognized as a supported file format.` arriba, entonces la descarga de OpenTopography falló. A partir de enero de 2022, requieren una clave API de OpenTopography para todas las solicitudes de descarga.\n",
    "\n",
    "Consulte https://portal.opentopography.org/lidarAuthorizationInfo para obtener más información sobre cómo obtener la clave API. Cuando tenga la clave API, reemplace `nnn` en el siguiente comando con su clave.\n",
    "</div>"
   ]
  },
  {
   "cell_type": "code",
   "execution_count": 15,
   "metadata": {},
   "outputs": [
    {
     "name": "stdout",
     "output_type": "stream",
     "text": [
      "  % Total    % Received % Xferd  Average Speed   Time    Time     Time  Current\n",
      "                                 Dload  Upload   Total   Spent    Left  Speed\n",
      "100 6948k    0 6948k    0     0   168k      0 --:--:--  0:00:41 --:--:--  364k\n"
     ]
    }
   ],
   "source": [
    "!curl -X GET \"https://portal.opentopography.org/API/globaldem?demtype=SRTMGL1_E&south=33&north=34&west=-119&east=-118&outputFormat=GTiff&API_Key=fa380d477d946dcf108e55dd98964ea4\" -H \"accept: */*\" --output N33W119_wgs84.tif"
   ]
  },
  {
   "cell_type": "markdown",
   "metadata": {},
   "source": [
    "Si no logra obtener la clave API de OpenTopography y la descarga de `N33W119_wgs84.tif` no tiene éxito, puede sustituirla por `elevation.dem` en el resto de la sección."
   ]
  },
  {
   "cell_type": "code",
   "execution_count": 16,
   "metadata": {},
   "outputs": [
    {
     "name": "stdout",
     "output_type": "stream",
     "text": [
      "Driver: ROI_PAC/ROI_PAC raster\n",
      "Files: elevation.dem\n",
      "       elevation.dem.rsc\n",
      "Size is 3600, 3600\n",
      "Coordinate System is:\n",
      "GEOGCRS[\"WGS 84\",\n",
      "    DATUM[\"World Geodetic System 1984\",\n",
      "        ELLIPSOID[\"WGS 84\",6378137,298.257223563,\n",
      "            LENGTHUNIT[\"metre\",1]]],\n",
      "    PRIMEM[\"Greenwich\",0,\n",
      "        ANGLEUNIT[\"degree\",0.0174532925199433]],\n",
      "    CS[ellipsoidal,2],\n",
      "        AXIS[\"geodetic latitude (Lat)\",north,\n",
      "            ORDER[1],\n",
      "            ANGLEUNIT[\"degree\",0.0174532925199433]],\n",
      "        AXIS[\"geodetic longitude (Lon)\",east,\n",
      "            ORDER[2],\n",
      "            ANGLEUNIT[\"degree\",0.0174532925199433]],\n",
      "    ID[\"EPSG\",4326]]\n",
      "Data axis to CRS axis mapping: 2,1\n",
      "Origin = (-119.000000000000000,35.000000000000000)\n",
      "Pixel Size = (0.000277777777000,-0.000277777777000)\n",
      "Corner Coordinates:\n",
      "Upper Left  (-119.0000000,  35.0000000) (119d 0' 0.00\"W, 35d 0' 0.00\"N)\n",
      "Lower Left  (-119.0000000,  34.0000000) (119d 0' 0.00\"W, 34d 0' 0.00\"N)\n",
      "Upper Right (-118.0000000,  35.0000000) (118d 0' 0.00\"W, 35d 0' 0.00\"N)\n",
      "Lower Right (-118.0000000,  34.0000000) (118d 0' 0.00\"W, 34d 0' 0.00\"N)\n",
      "Center      (-118.5000000,  34.5000000) (118d30' 0.00\"W, 34d30' 0.00\"N)\n",
      "Band 1 Block=3600x1 Type=Int16, ColorInterp=Undefined\n"
     ]
    }
   ],
   "source": [
    "#Lets look at the downloaded Copernicus DEM\n",
    "# This is a single band file\n",
    "\n",
    "!gdalinfo elevation.dem"
   ]
  },
  {
   "cell_type": "code",
   "execution_count": 17,
   "metadata": {},
   "outputs": [
    {
     "name": "stdout",
     "output_type": "stream",
     "text": [
      "Driver: GMT/GMT NetCDF Grid Format\n",
      "Files: 18.grd\n",
      "Size is 1201, 601\n",
      "Origin = (-121.002499999999998,35.502499999999998)\n",
      "Pixel Size = (0.005000000000000,-0.005000000000000)\n",
      "Corner Coordinates:\n",
      "Upper Left  (-121.0025000,  35.5025000) \n",
      "Lower Left  (-121.0025000,  32.4975000) \n",
      "Upper Right (-114.9975000,  35.5025000) \n",
      "Lower Right (-114.9975000,  32.4975000) \n",
      "Center      (-118.0000000,  34.0000000) \n",
      "Band 1 Block=1201x1 Type=Float32, ColorInterp=Undefined\n"
     ]
    }
   ],
   "source": [
    "#Lets look at the California DEM from UCSB\n",
    "# This is a single band file\n",
    "\n",
    "!gdalinfo 18.grd"
   ]
  },
  {
   "cell_type": "code",
   "execution_count": 19,
   "metadata": {
    "hidden": true,
    "hideCode": false,
    "hidePrompt": false,
    "scrolled": true
   },
   "outputs": [
    {
     "name": "stdout",
     "output_type": "stream",
     "text": [
      "Driver: VRT/Virtual Raster\n",
      "Files: stripmap/interferogram/topophase.cor.geo.vrt\n",
      "       stripmap/interferogram/topophase.cor.geo\n",
      "Size is 2989, 3547\n",
      "Coordinate System is:\n",
      "GEOGCRS[\"WGS 84\",\n",
      "    ENSEMBLE[\"World Geodetic System 1984 ensemble\",\n",
      "        MEMBER[\"World Geodetic System 1984 (Transit)\"],\n",
      "        MEMBER[\"World Geodetic System 1984 (G730)\"],\n",
      "        MEMBER[\"World Geodetic System 1984 (G873)\"],\n",
      "        MEMBER[\"World Geodetic System 1984 (G1150)\"],\n",
      "        MEMBER[\"World Geodetic System 1984 (G1674)\"],\n",
      "        MEMBER[\"World Geodetic System 1984 (G1762)\"],\n",
      "        ELLIPSOID[\"WGS 84\",6378137,298.257223563,\n",
      "            LENGTHUNIT[\"metre\",1]],\n",
      "        ENSEMBLEACCURACY[2.0]],\n",
      "    PRIMEM[\"Greenwich\",0,\n",
      "        ANGLEUNIT[\"degree\",0.0174532925199433]],\n",
      "    CS[ellipsoidal,2],\n",
      "        AXIS[\"geodetic latitude (Lat)\",north,\n",
      "            ORDER[1],\n",
      "            ANGLEUNIT[\"degree\",0.0174532925199433]],\n",
      "        AXIS[\"geodetic longitude (Lon)\",east,\n",
      "            ORDER[2],\n",
      "            ANGLEUNIT[\"degree\",0.0174532925199433]],\n",
      "    USAGE[\n",
      "        SCOPE[\"Horizontal component of 3D system.\"],\n",
      "        AREA[\"World.\"],\n",
      "        BBOX[-90,-180,90,180]],\n",
      "    ID[\"EPSG\",4326]]\n",
      "Data axis to CRS axis mapping: 2,1\n",
      "Origin = (-155.392500000000013,19.995000000000001)\n",
      "Pixel Size = (0.000277777777778,-0.000277777777778)\n",
      "Corner Coordinates:\n",
      "Upper Left  (-155.3925000,  19.9950000) (155d23'33.00\"W, 19d59'42.00\"N)\n",
      "Lower Left  (-155.3925000,  19.0097222) (155d23'33.00\"W, 19d 0'35.00\"N)\n",
      "Upper Right (-154.5622222,  19.9950000) (154d33'44.00\"W, 19d59'42.00\"N)\n",
      "Lower Right (-154.5622222,  19.0097222) (154d33'44.00\"W, 19d 0'35.00\"N)\n",
      "Center      (-154.9773611,  19.5023611) (154d58'38.50\"W, 19d30' 8.50\"N)\n",
      "Band 1 Block=2989x1 Type=Float32, ColorInterp=Undefined\n",
      "Band 2 Block=2989x1 Type=Float32, ColorInterp=Undefined\n"
     ]
    }
   ],
   "source": [
    "#Lets look at a coherence product generated by ISCE\n",
    "# This is a two band file\n",
    "\n",
    "!gdalinfo stripmap/interferogram/topophase.cor.geo.vrt"
   ]
  },
  {
   "cell_type": "code",
   "execution_count": 20,
   "metadata": {
    "hidden": true,
    "hideCode": false,
    "hidePrompt": false,
    "scrolled": true
   },
   "outputs": [
    {
     "name": "stdout",
     "output_type": "stream",
     "text": [
      "Bands =  2\n",
      "Dimensions =  2989  x  3547\n"
     ]
    }
   ],
   "source": [
    "### ¿Cómo obtenemos esta información programáticamente?\n",
    "ds = gdal.Open('stripmap/interferogram/topophase.cor.geo.vrt', gdal.GA_ReadOnly)\n",
    "print('Bands = ', ds.RasterCount)\n",
    "print('Dimensions = ', ds.RasterXSize, ' x ', ds.RasterYSize)\n",
    "ds = None"
   ]
  },
  {
   "cell_type": "markdown",
   "metadata": {
    "heading_collapsed": true,
    "hidden": true,
    "hideCode": true,
    "hidePrompt": true
   },
   "source": [
    "### Tipos de datos"
   ]
  },
  {
   "cell_type": "markdown",
   "metadata": {
    "hidden": true,
    "hideCode": true,
    "hidePrompt": true
   },
   "source": [
    "Los siguientes tipos de datos son compatibles con GDAL:\n",
    "\n",
    "1. byte\n",
    "2. UInt16\n",
    "3. Int16\n",
    "4. UInt32\n",
    "5. Int32\n",
    "6. Flotador32\n",
    "7. Flotador64\n",
    "8. **CInt16**\n",
    "9. **CInt32**\n",
    "10. **CFloat32**\n",
    "11. **CFloat64**\n",
    "\n",
    "El hecho de que GDAL incluya soporte para números complejos lo hace significativamente más relevante que otros sistemas GIS para usar con conjuntos de datos de radar."
   ]
  },
  {
   "cell_type": "code",
   "execution_count": 21,
   "metadata": {
    "hidden": true,
    "hideCode": false,
    "hidePrompt": false,
    "scrolled": true
   },
   "outputs": [
    {
     "name": "stdout",
     "output_type": "stream",
     "text": [
      "Driver: VRT/Virtual Raster\n",
      "Files: stripmap/interferogram/topophase.flat.vrt\n",
      "       stripmap/interferogram/topophase.flat\n",
      "Size is 2781, 3456\n",
      "Corner Coordinates:\n",
      "Upper Left  (    0.0,    0.0)\n",
      "Lower Left  (    0.0, 3456.0)\n",
      "Upper Right ( 2781.0,    0.0)\n",
      "Lower Right ( 2781.0, 3456.0)\n",
      "Center      ( 1390.5, 1728.0)\n",
      "Band 1 Block=2781x1 Type=CFloat32, ColorInterp=Undefined\n"
     ]
    }
   ],
   "source": [
    "!gdalinfo stripmap/interferogram/topophase.flat.vrt"
   ]
  },
  {
   "cell_type": "code",
   "execution_count": 22,
   "metadata": {
    "hidden": true,
    "hideCode": false,
    "hidePrompt": false
   },
   "outputs": [
    {
     "name": "stdout",
     "output_type": "stream",
     "text": [
      "Float32\n"
     ]
    }
   ],
   "source": [
    "## Método programático de consulta de tipo de datos\n",
    "ds = gdal.Open('18.grd', gdal.GA_ReadOnly)\n",
    "band = ds.GetRasterBand(1)\n",
    "print(gdal.GetDataTypeName(band.DataType))\n",
    "band = None\n",
    "ds = None"
   ]
  },
  {
   "cell_type": "markdown",
   "metadata": {
    "heading_collapsed": true,
    "hidden": true,
    "hideCode": true,
    "hidePrompt": true
   },
   "source": [
    "### Sistema de coordinadas"
   ]
  },
  {
   "cell_type": "markdown",
   "metadata": {
    "hidden": true,
    "hideCode": true,
    "hidePrompt": true
   },
   "source": [
    "Aquí es donde GDAL realmente se destaca. Existen numerosas convenciones que se utilizan globalmente para representar el sistema de coordenadas de los datos de mapas. Aquí hay algunos populares:\n",
    "\n",
    "1. PROJ4 - https://proj4.org/usage/projections.html\n",
    "2. USGS - Colección de 18 números, extremadamente inutilizable\n",
    "3. OGC WKT (estándar de facto) - http://docs.opengeospatial.org/is/12-063r5/12-063r5.html\n",
    "4. Códigos EPSG (fáciles de usar) - http://spatialreference.org/ref/epsg/\n",
    "5. XML, etc.\n",
    "\n",
    "Usaremos **gdalsrsinfo** para demostrar las complicaciones involucradas en el soporte de estos sistemas de coordenadas."
   ]
  },
  {
   "cell_type": "code",
   "execution_count": 23,
   "metadata": {
    "hidden": true,
    "hideCode": false,
    "hidePrompt": false,
    "scrolled": true
   },
   "outputs": [
    {
     "name": "stdout",
     "output_type": "stream",
     "text": [
      "\n",
      "PROJ.4 : +proj=longlat +datum=WGS84 +no_defs\n",
      "\n",
      "OGC WKT1 :\n",
      "GEOGCS[\"WGS 84\",\n",
      "    DATUM[\"WGS_1984\",\n",
      "        SPHEROID[\"WGS 84\",6378137,298.257223563,\n",
      "            AUTHORITY[\"EPSG\",\"7030\"]],\n",
      "        AUTHORITY[\"EPSG\",\"6326\"]],\n",
      "    PRIMEM[\"Greenwich\",0,\n",
      "        AUTHORITY[\"EPSG\",\"8901\"]],\n",
      "    UNIT[\"degree\",0.0174532925199433,\n",
      "        AUTHORITY[\"EPSG\",\"9122\"]],\n",
      "    AXIS[\"Latitude\",NORTH],\n",
      "    AXIS[\"Longitude\",EAST],\n",
      "    AUTHORITY[\"EPSG\",\"4326\"]]\n",
      "\n",
      "OGC WKT2:2015 :\n",
      "GEODCRS[\"WGS 84\",\n",
      "    DATUM[\"World Geodetic System 1984\",\n",
      "        ELLIPSOID[\"WGS 84\",6378137,298.257223563,\n",
      "            LENGTHUNIT[\"metre\",1]]],\n",
      "    PRIMEM[\"Greenwich\",0,\n",
      "        ANGLEUNIT[\"degree\",0.0174532925199433]],\n",
      "    CS[ellipsoidal,2],\n",
      "        AXIS[\"geodetic latitude (Lat)\",north,\n",
      "            ORDER[1],\n",
      "            ANGLEUNIT[\"degree\",0.0174532925199433]],\n",
      "        AXIS[\"geodetic longitude (Lon)\",east,\n",
      "            ORDER[2],\n",
      "            ANGLEUNIT[\"degree\",0.0174532925199433]],\n",
      "    SCOPE[\"Horizontal component of 3D system.\"],\n",
      "    AREA[\"World.\"],\n",
      "    BBOX[-90,-180,90,180],\n",
      "    ID[\"EPSG\",4326]]\n",
      "\n",
      "OGC WKT2:2018 :\n",
      "GEOGCRS[\"WGS 84\",\n",
      "    ENSEMBLE[\"World Geodetic System 1984 ensemble\",\n",
      "        MEMBER[\"World Geodetic System 1984 (Transit)\"],\n",
      "        MEMBER[\"World Geodetic System 1984 (G730)\"],\n",
      "        MEMBER[\"World Geodetic System 1984 (G873)\"],\n",
      "        MEMBER[\"World Geodetic System 1984 (G1150)\"],\n",
      "        MEMBER[\"World Geodetic System 1984 (G1674)\"],\n",
      "        MEMBER[\"World Geodetic System 1984 (G1762)\"],\n",
      "        ELLIPSOID[\"WGS 84\",6378137,298.257223563,\n",
      "            LENGTHUNIT[\"metre\",1]],\n",
      "        ENSEMBLEACCURACY[2.0]],\n",
      "    PRIMEM[\"Greenwich\",0,\n",
      "        ANGLEUNIT[\"degree\",0.0174532925199433]],\n",
      "    CS[ellipsoidal,2],\n",
      "        AXIS[\"geodetic latitude (Lat)\",north,\n",
      "            ORDER[1],\n",
      "            ANGLEUNIT[\"degree\",0.0174532925199433]],\n",
      "        AXIS[\"geodetic longitude (Lon)\",east,\n",
      "            ORDER[2],\n",
      "            ANGLEUNIT[\"degree\",0.0174532925199433]],\n",
      "    USAGE[\n",
      "        SCOPE[\"Horizontal component of 3D system.\"],\n",
      "        AREA[\"World.\"],\n",
      "        BBOX[-90,-180,90,180]],\n",
      "    ID[\"EPSG\",4326]]\n",
      "\n",
      "OGC WKT1 (simple) :\n",
      "GEOGCS[\"WGS 84\",\n",
      "    DATUM[\"WGS_1984\",\n",
      "        SPHEROID[\"WGS 84\",6378137,298.257223563]],\n",
      "    PRIMEM[\"Greenwich\",0],\n",
      "    UNIT[\"degree\",0.0174532925199433]]\n",
      "\n",
      "OGC WKT1 (no CT) :\n",
      "GEOGCS[\"WGS 84\",\n",
      "    DATUM[\"WGS_1984\",\n",
      "        SPHEROID[\"WGS 84\",6378137,298.257223563]],\n",
      "    PRIMEM[\"Greenwich\",0],\n",
      "    UNIT[\"degree\",0.0174532925199433]]\n",
      "\n",
      "ESRI WKT :\n",
      "GEOGCS[\"GCS_WGS_1984\",\n",
      "    DATUM[\"D_WGS_1984\",\n",
      "        SPHEROID[\"WGS_1984\",6378137.0,298.257223563]],\n",
      "    PRIMEM[\"Greenwich\",0.0],\n",
      "    UNIT[\"Degree\",0.0174532925199433]]\n",
      "\n",
      "MAPINFO : 'Earth Projection 1, 104'\n",
      "\n",
      "XML :\n",
      "<gml:GeographicCRS gml:id=\"ogrcrs1\">\n",
      "  <gml:srsName>WGS 84</gml:srsName>\n",
      "  <gml:srsID>\n",
      "    <gml:name codeSpace=\"urn:ogc:def:crs:EPSG::\">4326</gml:name>\n",
      "  </gml:srsID>\n",
      "  <gml:usesEllipsoidalCS>\n",
      "    <gml:EllipsoidalCS gml:id=\"ogrcrs2\">\n",
      "      <gml:csName>ellipsoidal</gml:csName>\n",
      "      <gml:csID>\n",
      "        <gml:name codeSpace=\"urn:ogc:def:cs:EPSG::\">6402</gml:name>\n",
      "      </gml:csID>\n",
      "      <gml:usesAxis>\n",
      "        <gml:CoordinateSystemAxis gml:id=\"ogrcrs3\" gml:uom=\"urn:ogc:def:uom:EPSG::9102\">\n",
      "          <gml:name>Geodetic latitude</gml:name>\n",
      "          <gml:axisID>\n",
      "            <gml:name codeSpace=\"urn:ogc:def:axis:EPSG::\">9901</gml:name>\n",
      "          </gml:axisID>\n",
      "          <gml:axisAbbrev>Lat</gml:axisAbbrev>\n",
      "          <gml:axisDirection>north</gml:axisDirection>\n",
      "        </gml:CoordinateSystemAxis>\n",
      "      </gml:usesAxis>\n",
      "      <gml:usesAxis>\n",
      "        <gml:CoordinateSystemAxis gml:id=\"ogrcrs4\" gml:uom=\"urn:ogc:def:uom:EPSG::9102\">\n",
      "          <gml:name>Geodetic longitude</gml:name>\n",
      "          <gml:axisID>\n",
      "            <gml:name codeSpace=\"urn:ogc:def:axis:EPSG::\">9902</gml:name>\n",
      "          </gml:axisID>\n",
      "          <gml:axisAbbrev>Lon</gml:axisAbbrev>\n",
      "          <gml:axisDirection>east</gml:axisDirection>\n",
      "        </gml:CoordinateSystemAxis>\n",
      "      </gml:usesAxis>\n",
      "    </gml:EllipsoidalCS>\n",
      "  </gml:usesEllipsoidalCS>\n",
      "  <gml:usesGeodeticDatum>\n",
      "    <gml:GeodeticDatum gml:id=\"ogrcrs5\">\n",
      "      <gml:datumName>WGS_1984</gml:datumName>\n",
      "      <gml:datumID>\n",
      "        <gml:name codeSpace=\"urn:ogc:def:datum:EPSG::\">6326</gml:name>\n",
      "      </gml:datumID>\n",
      "      <gml:usesPrimeMeridian>\n",
      "        <gml:PrimeMeridian gml:id=\"ogrcrs6\">\n",
      "          <gml:meridianName>Greenwich</gml:meridianName>\n",
      "          <gml:meridianID>\n",
      "            <gml:name codeSpace=\"urn:ogc:def:meridian:EPSG::\">8901</gml:name>\n",
      "          </gml:meridianID>\n",
      "          <gml:greenwichLongitude>\n",
      "            <gml:angle uom=\"urn:ogc:def:uom:EPSG::9102\">0</gml:angle>\n",
      "          </gml:greenwichLongitude>\n",
      "        </gml:PrimeMeridian>\n",
      "      </gml:usesPrimeMeridian>\n",
      "      <gml:usesEllipsoid>\n",
      "        <gml:Ellipsoid gml:id=\"ogrcrs7\">\n",
      "          <gml:ellipsoidName>WGS 84</gml:ellipsoidName>\n",
      "          <gml:ellipsoidID>\n",
      "            <gml:name codeSpace=\"urn:ogc:def:ellipsoid:EPSG::\">7030</gml:name>\n",
      "          </gml:ellipsoidID>\n",
      "          <gml:semiMajorAxis uom=\"urn:ogc:def:uom:EPSG::9001\">6378137</gml:semiMajorAxis>\n",
      "          <gml:secondDefiningParameter>\n",
      "            <gml:inverseFlattening uom=\"urn:ogc:def:uom:EPSG::9201\">298.257223563</gml:inverseFlattening>\n",
      "          </gml:secondDefiningParameter>\n",
      "        </gml:Ellipsoid>\n",
      "      </gml:usesEllipsoid>\n",
      "    </gml:GeodeticDatum>\n",
      "  </gml:usesGeodeticDatum>\n",
      "</gml:GeographicCRS>\n",
      "\n",
      "\n",
      "PROJJSON :\n",
      "{\n",
      "  \"$schema\": \"https://proj.org/schemas/v0.2/projjson.schema.json\",\n",
      "  \"type\": \"GeographicCRS\",\n",
      "  \"name\": \"WGS 84\",\n",
      "  \"datum_ensemble\": {\n",
      "    \"name\": \"World Geodetic System 1984 ensemble\",\n",
      "    \"members\": [\n",
      "      {\n",
      "        \"name\": \"World Geodetic System 1984 (Transit)\",\n",
      "        \"id\": {\n",
      "          \"authority\": \"EPSG\",\n",
      "          \"code\": 1166\n",
      "        }\n",
      "      },\n",
      "      {\n",
      "        \"name\": \"World Geodetic System 1984 (G730)\",\n",
      "        \"id\": {\n",
      "          \"authority\": \"EPSG\",\n",
      "          \"code\": 1152\n",
      "        }\n",
      "      },\n",
      "      {\n",
      "        \"name\": \"World Geodetic System 1984 (G873)\",\n",
      "        \"id\": {\n",
      "          \"authority\": \"EPSG\",\n",
      "          \"code\": 1153\n",
      "        }\n",
      "      },\n",
      "      {\n",
      "        \"name\": \"World Geodetic System 1984 (G1150)\",\n",
      "        \"id\": {\n",
      "          \"authority\": \"EPSG\",\n",
      "          \"code\": 1154\n",
      "        }\n",
      "      },\n",
      "      {\n",
      "        \"name\": \"World Geodetic System 1984 (G1674)\",\n",
      "        \"id\": {\n",
      "          \"authority\": \"EPSG\",\n",
      "          \"code\": 1155\n",
      "        }\n",
      "      },\n",
      "      {\n",
      "        \"name\": \"World Geodetic System 1984 (G1762)\",\n",
      "        \"id\": {\n",
      "          \"authority\": \"EPSG\",\n",
      "          \"code\": 1156\n",
      "        }\n",
      "      }\n",
      "    ],\n",
      "    \"ellipsoid\": {\n",
      "      \"name\": \"WGS 84\",\n",
      "      \"semi_major_axis\": 6378137,\n",
      "      \"inverse_flattening\": 298.257223563\n",
      "    },\n",
      "    \"accuracy\": \"2.0\",\n",
      "    \"id\": {\n",
      "      \"authority\": \"EPSG\",\n",
      "      \"code\": 6326\n",
      "    }\n",
      "  },\n",
      "  \"coordinate_system\": {\n",
      "    \"subtype\": \"ellipsoidal\",\n",
      "    \"axis\": [\n",
      "      {\n",
      "        \"name\": \"Geodetic latitude\",\n",
      "        \"abbreviation\": \"Lat\",\n",
      "        \"direction\": \"north\",\n",
      "        \"unit\": \"degree\"\n",
      "      },\n",
      "      {\n",
      "        \"name\": \"Geodetic longitude\",\n",
      "        \"abbreviation\": \"Lon\",\n",
      "        \"direction\": \"east\",\n",
      "        \"unit\": \"degree\"\n",
      "      }\n",
      "    ]\n",
      "  },\n",
      "  \"scope\": \"Horizontal component of 3D system.\",\n",
      "  \"area\": \"World.\",\n",
      "  \"bbox\": {\n",
      "    \"south_latitude\": -90,\n",
      "    \"west_longitude\": -180,\n",
      "    \"north_latitude\": 90,\n",
      "    \"east_longitude\": 180\n",
      "  },\n",
      "  \"id\": {\n",
      "    \"authority\": \"EPSG\",\n",
      "    \"code\": 4326\n",
      "  }\n",
      "}\n",
      "\n"
     ]
    }
   ],
   "source": [
    "##La proyección latitud/longitud WGS84 simple tiene el código EPSG 4326.\n",
    "##Para ver todas las representaciones equivalentes de este sistema\n",
    "!gdalsrsinfo -o all EPSG:4326"
   ]
  },
  {
   "cell_type": "code",
   "execution_count": 24,
   "metadata": {
    "hidden": true,
    "hideCode": false,
    "hidePrompt": false,
    "scrolled": true
   },
   "outputs": [
    {
     "name": "stdout",
     "output_type": "stream",
     "text": [
      "\n",
      "PROJ.4 : +proj=utm +zone=20 +datum=WGS84 +units=m +no_defs\n",
      "\n",
      "OGC WKT1 :\n",
      "PROJCS[\"WGS 84 / UTM zone 20N\",\n",
      "    GEOGCS[\"WGS 84\",\n",
      "        DATUM[\"WGS_1984\",\n",
      "            SPHEROID[\"WGS 84\",6378137,298.257223563,\n",
      "                AUTHORITY[\"EPSG\",\"7030\"]],\n",
      "            AUTHORITY[\"EPSG\",\"6326\"]],\n",
      "        PRIMEM[\"Greenwich\",0,\n",
      "            AUTHORITY[\"EPSG\",\"8901\"]],\n",
      "        UNIT[\"degree\",0.0174532925199433,\n",
      "            AUTHORITY[\"EPSG\",\"9122\"]],\n",
      "        AUTHORITY[\"EPSG\",\"4326\"]],\n",
      "    PROJECTION[\"Transverse_Mercator\"],\n",
      "    PARAMETER[\"latitude_of_origin\",0],\n",
      "    PARAMETER[\"central_meridian\",-63],\n",
      "    PARAMETER[\"scale_factor\",0.9996],\n",
      "    PARAMETER[\"false_easting\",500000],\n",
      "    PARAMETER[\"false_northing\",0],\n",
      "    UNIT[\"metre\",1,\n",
      "        AUTHORITY[\"EPSG\",\"9001\"]],\n",
      "    AXIS[\"Easting\",EAST],\n",
      "    AXIS[\"Northing\",NORTH],\n",
      "    AUTHORITY[\"EPSG\",\"32620\"]]\n",
      "\n",
      "OGC WKT2:2015 :\n",
      "PROJCRS[\"WGS 84 / UTM zone 20N\",\n",
      "    BASEGEODCRS[\"WGS 84\",\n",
      "        DATUM[\"World Geodetic System 1984\",\n",
      "            ELLIPSOID[\"WGS 84\",6378137,298.257223563,\n",
      "                LENGTHUNIT[\"metre\",1]]],\n",
      "        PRIMEM[\"Greenwich\",0,\n",
      "            ANGLEUNIT[\"degree\",0.0174532925199433]]],\n",
      "    CONVERSION[\"UTM zone 20N\",\n",
      "        METHOD[\"Transverse Mercator\",\n",
      "            ID[\"EPSG\",9807]],\n",
      "        PARAMETER[\"Latitude of natural origin\",0,\n",
      "            ANGLEUNIT[\"degree\",0.0174532925199433],\n",
      "            ID[\"EPSG\",8801]],\n",
      "        PARAMETER[\"Longitude of natural origin\",-63,\n",
      "            ANGLEUNIT[\"degree\",0.0174532925199433],\n",
      "            ID[\"EPSG\",8802]],\n",
      "        PARAMETER[\"Scale factor at natural origin\",0.9996,\n",
      "            SCALEUNIT[\"unity\",1],\n",
      "            ID[\"EPSG\",8805]],\n",
      "        PARAMETER[\"False easting\",500000,\n",
      "            LENGTHUNIT[\"metre\",1],\n",
      "            ID[\"EPSG\",8806]],\n",
      "        PARAMETER[\"False northing\",0,\n",
      "            LENGTHUNIT[\"metre\",1],\n",
      "            ID[\"EPSG\",8807]]],\n",
      "    CS[Cartesian,2],\n",
      "        AXIS[\"(E)\",east,\n",
      "            ORDER[1],\n",
      "            LENGTHUNIT[\"metre\",1]],\n",
      "        AXIS[\"(N)\",north,\n",
      "            ORDER[2],\n",
      "            LENGTHUNIT[\"metre\",1]],\n",
      "    SCOPE[\"Engineering survey, topographic mapping.\"],\n",
      "    AREA[\"Between 66°W and 60°W, northern hemisphere between equator and 84°N, onshore and offshore. Anguilla. Antigua and Barbuda. Bermuda. Brazil. British Virgin Islands. Canada - New Brunswick; Labrador; Nova Scotia; Nunavut; Prince Edward Island; Quebec. Dominica. Greenland. Grenada. Guadeloupe. Guyana. Martinique. Montserrat. Puerto Rico. St Kitts and Nevis. St Lucia. St Vncent and the Grenadines. Trinidad and Tobago. Venezuela. US Virgin Islands.\"],\n",
      "    BBOX[0,-66,84,-60],\n",
      "    ID[\"EPSG\",32620]]\n",
      "\n",
      "OGC WKT2:2018 :\n",
      "PROJCRS[\"WGS 84 / UTM zone 20N\",\n",
      "    BASEGEOGCRS[\"WGS 84\",\n",
      "        ENSEMBLE[\"World Geodetic System 1984 ensemble\",\n",
      "            MEMBER[\"World Geodetic System 1984 (Transit)\"],\n",
      "            MEMBER[\"World Geodetic System 1984 (G730)\"],\n",
      "            MEMBER[\"World Geodetic System 1984 (G873)\"],\n",
      "            MEMBER[\"World Geodetic System 1984 (G1150)\"],\n",
      "            MEMBER[\"World Geodetic System 1984 (G1674)\"],\n",
      "            MEMBER[\"World Geodetic System 1984 (G1762)\"],\n",
      "            ELLIPSOID[\"WGS 84\",6378137,298.257223563,\n",
      "                LENGTHUNIT[\"metre\",1]],\n",
      "            ENSEMBLEACCURACY[2.0]],\n",
      "        PRIMEM[\"Greenwich\",0,\n",
      "            ANGLEUNIT[\"degree\",0.0174532925199433]],\n",
      "        ID[\"EPSG\",4326]],\n",
      "    CONVERSION[\"UTM zone 20N\",\n",
      "        METHOD[\"Transverse Mercator\",\n",
      "            ID[\"EPSG\",9807]],\n",
      "        PARAMETER[\"Latitude of natural origin\",0,\n",
      "            ANGLEUNIT[\"degree\",0.0174532925199433],\n",
      "            ID[\"EPSG\",8801]],\n",
      "        PARAMETER[\"Longitude of natural origin\",-63,\n",
      "            ANGLEUNIT[\"degree\",0.0174532925199433],\n",
      "            ID[\"EPSG\",8802]],\n",
      "        PARAMETER[\"Scale factor at natural origin\",0.9996,\n",
      "            SCALEUNIT[\"unity\",1],\n",
      "            ID[\"EPSG\",8805]],\n",
      "        PARAMETER[\"False easting\",500000,\n",
      "            LENGTHUNIT[\"metre\",1],\n",
      "            ID[\"EPSG\",8806]],\n",
      "        PARAMETER[\"False northing\",0,\n",
      "            LENGTHUNIT[\"metre\",1],\n",
      "            ID[\"EPSG\",8807]]],\n",
      "    CS[Cartesian,2],\n",
      "        AXIS[\"(E)\",east,\n",
      "            ORDER[1],\n",
      "            LENGTHUNIT[\"metre\",1]],\n",
      "        AXIS[\"(N)\",north,\n",
      "            ORDER[2],\n",
      "            LENGTHUNIT[\"metre\",1]],\n",
      "    USAGE[\n",
      "        SCOPE[\"Engineering survey, topographic mapping.\"],\n",
      "        AREA[\"Between 66°W and 60°W, northern hemisphere between equator and 84°N, onshore and offshore. Anguilla. Antigua and Barbuda. Bermuda. Brazil. British Virgin Islands. Canada - New Brunswick; Labrador; Nova Scotia; Nunavut; Prince Edward Island; Quebec. Dominica. Greenland. Grenada. Guadeloupe. Guyana. Martinique. Montserrat. Puerto Rico. St Kitts and Nevis. St Lucia. St Vncent and the Grenadines. Trinidad and Tobago. Venezuela. US Virgin Islands.\"],\n",
      "        BBOX[0,-66,84,-60]],\n",
      "    ID[\"EPSG\",32620]]\n",
      "\n",
      "OGC WKT1 (simple) :\n",
      "PROJCS[\"WGS 84 / UTM zone 20N\",\n",
      "    GEOGCS[\"WGS 84\",\n",
      "        DATUM[\"WGS_1984\",\n",
      "            SPHEROID[\"WGS 84\",6378137,298.257223563]],\n",
      "        PRIMEM[\"Greenwich\",0],\n",
      "        UNIT[\"degree\",0.0174532925199433]],\n",
      "    PROJECTION[\"Transverse_Mercator\"],\n",
      "    PARAMETER[\"latitude_of_origin\",0],\n",
      "    PARAMETER[\"central_meridian\",-63],\n",
      "    PARAMETER[\"scale_factor\",0.9996],\n",
      "    PARAMETER[\"false_easting\",500000],\n",
      "    PARAMETER[\"false_northing\",0],\n",
      "    UNIT[\"metre\",1]]\n",
      "\n",
      "OGC WKT1 (no CT) :\n",
      "PROJCS[\"WGS 84 / UTM zone 20N\",\n",
      "    GEOGCS[\"WGS 84\",\n",
      "        DATUM[\"WGS_1984\",\n",
      "            SPHEROID[\"WGS 84\",6378137,298.257223563]],\n",
      "        PRIMEM[\"Greenwich\",0],\n",
      "        UNIT[\"degree\",0.0174532925199433]],\n",
      "    PROJECTION[\"Transverse_Mercator\"],\n",
      "    PARAMETER[\"latitude_of_origin\",0],\n",
      "    PARAMETER[\"central_meridian\",-63],\n",
      "    PARAMETER[\"scale_factor\",0.9996],\n",
      "    PARAMETER[\"false_easting\",500000],\n",
      "    PARAMETER[\"false_northing\",0],\n",
      "    UNIT[\"metre\",1]]\n",
      "\n",
      "ESRI WKT :\n",
      "PROJCS[\"WGS_1984_UTM_Zone_20N\",\n",
      "    GEOGCS[\"GCS_WGS_1984\",\n",
      "        DATUM[\"D_WGS_1984\",\n",
      "            SPHEROID[\"WGS_1984\",6378137.0,298.257223563]],\n",
      "        PRIMEM[\"Greenwich\",0.0],\n",
      "        UNIT[\"Degree\",0.0174532925199433]],\n",
      "    PROJECTION[\"Transverse_Mercator\"],\n",
      "    PARAMETER[\"False_Easting\",500000.0],\n",
      "    PARAMETER[\"False_Northing\",0.0],\n",
      "    PARAMETER[\"Central_Meridian\",-63.0],\n",
      "    PARAMETER[\"Scale_Factor\",0.9996],\n",
      "    PARAMETER[\"Latitude_Of_Origin\",0.0],\n",
      "    UNIT[\"Meter\",1.0]]\n",
      "\n",
      "MAPINFO : 'Earth Projection 8, 104, \"m\", -63, 0, 0.9996, 500000, 0'\n",
      "\n",
      "XML :\n",
      "<gml:ProjectedCRS gml:id=\"ogrcrs1\">\n",
      "  <gml:srsName>WGS 84 / UTM zone 20N</gml:srsName>\n",
      "  <gml:srsID>\n",
      "    <gml:name codeSpace=\"urn:ogc:def:crs:EPSG::\">32620</gml:name>\n",
      "  </gml:srsID>\n",
      "  <gml:baseCRS>\n",
      "    <gml:GeographicCRS gml:id=\"ogrcrs2\">\n",
      "      <gml:srsName>WGS 84</gml:srsName>\n",
      "      <gml:srsID>\n",
      "        <gml:name codeSpace=\"urn:ogc:def:crs:EPSG::\">4326</gml:name>\n",
      "      </gml:srsID>\n",
      "      <gml:usesEllipsoidalCS>\n",
      "        <gml:EllipsoidalCS gml:id=\"ogrcrs3\">\n",
      "          <gml:csName>ellipsoidal</gml:csName>\n",
      "          <gml:csID>\n",
      "            <gml:name codeSpace=\"urn:ogc:def:cs:EPSG::\">6402</gml:name>\n",
      "          </gml:csID>\n",
      "          <gml:usesAxis>\n",
      "            <gml:CoordinateSystemAxis gml:id=\"ogrcrs4\" gml:uom=\"urn:ogc:def:uom:EPSG::9102\">\n",
      "              <gml:name>Geodetic latitude</gml:name>\n",
      "              <gml:axisID>\n",
      "                <gml:name codeSpace=\"urn:ogc:def:axis:EPSG::\">9901</gml:name>\n",
      "              </gml:axisID>\n",
      "              <gml:axisAbbrev>Lat</gml:axisAbbrev>\n",
      "              <gml:axisDirection>north</gml:axisDirection>\n",
      "            </gml:CoordinateSystemAxis>\n",
      "          </gml:usesAxis>\n",
      "          <gml:usesAxis>\n",
      "            <gml:CoordinateSystemAxis gml:id=\"ogrcrs5\" gml:uom=\"urn:ogc:def:uom:EPSG::9102\">\n",
      "              <gml:name>Geodetic longitude</gml:name>\n",
      "              <gml:axisID>\n",
      "                <gml:name codeSpace=\"urn:ogc:def:axis:EPSG::\">9902</gml:name>\n",
      "              </gml:axisID>\n",
      "              <gml:axisAbbrev>Lon</gml:axisAbbrev>\n",
      "              <gml:axisDirection>east</gml:axisDirection>\n",
      "            </gml:CoordinateSystemAxis>\n",
      "          </gml:usesAxis>\n",
      "        </gml:EllipsoidalCS>\n",
      "      </gml:usesEllipsoidalCS>\n",
      "      <gml:usesGeodeticDatum>\n",
      "        <gml:GeodeticDatum gml:id=\"ogrcrs6\">\n",
      "          <gml:datumName>WGS_1984</gml:datumName>\n",
      "          <gml:datumID>\n",
      "            <gml:name codeSpace=\"urn:ogc:def:datum:EPSG::\">6326</gml:name>\n",
      "          </gml:datumID>\n",
      "          <gml:usesPrimeMeridian>\n",
      "            <gml:PrimeMeridian gml:id=\"ogrcrs7\">\n",
      "              <gml:meridianName>Greenwich</gml:meridianName>\n",
      "              <gml:meridianID>\n",
      "                <gml:name codeSpace=\"urn:ogc:def:meridian:EPSG::\">8901</gml:name>\n",
      "              </gml:meridianID>\n",
      "              <gml:greenwichLongitude>\n",
      "                <gml:angle uom=\"urn:ogc:def:uom:EPSG::9102\">0</gml:angle>\n",
      "              </gml:greenwichLongitude>\n",
      "            </gml:PrimeMeridian>\n",
      "          </gml:usesPrimeMeridian>\n",
      "          <gml:usesEllipsoid>\n",
      "            <gml:Ellipsoid gml:id=\"ogrcrs8\">\n",
      "              <gml:ellipsoidName>WGS 84</gml:ellipsoidName>\n",
      "              <gml:ellipsoidID>\n",
      "                <gml:name codeSpace=\"urn:ogc:def:ellipsoid:EPSG::\">7030</gml:name>\n",
      "              </gml:ellipsoidID>\n",
      "              <gml:semiMajorAxis uom=\"urn:ogc:def:uom:EPSG::9001\">6378137</gml:semiMajorAxis>\n",
      "              <gml:secondDefiningParameter>\n",
      "                <gml:inverseFlattening uom=\"urn:ogc:def:uom:EPSG::9201\">298.257223563</gml:inverseFlattening>\n",
      "              </gml:secondDefiningParameter>\n",
      "            </gml:Ellipsoid>\n",
      "          </gml:usesEllipsoid>\n",
      "        </gml:GeodeticDatum>\n",
      "      </gml:usesGeodeticDatum>\n",
      "    </gml:GeographicCRS>\n",
      "  </gml:baseCRS>\n",
      "  <gml:definedByConversion>\n",
      "    <gml:Conversion gml:id=\"ogrcrs9\">\n",
      "      <gml:coordinateOperationName>Transverse_Mercator</gml:coordinateOperationName>\n",
      "      <gml:usesMethod xlink:href=\"urn:ogc:def:method:EPSG::9807\" />\n",
      "      <gml:usesValue>\n",
      "        <gml:value uom=\"urn:ogc:def:uom:EPSG::9102\">0</gml:value>\n",
      "        <gml:valueOfParameter xlink:href=\"urn:ogc:def:parameter:EPSG::8801\" />\n",
      "      </gml:usesValue>\n",
      "      <gml:usesValue>\n",
      "        <gml:value uom=\"urn:ogc:def:uom:EPSG::9102\">-63</gml:value>\n",
      "        <gml:valueOfParameter xlink:href=\"urn:ogc:def:parameter:EPSG::8802\" />\n",
      "      </gml:usesValue>\n",
      "      <gml:usesValue>\n",
      "        <gml:value uom=\"urn:ogc:def:uom:EPSG::9001\">0.9996</gml:value>\n",
      "        <gml:valueOfParameter xlink:href=\"urn:ogc:def:parameter:EPSG::8805\" />\n",
      "      </gml:usesValue>\n",
      "      <gml:usesValue>\n",
      "        <gml:value uom=\"urn:ogc:def:uom:EPSG::9001\">500000</gml:value>\n",
      "        <gml:valueOfParameter xlink:href=\"urn:ogc:def:parameter:EPSG::8806\" />\n",
      "      </gml:usesValue>\n",
      "      <gml:usesValue>\n",
      "        <gml:value uom=\"urn:ogc:def:uom:EPSG::9001\">0</gml:value>\n",
      "        <gml:valueOfParameter xlink:href=\"urn:ogc:def:parameter:EPSG::8807\" />\n",
      "      </gml:usesValue>\n",
      "    </gml:Conversion>\n",
      "  </gml:definedByConversion>\n",
      "  <gml:usesCartesianCS>\n",
      "    <gml:CartesianCS gml:id=\"ogrcrs10\">\n",
      "      <gml:csName>Cartesian</gml:csName>\n",
      "      <gml:csID>\n",
      "        <gml:name codeSpace=\"urn:ogc:def:cs:EPSG::\">4400</gml:name>\n",
      "      </gml:csID>\n",
      "      <gml:usesAxis>\n",
      "        <gml:CoordinateSystemAxis gml:id=\"ogrcrs11\" gml:uom=\"urn:ogc:def:uom:EPSG::9001\">\n",
      "          <gml:name>Easting</gml:name>\n",
      "          <gml:axisID>\n",
      "            <gml:name codeSpace=\"urn:ogc:def:axis:EPSG::\">9906</gml:name>\n",
      "          </gml:axisID>\n",
      "          <gml:axisAbbrev>E</gml:axisAbbrev>\n",
      "          <gml:axisDirection>east</gml:axisDirection>\n",
      "        </gml:CoordinateSystemAxis>\n",
      "      </gml:usesAxis>\n",
      "      <gml:usesAxis>\n",
      "        <gml:CoordinateSystemAxis gml:id=\"ogrcrs12\" gml:uom=\"urn:ogc:def:uom:EPSG::9001\">\n",
      "          <gml:name>Northing</gml:name>\n",
      "          <gml:axisID>\n",
      "            <gml:name codeSpace=\"urn:ogc:def:axis:EPSG::\">9907</gml:name>\n",
      "          </gml:axisID>\n",
      "          <gml:axisAbbrev>N</gml:axisAbbrev>\n",
      "          <gml:axisDirection>north</gml:axisDirection>\n",
      "        </gml:CoordinateSystemAxis>\n",
      "      </gml:usesAxis>\n",
      "    </gml:CartesianCS>\n",
      "  </gml:usesCartesianCS>\n",
      "</gml:ProjectedCRS>\n",
      "\n",
      "\n",
      "PROJJSON :\n",
      "{\n",
      "  \"$schema\": \"https://proj.org/schemas/v0.2/projjson.schema.json\",\n",
      "  \"type\": \"ProjectedCRS\",\n",
      "  \"name\": \"WGS 84 / UTM zone 20N\",\n",
      "  \"base_crs\": {\n",
      "    \"name\": \"WGS 84\",\n",
      "    \"datum_ensemble\": {\n",
      "      \"name\": \"World Geodetic System 1984 ensemble\",\n",
      "      \"members\": [\n",
      "        {\n",
      "          \"name\": \"World Geodetic System 1984 (Transit)\",\n",
      "          \"id\": {\n",
      "            \"authority\": \"EPSG\",\n",
      "            \"code\": 1166\n",
      "          }\n",
      "        },\n",
      "        {\n",
      "          \"name\": \"World Geodetic System 1984 (G730)\",\n",
      "          \"id\": {\n",
      "            \"authority\": \"EPSG\",\n",
      "            \"code\": 1152\n",
      "          }\n",
      "        },\n",
      "        {\n",
      "          \"name\": \"World Geodetic System 1984 (G873)\",\n",
      "          \"id\": {\n",
      "            \"authority\": \"EPSG\",\n",
      "            \"code\": 1153\n",
      "          }\n",
      "        },\n",
      "        {\n",
      "          \"name\": \"World Geodetic System 1984 (G1150)\",\n",
      "          \"id\": {\n",
      "            \"authority\": \"EPSG\",\n",
      "            \"code\": 1154\n",
      "          }\n",
      "        },\n",
      "        {\n",
      "          \"name\": \"World Geodetic System 1984 (G1674)\",\n",
      "          \"id\": {\n",
      "            \"authority\": \"EPSG\",\n",
      "            \"code\": 1155\n",
      "          }\n",
      "        },\n",
      "        {\n",
      "          \"name\": \"World Geodetic System 1984 (G1762)\",\n",
      "          \"id\": {\n",
      "            \"authority\": \"EPSG\",\n",
      "            \"code\": 1156\n",
      "          }\n",
      "        }\n",
      "      ],\n",
      "      \"ellipsoid\": {\n",
      "        \"name\": \"WGS 84\",\n",
      "        \"semi_major_axis\": 6378137,\n",
      "        \"inverse_flattening\": 298.257223563\n",
      "      },\n",
      "      \"accuracy\": \"2.0\",\n",
      "      \"id\": {\n",
      "        \"authority\": \"EPSG\",\n",
      "        \"code\": 6326\n",
      "      }\n",
      "    },\n",
      "    \"coordinate_system\": {\n",
      "      \"subtype\": \"ellipsoidal\",\n",
      "      \"axis\": [\n",
      "        {\n",
      "          \"name\": \"Geodetic latitude\",\n",
      "          \"abbreviation\": \"Lat\",\n",
      "          \"direction\": \"north\",\n",
      "          \"unit\": \"degree\"\n",
      "        },\n",
      "        {\n",
      "          \"name\": \"Geodetic longitude\",\n",
      "          \"abbreviation\": \"Lon\",\n",
      "          \"direction\": \"east\",\n",
      "          \"unit\": \"degree\"\n",
      "        }\n",
      "      ]\n",
      "    },\n",
      "    \"id\": {\n",
      "      \"authority\": \"EPSG\",\n",
      "      \"code\": 4326\n",
      "    }\n",
      "  },\n",
      "  \"conversion\": {\n",
      "    \"name\": \"UTM zone 20N\",\n",
      "    \"method\": {\n",
      "      \"name\": \"Transverse Mercator\",\n",
      "      \"id\": {\n",
      "        \"authority\": \"EPSG\",\n",
      "        \"code\": 9807\n",
      "      }\n",
      "    },\n",
      "    \"parameters\": [\n",
      "      {\n",
      "        \"name\": \"Latitude of natural origin\",\n",
      "        \"value\": 0,\n",
      "        \"unit\": \"degree\",\n",
      "        \"id\": {\n",
      "          \"authority\": \"EPSG\",\n",
      "          \"code\": 8801\n",
      "        }\n",
      "      },\n",
      "      {\n",
      "        \"name\": \"Longitude of natural origin\",\n",
      "        \"value\": -63,\n",
      "        \"unit\": \"degree\",\n",
      "        \"id\": {\n",
      "          \"authority\": \"EPSG\",\n",
      "          \"code\": 8802\n",
      "        }\n",
      "      },\n",
      "      {\n",
      "        \"name\": \"Scale factor at natural origin\",\n",
      "        \"value\": 0.9996,\n",
      "        \"unit\": \"unity\",\n",
      "        \"id\": {\n",
      "          \"authority\": \"EPSG\",\n",
      "          \"code\": 8805\n",
      "        }\n",
      "      },\n",
      "      {\n",
      "        \"name\": \"False easting\",\n",
      "        \"value\": 500000,\n",
      "        \"unit\": \"metre\",\n",
      "        \"id\": {\n",
      "          \"authority\": \"EPSG\",\n",
      "          \"code\": 8806\n",
      "        }\n",
      "      },\n",
      "      {\n",
      "        \"name\": \"False northing\",\n",
      "        \"value\": 0,\n",
      "        \"unit\": \"metre\",\n",
      "        \"id\": {\n",
      "          \"authority\": \"EPSG\",\n",
      "          \"code\": 8807\n",
      "        }\n",
      "      }\n",
      "    ]\n",
      "  },\n",
      "  \"coordinate_system\": {\n",
      "    \"subtype\": \"Cartesian\",\n",
      "    \"axis\": [\n",
      "      {\n",
      "        \"name\": \"Easting\",\n",
      "        \"abbreviation\": \"E\",\n",
      "        \"direction\": \"east\",\n",
      "        \"unit\": \"metre\"\n",
      "      },\n",
      "      {\n",
      "        \"name\": \"Northing\",\n",
      "        \"abbreviation\": \"N\",\n",
      "        \"direction\": \"north\",\n",
      "        \"unit\": \"metre\"\n",
      "      }\n",
      "    ]\n",
      "  },\n",
      "  \"scope\": \"Engineering survey, topographic mapping.\",\n",
      "  \"area\": \"Between 66°W and 60°W, northern hemisphere between equator and 84°N, onshore and offshore. Anguilla. Antigua and Barbuda. Bermuda. Brazil. British Virgin Islands. Canada - New Brunswick; Labrador; Nova Scotia; Nunavut; Prince Edward Island; Quebec. Dominica. Greenland. Grenada. Guadeloupe. Guyana. Martinique. Montserrat. Puerto Rico. St Kitts and Nevis. St Lucia. St Vncent and the Grenadines. Trinidad and Tobago. Venezuela. US Virgin Islands.\",\n",
      "  \"bbox\": {\n",
      "    \"south_latitude\": 0,\n",
      "    \"west_longitude\": -66,\n",
      "    \"north_latitude\": 84,\n",
      "    \"east_longitude\": -60\n",
      "  },\n",
      "  \"id\": {\n",
      "    \"authority\": \"EPSG\",\n",
      "    \"code\": 32620\n",
      "  }\n",
      "}\n",
      "\n"
     ]
    }
   ],
   "source": [
    "## Veamos la zona UTM 20N\n",
    "!gdalsrsinfo -o all EPSG:32620"
   ]
  },
  {
   "cell_type": "markdown",
   "metadata": {
    "hidden": true,
    "hideCode": true,
    "hidePrompt": true
   },
   "source": [
    "También puede usar **gdalsrsinfo** para consultar el sistema de coordenadas de un producto ráster dado en un formato específico."
   ]
  },
  {
   "cell_type": "code",
   "execution_count": 25,
   "metadata": {
    "hidden": true,
    "hideCode": false,
    "hidePrompt": false
   },
   "outputs": [
    {
     "name": "stdout",
     "output_type": "stream",
     "text": [
      "\n",
      "+proj=longlat +datum=WGS84 +no_defs\n",
      "\n"
     ]
    }
   ],
   "source": [
    "##Obtener información de proyección para un archivo ráster\n",
    "!gdalsrsinfo -o proj4  N33W119_wgs84.tif"
   ]
  },
  {
   "cell_type": "code",
   "execution_count": 26,
   "metadata": {},
   "outputs": [
    {
     "name": "stdout",
     "output_type": "stream",
     "text": [
      "\n",
      "+proj=longlat +datum=WGS84 +no_defs\n",
      "\n"
     ]
    }
   ],
   "source": [
    "## Obtener información de proyección para otro archivo ráster que tenga la información de proyección\n",
    "!gdalsrsinfo -o proj4 elevation.dem"
   ]
  },
  {
   "cell_type": "code",
   "execution_count": 27,
   "metadata": {
    "hidden": true,
    "hideCode": false,
    "hidePrompt": false
   },
   "outputs": [
    {
     "name": "stdout",
     "output_type": "stream",
     "text": [
      "GEOGCS[\"WGS 84\",DATUM[\"WGS_1984\",SPHEROID[\"WGS 84\",6378137,298.257223563,AUTHORITY[\"EPSG\",\"7030\"]],AUTHORITY[\"EPSG\",\"6326\"]],PRIMEM[\"Greenwich\",0],UNIT[\"degree\",0.0174532925199433,AUTHORITY[\"EPSG\",\"9122\"]],AXIS[\"Latitude\",NORTH],AXIS[\"Longitude\",EAST],AUTHORITY[\"EPSG\",\"4326\"]]\n"
     ]
    },
    {
     "data": {
      "text/plain": [
       "'+proj=longlat +datum=WGS84 +no_defs'"
      ]
     },
     "execution_count": 27,
     "metadata": {},
     "output_type": "execute_result"
    }
   ],
   "source": [
    "###Método programático de consulta de referencia espacial\n",
    "ds = gdal.Open('N33W119_wgs84.tif', gdal.GA_ReadOnly)\n",
    "srs = ds.GetProjectionRef()\n",
    "ds = None\n",
    "print(srs)\n",
    "\n",
    "ref = osr.SpatialReference()\n",
    "ref.ImportFromWkt(srs)\n",
    "ref.ExportToProj4()"
   ]
  },
  {
   "cell_type": "markdown",
   "metadata": {
    "hidden": true,
    "hideCode": true,
    "hidePrompt": true
   },
   "source": [
    "Cuando usa **gdalsrsinfo** en un ráster que no tiene la información del sistema de coordenadas, o como suele ser el caso con productos de radar en geometría de radar, debería generar un error."
   ]
  },
  {
   "cell_type": "code",
   "execution_count": 28,
   "metadata": {
    "hidden": true,
    "hideCode": false,
    "hidePrompt": false
   },
   "outputs": [
    {
     "name": "stdout",
     "output_type": "stream",
     "text": [
      "ERROR 1: ERROR - failed to load SRS definition from 18.grd\n"
     ]
    }
   ],
   "source": [
    "##Esto debería generar un error.\n",
    "!gdalsrsinfo 18.grd"
   ]
  },
  {
   "cell_type": "code",
   "execution_count": 29,
   "metadata": {
    "hidden": true,
    "hideCode": false,
    "hidePrompt": false
   },
   "outputs": [
    {
     "name": "stdout",
     "output_type": "stream",
     "text": [
      "ERROR 1: ERROR - failed to load SRS definition from stripmap/topophase.cor\n"
     ]
    }
   ],
   "source": [
    "##Esto debería generar un error.\n",
    "!gdalsrsinfo stripmap/topophase.cor"
   ]
  },
  {
   "cell_type": "markdown",
   "metadata": {
    "heading_collapsed": true,
    "hidden": true,
    "hideCode": true,
    "hidePrompt": true
   },
   "source": [
    "### Coordenadas en un mapa"
   ]
  },
  {
   "cell_type": "markdown",
   "metadata": {
    "hidden": true,
    "hideCode": true,
    "hidePrompt": true
   },
   "source": [
    "En la subsección anterior, discutimos los sistemas de coordenadas. En esta sección, hablamos sobre cómo GDAL asocia una ubicación de línea/píxel en un ráster con coordenadas de mapa.\n",
    "\n",
    "GDAL utiliza un sistema afín simple para traducir la ubicación (píxel, línea) a las coordenadas (X, Y) en las coordenadas del mapa. El sistema afín está representado por 6 números de doble precisión conocidos colectivamente como ''GeoTransform''.\n",
    "\n",
    "**Arriba a la izquierda** la coordenada del mapa de un píxel representado por el número de píxel (P) y el número de línea (L) en la indexación de C/Python viene dada por\n",
    "\n",
    "$$\\begin{equation*}\n",
    "\\left[ \\begin{array}{c}\n",
    "X_{left} \\\\\n",
    "Y_{top}\n",
    "\\end{array} \\right] = \\left[ \\begin{array}{c}\n",
    "G_0 \\\\\n",
    "G_3 \\end{array}\\right] + \\left[ \\begin{array}{cc}\n",
    "G_1 & G_2 \\\\\n",
    "G_4 & G_5 \n",
    "\\end{array} \\right] \\cdot \\left[ \\begin{array}{c}\n",
    "P \\\\\n",
    "L \n",
    "\\end{array} \\right]\n",
    "\\end{equation*}\n",
    "$$\n",
    "\n",
    "\n",
    "Esta es la manera exacta en que GDAL interpreta los índices de píxeles\n",
    "<div>\n",
    "<p style = 'text-align:center;'>\n",
    "<img src=\"Figs/Raster_layout.png\" width=\"300\"/> \n",
    "</p>\n",
    "</div>"
   ]
  },
  {
   "cell_type": "code",
   "execution_count": 30,
   "metadata": {
    "hidden": true,
    "hideCode": false,
    "hidePrompt": false
   },
   "outputs": [
    {
     "name": "stdout",
     "output_type": "stream",
     "text": [
      "Driver: GTiff/GeoTIFF\n",
      "Files: N33W119_wgs84.tif\n",
      "Size is 3600, 3600\n",
      "Coordinate System is:\n",
      "GEOGCRS[\"WGS 84\",\n",
      "    DATUM[\"World Geodetic System 1984\",\n",
      "        ELLIPSOID[\"WGS 84\",6378137,298.257223563,\n",
      "            LENGTHUNIT[\"metre\",1]]],\n",
      "    PRIMEM[\"Greenwich\",0,\n",
      "        ANGLEUNIT[\"degree\",0.0174532925199433]],\n",
      "    CS[ellipsoidal,2],\n",
      "        AXIS[\"geodetic latitude (Lat)\",north,\n",
      "            ORDER[1],\n",
      "            ANGLEUNIT[\"degree\",0.0174532925199433]],\n",
      "        AXIS[\"geodetic longitude (Lon)\",east,\n",
      "            ORDER[2],\n",
      "            ANGLEUNIT[\"degree\",0.0174532925199433]],\n",
      "    ID[\"EPSG\",4326]]\n",
      "Data axis to CRS axis mapping: 2,1\n",
      "Origin = (-119.000138888880798,34.000138888885445)\n",
      "Pixel Size = (0.000277777777778,-0.000277777777778)\n",
      "Metadata:\n",
      "  AREA_OR_POINT=Area\n",
      "Image Structure Metadata:\n",
      "  COMPRESSION=LZW\n",
      "  INTERLEAVE=BAND\n",
      "  LAYOUT=COG\n",
      "Corner Coordinates:\n",
      "Upper Left  (-119.0001389,  34.0001389) (119d 0' 0.50\"W, 34d 0' 0.50\"N)\n",
      "Lower Left  (-119.0001389,  33.0001389) (119d 0' 0.50\"W, 33d 0' 0.50\"N)\n",
      "Upper Right (-118.0001389,  34.0001389) (118d 0' 0.50\"W, 34d 0' 0.50\"N)\n",
      "Lower Right (-118.0001389,  33.0001389) (118d 0' 0.50\"W, 33d 0' 0.50\"N)\n",
      "Center      (-118.5001389,  33.5001389) (118d30' 0.50\"W, 33d30' 0.50\"N)\n",
      "Band 1 Block=256x256 Type=Float32, ColorInterp=Gray\n",
      "  NoData Value=-32768\n"
     ]
    }
   ],
   "source": [
    "##Para confirmar la interpretación de la parte superior izquierda, veamos la salida de gdalinfo para el mosaico SRTM nuevamente\n",
    "!gdalinfo N33W119_wgs84.tif"
   ]
  },
  {
   "cell_type": "code",
   "execution_count": 31,
   "metadata": {
    "hidden": true,
    "hideCode": false,
    "hidePrompt": false
   },
   "outputs": [
    {
     "name": "stdout",
     "output_type": "stream",
     "text": [
      "Driver: GMT/GMT NetCDF Grid Format\n",
      "Files: 18.grd\n",
      "Size is 1201, 601\n",
      "Origin = (-121.002499999999998,35.502499999999998)\n",
      "Pixel Size = (0.005000000000000,-0.005000000000000)\n",
      "Corner Coordinates:\n",
      "Upper Left  (-121.0025000,  35.5025000) \n",
      "Lower Left  (-121.0025000,  32.4975000) \n",
      "Upper Right (-114.9975000,  35.5025000) \n",
      "Lower Right (-114.9975000,  32.4975000) \n",
      "Center      (-118.0000000,  34.0000000) \n",
      "Band 1 Block=1201x1 Type=Float32, ColorInterp=Undefined\n"
     ]
    }
   ],
   "source": [
    "##Una imagen puede incluir información de coordenadas incluso si falta la información del sistema de coordenadas\n",
    "##Pero esto es muy desaconsejable\n",
    "\n",
    "!gdalinfo 18.grd"
   ]
  },
  {
   "cell_type": "code",
   "execution_count": 32,
   "metadata": {
    "hidden": true,
    "hideCode": false,
    "hidePrompt": false
   },
   "outputs": [
    {
     "name": "stdout",
     "output_type": "stream",
     "text": [
      "(-119.0001388888808, 0.00027777777777781464, 0.0, 34.000138888885445, 0.0, -0.00027777777777781464)\n"
     ]
    }
   ],
   "source": [
    "###Método programático para consultar la geotransformación\n",
    "\n",
    "ds = gdal.Open('N33W119_wgs84.tif', gdal.GA_ReadOnly)\n",
    "print(ds.GetGeoTransform())\n",
    "ds = None"
   ]
  },
  {
   "cell_type": "code",
   "execution_count": 33,
   "metadata": {},
   "outputs": [
    {
     "name": "stdout",
     "output_type": "stream",
     "text": [
      "(-119.0, 0.000277777777, 0.0, 35.0, 0.0, -0.000277777777)\n"
     ]
    }
   ],
   "source": [
    "###Método programático para consultar la geotransformación\n",
    "\n",
    "ds = gdal.Open('elevation.dem', gdal.GA_ReadOnly)\n",
    "print(ds.GetGeoTransform())\n",
    "ds = None"
   ]
  },
  {
   "cell_type": "markdown",
   "metadata": {
    "hidden": true,
    "hideCode": true,
    "hidePrompt": true
   },
   "source": [
    "La mayoría de los formatos de datos geoespaciales prefieren la orientación Norte arriba para almacenar datos de mapas. Por lo tanto, es muy común ver un término $G_5$ negativo en la representación de GeoTransform."
   ]
  },
  {
   "cell_type": "code",
   "execution_count": 34,
   "metadata": {
    "hidden": true,
    "hideCode": false,
    "hidePrompt": false
   },
   "outputs": [
    {
     "name": "stdout",
     "output_type": "stream",
     "text": [
      "(0.5, 2.0, 0.0, 3.5, 0.0, 8.0)\n"
     ]
    }
   ],
   "source": [
    "###Para un conjunto de datos sin sistema de coordenadas/información de mapa, es decir, ráster simple\n",
    "ds = gdal.Open('stripmap/interferogram/topophase.cor.vrt', gdal.GA_ReadOnly)\n",
    "print(ds.GetGeoTransform())\n",
    "ds = None"
   ]
  },
  {
   "cell_type": "markdown",
   "metadata": {
    "heading_collapsed": true,
    "hidden": true,
    "hideCode": true,
    "hidePrompt": true
   },
   "source": [
    "### Puntos de control de tierra (GCPs)"
   ]
  },
  {
   "cell_type": "markdown",
   "metadata": {
    "hidden": true,
    "hideCode": true,
    "hidePrompt": true
   },
   "source": [
    "Los GCPs son otro mecanismo para asociar información de coordenadas geográficas con imágenes ráster. Los GCP representan un mapeo explícito desde una ubicación (píxel, línea) a una ubicación (X,Y) en coordenadas de mapa. Por lo general, estas no son las representaciones más precisas, pero para algunas aplicaciones son más que suficientes. Por ejemplo, las imágenes de radar adquiridas sobre terrenos muy planos u océanos se pueden geocodificar razonablemente bien utilizando GCP. No vamos a utilizar esta característica en nuestros tutoriales, pero se debe tener en cuenta que esta información está disponible con la mayoría de los productos SLC entregados por diferentes agencias.\n",
    "\n",
    "Los archivos geotiff Sentinel-1 SLC y GRD están todos anotados con GCP. A continuación se muestra un ejemplo de salida de gdalinfo en una imagen Sentinel-1 SLC\n",
    "\n",
    "```bash\n",
    "> gdalinfo s1a-iw1-slc-vv-20160408t091355-20160408t091428-010728-01001f-001.tiff\n",
    "Driver: GTiff/GeoTIFF\n",
    "Files: s1a-iw1-slc-vv-20160408t091355-20160408t091428-010728-01001f-001.tiff\n",
    "Size is 20665, 17916\n",
    "Coordinate System is `'\n",
    "GCP Projection =\n",
    "GEOGCS[\"WGS 84\",\n",
    "    DATUM[\"WGS_1984\",\n",
    "        SPHEROID[\"unnamed\",6378137,298.2572235604902,\n",
    "            AUTHORITY[\"EPSG\",\"4326\"]],\n",
    "        AUTHORITY[\"EPSG\",\"6326\"]],\n",
    "    PRIMEM[\"Greenwich\",0],\n",
    "    UNIT[\"degree\",0.0174532925199433],\n",
    "    AUTHORITY[\"EPSG\",\"4326\"]]\n",
    "GCP[  0]: Id=1, Info=\n",
    "          (0,0) -> (130.457799786776,32.2907336141953,478.460773384615)\n",
    "GCP[  1]: Id=2, Info=\n",
    "          (1034,0) -> (130.506581179458,32.2986697089719,478.460773384615)\n",
    "GCP[  2]: Id=3, Info=\n",
    "          (2068,0) -> (130.554913356166,32.3065128120191,478.460773384615)\n",
    "GCP[  3]: Id=4, Info=\n",
    "          (3102,0) -> (130.602812666404,32.3142661230211,478.460773384615)\n",
    "...\n",
    "GCP[270]: Id=271, Info=\n",
    "          (18612,17915) -> (130.826037469855,34.4318305450677,0)\n",
    "GCP[271]: Id=272, Info=\n",
    "          (19646,17915) -> (130.869763720912,34.438454503529,0)\n",
    "GCP[272]: Id=273, Info=\n",
    "          (20664,17915) -> (130.912557438728,34.4449210788505,0)\n",
    "Metadata:\n",
    "  AREA_OR_POINT=Area\n",
    "  TIFFTAG_DATETIME=2016:04:08 16:04:16\n",
    "  TIFFTAG_IMAGEDESCRIPTION=Sentinel-1A IW SLC L1\n",
    "  TIFFTAG_SOFTWARE=Sentinel-1 IPF 002.62\n",
    "Image Structure Metadata:\n",
    "  INTERLEAVE=BAND\n",
    "Corner Coordinates:\n",
    "Upper Left  (    0.0,    0.0)\n",
    "Lower Left  (    0.0,17916.0)\n",
    "Upper Right (20665.0,    0.0)\n",
    "Lower Right (20665.0,17916.0)\n",
    "Center      (10332.5, 8958.0)\n",
    "Band 1 Block=20665x1 Type=CInt16, ColorInterp=Gray\n",
    "```"
   ]
  },
  {
   "cell_type": "markdown",
   "metadata": {
    "heading_collapsed": true,
    "hidden": true
   },
   "source": [
    "### Subconjuntos de datos"
   ]
  },
  {
   "cell_type": "markdown",
   "metadata": {
    "hidden": true
   },
   "source": [
    "Hay algunos formatos de archivo como netcdf o HDF5 que permiten empaquetar varios conjuntos de datos. En tales casos, GDAL informará estas diferentes capas como subconjuntos de datos. Exploraremos esto con el conjunto de datos de Groenlandia descargado."
   ]
  },
  {
   "cell_type": "code",
   "execution_count": 35,
   "metadata": {
    "hidden": true
   },
   "outputs": [
    {
     "name": "stdout",
     "output_type": "stream",
     "text": [
      "Driver: netCDF/Network Common Data Format\n",
      "Files: Greenland1km.nc\n",
      "Size is 512, 512\n",
      "Metadata:\n",
      "  NC_GLOBAL#comments=The data in this file was interpolated onto a 1km grid using natural neighbor interpolation which is based on Delauney triangulation.  This was accomplished using the function natgridd (see http://www.ncarg.ucar.edu//ngmath/natgrid/nnhome.html) from the National Center for Atmospheric Research (NCAR).  Natgrid is part of the NCAR Command Language (NCL) package which can be downloaded via http://www.ncl.ucar.edu/Download/\n",
      "  NC_GLOBAL#creator=Glen D. Granzow\n",
      "  NC_GLOBAL#Date=1 November 2010\n",
      "  NC_GLOBAL#institution=University of Montana\n",
      "  NC_GLOBAL#title=Greenland 1 km Data Set\n",
      "Subdatasets:\n",
      "  SUBDATASET_1_NAME=NETCDF:\"Greenland1km.nc\":presprcp\n",
      "  SUBDATASET_1_DESC=[1x2801x1501] lwe_precipitation_rate (32-bit floating-point)\n",
      "  SUBDATASET_2_NAME=NETCDF:\"Greenland1km.nc\":bheatflx\n",
      "  SUBDATASET_2_DESC=[1x2801x1501] upward_geothermal_flux_at_ice_base (32-bit floating-point)\n",
      "  SUBDATASET_3_NAME=NETCDF:\"Greenland1km.nc\":presartm\n",
      "  SUBDATASET_3_DESC=[1x2801x1501] air_temperature (32-bit floating-point)\n",
      "  SUBDATASET_4_NAME=NETCDF:\"Greenland1km.nc\":topg\n",
      "  SUBDATASET_4_DESC=[1x2801x1501] bedrock_altitude (32-bit floating-point)\n",
      "  SUBDATASET_5_NAME=NETCDF:\"Greenland1km.nc\":thk\n",
      "  SUBDATASET_5_DESC=[1x2801x1501] land_ice_thickness (32-bit floating-point)\n",
      "Corner Coordinates:\n",
      "Upper Left  (    0.0,    0.0)\n",
      "Lower Left  (    0.0,  512.0)\n",
      "Upper Right (  512.0,    0.0)\n",
      "Lower Right (  512.0,  512.0)\n",
      "Center      (  256.0,  256.0)\n"
     ]
    }
   ],
   "source": [
    "!gdalinfo Greenland1km.nc"
   ]
  },
  {
   "cell_type": "markdown",
   "metadata": {
    "hidden": true
   },
   "source": [
    "Para acceder a un subconjunto de datos específico dentro del archivo netcdf, puede usar el atributo \"SUBDATASET\\_\\*\\_NAME\" informado por gdalinfo."
   ]
  },
  {
   "cell_type": "code",
   "execution_count": 36,
   "metadata": {
    "hidden": true
   },
   "outputs": [
    {
     "name": "stdout",
     "output_type": "stream",
     "text": [
      "Driver: netCDF/Network Common Data Format\n",
      "Files: Greenland1km.nc\n",
      "Size is 1501, 2801\n",
      "Coordinate System is:\n",
      "PROJCRS[\"unnamed\",\n",
      "    BASEGEOGCRS[\"WGS 84\",\n",
      "        DATUM[\"World Geodetic System 1984\",\n",
      "            ELLIPSOID[\"WGS 84\",6378137,298.257223563,\n",
      "                LENGTHUNIT[\"metre\",1]]],\n",
      "        PRIMEM[\"Greenwich\",0,\n",
      "            ANGLEUNIT[\"degree\",0.0174532925199433]],\n",
      "        ID[\"EPSG\",4326]],\n",
      "    CONVERSION[\"unnamed\",\n",
      "        METHOD[\"Polar Stereographic (variant B)\",\n",
      "            ID[\"EPSG\",9829]],\n",
      "        PARAMETER[\"Latitude of standard parallel\",71,\n",
      "            ANGLEUNIT[\"degree\",0.0174532925199433],\n",
      "            ID[\"EPSG\",8832]],\n",
      "        PARAMETER[\"Longitude of origin\",-39,\n",
      "            ANGLEUNIT[\"degree\",0.0174532925199433],\n",
      "            ID[\"EPSG\",8833]],\n",
      "        PARAMETER[\"False easting\",0,\n",
      "            LENGTHUNIT[\"unknown\",1],\n",
      "            ID[\"EPSG\",8806]],\n",
      "        PARAMETER[\"False northing\",0,\n",
      "            LENGTHUNIT[\"unknown\",1],\n",
      "            ID[\"EPSG\",8807]]],\n",
      "    CS[Cartesian,2],\n",
      "        AXIS[\"easting\",south,\n",
      "            ORDER[1],\n",
      "            LENGTHUNIT[\"unknown\",1]],\n",
      "        AXIS[\"northing\",south,\n",
      "            ORDER[2],\n",
      "            LENGTHUNIT[\"unknown\",1]]]\n",
      "Data axis to CRS axis mapping: 1,2\n",
      "Origin = (-800500.000000000000000,-599500.000000000000000)\n",
      "Pixel Size = (1000.000000000000000,-1000.000000000000000)\n",
      "Metadata:\n",
      "  mapping#ellipsoid=WGS84\n",
      "  mapping#false_easting=0\n",
      "  mapping#false_northing=0\n",
      "  mapping#grid_mapping_name=polar_stereographic\n",
      "  mapping#latitude_of_projection_origin=90\n",
      "  mapping#standard_parallel=71\n",
      "  mapping#straight_vertical_longitude_from_pole=-39\n",
      "  NC_GLOBAL#comments=The data in this file was interpolated onto a 1km grid using natural neighbor interpolation which is based on Delauney triangulation.  This was accomplished using the function natgridd (see http://www.ncarg.ucar.edu//ngmath/natgrid/nnhome.html) from the National Center for Atmospheric Research (NCAR).  Natgrid is part of the NCAR Command Language (NCL) package which can be downloaded via http://www.ncl.ucar.edu/Download/\n",
      "  NC_GLOBAL#creator=Glen D. Granzow\n",
      "  NC_GLOBAL#Date=1 November 2010\n",
      "  NC_GLOBAL#institution=University of Montana\n",
      "  NC_GLOBAL#title=Greenland 1 km Data Set\n",
      "  NETCDF_DIM_EXTRA={t}\n",
      "  NETCDF_DIM_t_DEF={1,5}\n",
      "  NETCDF_DIM_t_VALUES=0\n",
      "  topg#comments=The bedrock topography field incorporates (corrected) 5 km gridded data from the National Snow and Ice Data Center (NSIDC), bathymetric data and surface elevation data for Ellesmere Island from the General Bathymetric Chart of the Oceans (GEBCO), gridded data for the Jakobshavn and Pettermann Glacier regions from the Center for Remote Sensing of Ice Sheets (CReSIS), and flightline data for the Kangerdlugsuaq and Helheim Glacier regions also from CReSIS.  Because of the large number of data points, interpolation onto the output grid (using natgridd's nonlinear natural neighbor algorithm) was performed in blocks to reduce the computing time required.  The available flightline data was for ice thickness only; To calculate bed elevations from these thicknesses, the thicknesses were subtracted from surface elevations obtained using a bicubic spline of 5km gridded surface data from NSIDC.\n",
      "  topg#grid_mapping=mapping\n",
      "  topg#long_name=Bedrock Topography\n",
      "  topg#reference=[1a] Bamber, J.L., R.L. Layberry, S.P. Gogenini. 2001. A new ice thickness and bed data set for the Greenland ice sheet 1: Measurement, data reduction, and errors. Journal of Geophysical Research 106 (D24): 33773-33780. [1b] Bamber, J.L., R.L. Layberry, S.P. Gogenini. 2001. A new ice thickness and bed data set for the Greenland ice sheet 2: Relationship between dynamics and basal topography. Journal of Geophysical Research 106 (D24): 33781-33788.\n",
      "  topg#source=[1] http://nsidc.org/data/nsidc-0092.html, [2] http://www.gebco.net/data_and_products/gridded_bathymetry_data/, [3] https://www.cresis.ku.edu/data/Greenland\n",
      "  topg#standard_name=bedrock_altitude\n",
      "  topg#units=meters\n",
      "  x#long_name=Cartesian x-coordinate\n",
      "  x#standard_name=projection_x_coordinate\n",
      "  x#units=meters\n",
      "  y#long_name=Cartesian y-coordinate\n",
      "  y#standard_name=projection_y_coordinate\n",
      "  y#units=meters\n",
      "Corner Coordinates:\n",
      "Upper Left  ( -800500.000, -599500.000) ( 92d10'12.74\"W, 80d48'51.65\"N)\n",
      "Lower Left  ( -800500.000,-3400500.000) ( 52d14'47.85\"W, 58d37'26.85\"N)\n",
      "Upper Right (  700500.000, -599500.000) ( 10d26'33.06\"E, 81d31'44.34\"N)\n",
      "Lower Right (  700500.000,-3400500.000) ( 27d21'35.81\"W, 58d48'30.80\"N)\n",
      "Center      (  -50000.000,-2000000.000) ( 40d25'55.55\"W, 71d44'12.84\"N)\n",
      "Band 1 Block=1501x1 Type=Float32, ColorInterp=Undefined\n",
      "  NoData Value=9.96920996838686905e+36\n",
      "  Unit Type: meters\n",
      "  Metadata:\n",
      "    comments=The bedrock topography field incorporates (corrected) 5 km gridded data from the National Snow and Ice Data Center (NSIDC), bathymetric data and surface elevation data for Ellesmere Island from the General Bathymetric Chart of the Oceans (GEBCO), gridded data for the Jakobshavn and Pettermann Glacier regions from the Center for Remote Sensing of Ice Sheets (CReSIS), and flightline data for the Kangerdlugsuaq and Helheim Glacier regions also from CReSIS.  Because of the large number of data points, interpolation onto the output grid (using natgridd's nonlinear natural neighbor algorithm) was performed in blocks to reduce the computing time required.  The available flightline data was for ice thickness only; To calculate bed elevations from these thicknesses, the thicknesses were subtracted from surface elevations obtained using a bicubic spline of 5km gridded surface data from NSIDC.\n",
      "    grid_mapping=mapping\n",
      "    long_name=Bedrock Topography\n",
      "    NETCDF_DIM_t=0\n",
      "    NETCDF_VARNAME=topg\n",
      "    reference=[1a] Bamber, J.L., R.L. Layberry, S.P. Gogenini. 2001. A new ice thickness and bed data set for the Greenland ice sheet 1: Measurement, data reduction, and errors. Journal of Geophysical Research 106 (D24): 33773-33780. [1b] Bamber, J.L., R.L. Layberry, S.P. Gogenini. 2001. A new ice thickness and bed data set for the Greenland ice sheet 2: Relationship between dynamics and basal topography. Journal of Geophysical Research 106 (D24): 33781-33788.\n",
      "    source=[1] http://nsidc.org/data/nsidc-0092.html, [2] http://www.gebco.net/data_and_products/gridded_bathymetry_data/, [3] https://www.cresis.ku.edu/data/Greenland\n",
      "    standard_name=bedrock_altitude\n",
      "    units=meters\n"
     ]
    }
   ],
   "source": [
    "!gdalinfo NETCDF:\"Greenland1km.nc\":topg"
   ]
  },
  {
   "cell_type": "code",
   "execution_count": 37,
   "metadata": {
    "hidden": true
   },
   "outputs": [
    {
     "name": "stdout",
     "output_type": "stream",
     "text": [
      "\n",
      "PROJ.4 : +proj=stere +lat_0=90 +lat_ts=71 +lon_0=-39 +x_0=0 +y_0=0 +datum=WGS84 +units=m +no_defs\n",
      "\n",
      "OGC WKT2:2018 :\n",
      "PROJCRS[\"unnamed\",\n",
      "    BASEGEOGCRS[\"WGS 84\",\n",
      "        DATUM[\"World Geodetic System 1984\",\n",
      "            ELLIPSOID[\"WGS 84\",6378137,298.257223563,\n",
      "                LENGTHUNIT[\"metre\",1]]],\n",
      "        PRIMEM[\"Greenwich\",0,\n",
      "            ANGLEUNIT[\"degree\",0.0174532925199433]],\n",
      "        ID[\"EPSG\",4326]],\n",
      "    CONVERSION[\"unnamed\",\n",
      "        METHOD[\"Polar Stereographic (variant B)\",\n",
      "            ID[\"EPSG\",9829]],\n",
      "        PARAMETER[\"Latitude of standard parallel\",71,\n",
      "            ANGLEUNIT[\"degree\",0.0174532925199433],\n",
      "            ID[\"EPSG\",8832]],\n",
      "        PARAMETER[\"Longitude of origin\",-39,\n",
      "            ANGLEUNIT[\"degree\",0.0174532925199433],\n",
      "            ID[\"EPSG\",8833]],\n",
      "        PARAMETER[\"False easting\",0,\n",
      "            LENGTHUNIT[\"unknown\",1],\n",
      "            ID[\"EPSG\",8806]],\n",
      "        PARAMETER[\"False northing\",0,\n",
      "            LENGTHUNIT[\"unknown\",1],\n",
      "            ID[\"EPSG\",8807]]],\n",
      "    CS[Cartesian,2],\n",
      "        AXIS[\"easting\",south,\n",
      "            ORDER[1],\n",
      "            LENGTHUNIT[\"unknown\",1]],\n",
      "        AXIS[\"northing\",south,\n",
      "            ORDER[2],\n",
      "            LENGTHUNIT[\"unknown\",1]]]\n",
      "\n"
     ]
    }
   ],
   "source": [
    "!gdalsrsinfo NETCDF:\"Greenland1km.nc\":topg"
   ]
  },
  {
   "cell_type": "markdown",
   "metadata": {
    "heading_collapsed": true,
    "hidden": true,
    "hideCode": true,
    "hidePrompt": true
   },
   "source": [
    "### Otras características"
   ]
  },
  {
   "cell_type": "markdown",
   "metadata": {
    "hidden": true,
    "hideCode": true,
    "hidePrompt": true
   },
   "source": [
    "Hay otras funciones útiles que proporciona GDAL para trabajar con datos ráster. Uno puede leer más sobre esto aquí:\n",
    "http://www.gdal.org/gdal_datamodel.html"
   ]
  },
  {
   "cell_type": "markdown",
   "metadata": {
    "heading_collapsed": true,
    "hideCode": true,
    "hidePrompt": true
   },
   "source": [
    "## Formatos de datos ráster"
   ]
  },
  {
   "cell_type": "markdown",
   "metadata": {
    "hidden": true,
    "hideCode": true,
    "hidePrompt": true
   },
   "source": [
    "Ya hemos mencionado que GDAL puede admitir más de 80 formatos de datos. GDAL intenta proporcionar una interfaz unificada para leer datos de estos diferentes formatos. La compatibilidad con diferentes formatos depende de qué bibliotecas se usaron al crear la biblioteca GDAL. Puede averiguar los diversos formatos de trama que admite GDAL usando **gdalinfo**."
   ]
  },
  {
   "cell_type": "code",
   "execution_count": 38,
   "metadata": {
    "hidden": true,
    "hideCode": false,
    "hidePrompt": false
   },
   "outputs": [
    {
     "name": "stdout",
     "output_type": "stream",
     "text": [
      "Supported Formats:\n",
      "  VRT -raster,multidimensional raster- (rw+v): Virtual Raster\n",
      "  DERIVED -raster- (ro): Derived datasets using VRT pixel functions\n",
      "  GTiff -raster- (rw+vs): GeoTIFF\n",
      "  COG -raster- (wv): Cloud optimized GeoTIFF generator\n",
      "  NITF -raster- (rw+vs): National Imagery Transmission Format\n",
      "  RPFTOC -raster- (rovs): Raster Product Format TOC format\n",
      "  ECRGTOC -raster- (rovs): ECRG TOC format\n",
      "  HFA -raster- (rw+v): Erdas Imagine Images (.img)\n",
      "  SAR_CEOS -raster- (rov): CEOS SAR Image\n",
      "  CEOS -raster- (rov): CEOS Image\n",
      "  JAXAPALSAR -raster- (rov): JAXA PALSAR Product Reader (Level 1.1/1.5)\n",
      "  GFF -raster- (rov): Ground-based SAR Applications Testbed File Format (.gff)\n",
      "  ELAS -raster- (rw+v): ELAS\n",
      "  ESRIC -raster- (rov): Esri Compact Cache\n",
      "  AIG -raster- (rov): Arc/Info Binary Grid\n",
      "  AAIGrid -raster- (rwv): Arc/Info ASCII Grid\n",
      "  GRASSASCIIGrid -raster- (rov): GRASS ASCII Grid\n",
      "  ISG -raster- (rov): International Service for the Geoid\n",
      "  SDTS -raster- (rov): SDTS Raster\n",
      "  DTED -raster- (rwv): DTED Elevation Raster\n",
      "  PNG -raster- (rwv): Portable Network Graphics\n",
      "  JPEG -raster- (rwv): JPEG JFIF\n",
      "  MEM -raster,multidimensional raster- (rw+): In Memory Raster\n",
      "  JDEM -raster- (rov): Japanese DEM (.mem)\n",
      "  GIF -raster- (rwv): Graphics Interchange Format (.gif)\n",
      "  BIGGIF -raster- (rov): Graphics Interchange Format (.gif)\n",
      "  ESAT -raster- (rov): Envisat Image Format\n",
      "  FITS -raster,vector- (rw+): Flexible Image Transport System\n",
      "  BSB -raster- (rov): Maptech BSB Nautical Charts\n",
      "  XPM -raster- (rwv): X11 PixMap Format\n",
      "  BMP -raster- (rw+v): MS Windows Device Independent Bitmap\n",
      "  DIMAP -raster- (rovs): SPOT DIMAP\n",
      "  AirSAR -raster- (rov): AirSAR Polarimetric Image\n",
      "  RS2 -raster- (rovs): RadarSat 2 XML Product\n",
      "  SAFE -raster- (rov): Sentinel-1 SAR SAFE Product\n",
      "  PCIDSK -raster,vector- (rw+v): PCIDSK Database File\n",
      "  PCRaster -raster- (rw+): PCRaster Raster File\n",
      "  ILWIS -raster- (rw+v): ILWIS Raster Map\n",
      "  SGI -raster- (rw+v): SGI Image File Format 1.0\n",
      "  SRTMHGT -raster- (rwv): SRTMHGT File Format\n",
      "  Leveller -raster- (rw+v): Leveller heightfield\n",
      "  Terragen -raster- (rw+v): Terragen heightfield\n",
      "  GMT -raster- (rw): GMT NetCDF Grid Format\n",
      "  netCDF -raster,multidimensional raster,vector- (rw+s): Network Common Data Format\n",
      "  HDF4 -raster,multidimensional raster- (ros): Hierarchical Data Format Release 4\n",
      "  HDF4Image -raster- (rw+): HDF4 Dataset\n",
      "  ISIS3 -raster- (rw+v): USGS Astrogeology ISIS cube (Version 3)\n",
      "  ISIS2 -raster- (rw+v): USGS Astrogeology ISIS cube (Version 2)\n",
      "  PDS -raster- (rov): NASA Planetary Data System\n",
      "  PDS4 -raster,vector- (rw+vs): NASA Planetary Data System 4\n",
      "  VICAR -raster,vector- (rw+v): MIPL VICAR file\n",
      "  TIL -raster- (rov): EarthWatch .TIL\n",
      "  ERS -raster- (rw+v): ERMapper .ers Labelled\n",
      "  JP2OpenJPEG -raster,vector- (rwv): JPEG-2000 driver based on OpenJPEG library\n",
      "  L1B -raster- (rovs): NOAA Polar Orbiter Level 1b Data Set\n",
      "  FIT -raster- (rwv): FIT Image\n",
      "  GRIB -raster,multidimensional raster- (rwv): GRIdded Binary (.grb, .grb2)\n",
      "  RMF -raster- (rw+v): Raster Matrix Format\n",
      "  WCS -raster- (rovs): OGC Web Coverage Service\n",
      "  WMS -raster- (rwvs): OGC Web Map Service\n",
      "  MSGN -raster- (rov): EUMETSAT Archive native (.nat)\n",
      "  RST -raster- (rw+v): Idrisi Raster A.1\n",
      "  INGR -raster- (rw+v): Intergraph Raster\n",
      "  GSAG -raster- (rwv): Golden Software ASCII Grid (.grd)\n",
      "  GSBG -raster- (rw+v): Golden Software Binary Grid (.grd)\n",
      "  GS7BG -raster- (rw+v): Golden Software 7 Binary Grid (.grd)\n",
      "  COSAR -raster- (rov): COSAR Annotated Binary Matrix (TerraSAR-X)\n",
      "  TSX -raster- (rov): TerraSAR-X Product\n",
      "  COASP -raster- (ro): DRDC COASP SAR Processor Raster\n",
      "  R -raster- (rwv): R Object Data Store\n",
      "  MAP -raster- (rov): OziExplorer .MAP\n",
      "  KMLSUPEROVERLAY -raster- (rwv): Kml Super Overlay\n",
      "  WEBP -raster- (rwv): WEBP\n",
      "  PDF -raster,vector- (rw+vs): Geospatial PDF\n",
      "  Rasterlite -raster- (rwvs): Rasterlite\n",
      "  MBTiles -raster,vector- (rw+v): MBTiles\n",
      "  PLMOSAIC -raster- (ro): Planet Labs Mosaics API\n",
      "  CALS -raster- (rwv): CALS (Type 1)\n",
      "  WMTS -raster- (rwv): OGC Web Map Tile Service\n",
      "  SENTINEL2 -raster- (rovs): Sentinel 2\n",
      "  MRF -raster- (rw+v): Meta Raster Format\n",
      "  TileDB -raster- (rw+vs): TileDB\n",
      "  PNM -raster- (rw+v): Portable Pixmap Format (netpbm)\n",
      "  DOQ1 -raster- (rov): USGS DOQ (Old Style)\n",
      "  DOQ2 -raster- (rov): USGS DOQ (New Style)\n",
      "  PAux -raster- (rw+v): PCI .aux Labelled\n",
      "  MFF -raster- (rw+v): Vexcel MFF Raster\n",
      "  MFF2 -raster- (rw+): Vexcel MFF2 (HKV) Raster\n",
      "  FujiBAS -raster- (rov): Fuji BAS Scanner Image\n",
      "  GSC -raster- (rov): GSC Geogrid\n",
      "  FAST -raster- (rov): EOSAT FAST Format\n",
      "  BT -raster- (rw+v): VTP .bt (Binary Terrain) 1.3 Format\n",
      "  LAN -raster- (rw+v): Erdas .LAN/.GIS\n",
      "  CPG -raster- (rov): Convair PolGASP\n",
      "  IDA -raster- (rw+v): Image Data and Analysis\n",
      "  NDF -raster- (rov): NLAPS Data Format\n",
      "  EIR -raster- (rov): Erdas Imagine Raw\n",
      "  DIPEx -raster- (rov): DIPEx\n",
      "  LCP -raster- (rwv): FARSITE v.4 Landscape File (.lcp)\n",
      "  GTX -raster- (rw+v): NOAA Vertical Datum .GTX\n",
      "  LOSLAS -raster- (rov): NADCON .los/.las Datum Grid Shift\n",
      "  NTv2 -raster- (rw+vs): NTv2 Datum Grid Shift\n",
      "  CTable2 -raster- (rw+v): CTable2 Datum Grid Shift\n",
      "  ACE2 -raster- (rov): ACE2\n",
      "  SNODAS -raster- (rov): Snow Data Assimilation System\n",
      "  KRO -raster- (rw+v): KOLOR Raw\n",
      "  ROI_PAC -raster- (rw+v): ROI_PAC raster\n",
      "  RRASTER -raster- (rw+v): R Raster\n",
      "  BYN -raster- (rw+v): Natural Resources Canada's Geoid\n",
      "  ARG -raster- (rwv): Azavea Raster Grid format\n",
      "  RIK -raster- (rov): Swedish Grid RIK (.rik)\n",
      "  USGSDEM -raster- (rwv): USGS Optional ASCII DEM (and CDED)\n",
      "  GXF -raster- (rov): GeoSoft Grid Exchange Format\n",
      "  DODS -raster- (ro): DAP 3.x servers\n",
      "  KEA -raster- (rw+v): KEA Image Format (.kea)\n",
      "  BAG -raster,multidimensional raster,vector- (rw+v): Bathymetry Attributed Grid\n",
      "  HDF5 -raster,multidimensional raster- (rovs): Hierarchical Data Format Release 5\n",
      "  HDF5Image -raster- (rov): HDF5 Dataset\n",
      "  NWT_GRD -raster- (rw+v): Northwood Numeric Grid Format .grd/.tab\n",
      "  NWT_GRC -raster- (rov): Northwood Classified Grid Format .grc/.tab\n",
      "  ADRG -raster- (rw+vs): ARC Digitized Raster Graphics\n",
      "  SRP -raster- (rovs): Standard Raster Product (ASRP/USRP)\n",
      "  BLX -raster- (rwv): Magellan topo (.blx)\n",
      "  PostGISRaster -raster- (rws): PostGIS Raster driver\n",
      "  SAGA -raster- (rw+v): SAGA GIS Binary Grid (.sdat, .sg-grd-z)\n",
      "  XYZ -raster- (rwv): ASCII Gridded XYZ\n",
      "  HF2 -raster- (rwv): HF2/HFZ heightfield raster\n",
      "  OZI -raster- (rov): OziExplorer Image File\n",
      "  CTG -raster- (rov): USGS LULC Composite Theme Grid\n",
      "  ZMap -raster- (rwv): ZMap Plus Grid\n",
      "  NGSGEOID -raster- (rov): NOAA NGS Geoid Height Grids\n",
      "  IRIS -raster- (rov): IRIS data (.PPI, .CAPPi etc)\n",
      "  PRF -raster- (rov): Racurs PHOTOMOD PRF\n",
      "  RDA -raster- (ro): DigitalGlobe Raster Data Access driver\n",
      "  EEDAI -raster- (ros): Earth Engine Data API Image\n",
      "  DAAS -raster- (ro): Airbus DS Intelligence Data As A Service driver\n",
      "  SIGDEM -raster- (rwv): Scaled Integer Gridded DEM .sigdem\n",
      "  TGA -raster- (rov): TGA/TARGA Image File Format\n",
      "  OGCAPI -raster,vector- (rov): OGCAPI\n",
      "  STACTA -raster- (rovs): Spatio-Temporal Asset Catalog Tiled Assets\n",
      "  GPKG -raster,vector- (rw+vs): GeoPackage\n",
      "  CAD -raster,vector- (rovs): AutoCAD Driver\n",
      "  PLSCENES -raster,vector- (ro): Planet Labs Scenes API\n",
      "  NGW -raster,vector- (rw+s): NextGIS Web\n",
      "  GenBin -raster- (rov): Generic Binary (.hdr Labelled)\n",
      "  ENVI -raster- (rw+v): ENVI .hdr Labelled\n",
      "  EHdr -raster- (rw+v): ESRI .hdr Labelled\n",
      "  ISCE -raster- (rw+v): ISCE raster\n",
      "  HTTP -raster,vector- (ro): HTTP Fetching Wrapper\n"
     ]
    }
   ],
   "source": [
    "#Enumere todos los formatos admitidos en su compilación GDAL\n",
    "!gdalinfo --formats"
   ]
  },
  {
   "cell_type": "markdown",
   "metadata": {
    "hidden": true,
    "hideCode": true,
    "hidePrompt": true
   },
   "source": [
    "La capacidad para cada formato se indica con una cadena en la salida y aquí está la leyenda correspondiente:\n",
    "\n",
    "1. r: leer\n",
    "2. ro: solo lectura\n",
    "3. w: escriba \"Crear conjunto de datos copiando otro\"\n",
    "4. w+: escribir con soporte para actualizar \"crear conjunto de datos grabable\"\n",
    "5. s: admite subconjuntos de datos\n",
    "6. v: admite E/S virtual, p. /vsimem/\n",
    "\n",
    "Las características virtuales son especiales y las revisaremos más adelante en este tutorial."
   ]
  },
  {
   "cell_type": "markdown",
   "metadata": {
    "hidden": true,
    "hideCode": true,
    "hidePrompt": true
   },
   "source": [
    "Para demostrar que se pueden usar diferentes formatos para representar los mismos datos, hemos incluido una carpeta llamada **DEM** que contiene el DEM SRTM 90m para el mismo mosaico en 3 formatos diferentes: formato hgt nativo SRTM (de LPDAAC), GMT formato (del servicio dem de GMTSAR) y formato Geotiff (OpenTopography). Puede verificar que el contenido sea el mismo ejecutando el comando."
   ]
  },
  {
   "cell_type": "code",
   "execution_count": 39,
   "metadata": {
    "hidden": true,
    "hideCode": false,
    "hidePrompt": false
   },
   "outputs": [
    {
     "name": "stdout",
     "output_type": "stream",
     "text": [
      "Driver: GTiff/GeoTIFF\n",
      "Files: N33W119_wgs84.tif\n",
      "Size is 3600, 3600\n",
      "Coordinate System is:\n",
      "GEOGCRS[\"WGS 84\",\n",
      "    DATUM[\"World Geodetic System 1984\",\n",
      "        ELLIPSOID[\"WGS 84\",6378137,298.257223563,\n",
      "            LENGTHUNIT[\"metre\",1]]],\n",
      "    PRIMEM[\"Greenwich\",0,\n",
      "        ANGLEUNIT[\"degree\",0.0174532925199433]],\n",
      "    CS[ellipsoidal,2],\n",
      "        AXIS[\"geodetic latitude (Lat)\",north,\n",
      "            ORDER[1],\n",
      "            ANGLEUNIT[\"degree\",0.0174532925199433]],\n",
      "        AXIS[\"geodetic longitude (Lon)\",east,\n",
      "            ORDER[2],\n",
      "            ANGLEUNIT[\"degree\",0.0174532925199433]],\n",
      "    ID[\"EPSG\",4326]]\n",
      "Data axis to CRS axis mapping: 2,1\n",
      "Origin = (-119.000138888880798,34.000138888885445)\n",
      "Pixel Size = (0.000277777777778,-0.000277777777778)\n",
      "Metadata:\n",
      "  AREA_OR_POINT=Area\n",
      "Image Structure Metadata:\n",
      "  COMPRESSION=LZW\n",
      "  INTERLEAVE=BAND\n",
      "  LAYOUT=COG\n",
      "Corner Coordinates:\n",
      "Upper Left  (-119.0001389,  34.0001389) (119d 0' 0.50\"W, 34d 0' 0.50\"N)\n",
      "Lower Left  (-119.0001389,  33.0001389) (119d 0' 0.50\"W, 33d 0' 0.50\"N)\n",
      "Upper Right (-118.0001389,  34.0001389) (118d 0' 0.50\"W, 34d 0' 0.50\"N)\n",
      "Lower Right (-118.0001389,  33.0001389) (118d 0' 0.50\"W, 33d 0' 0.50\"N)\n",
      "Center      (-118.5001389,  33.5001389) (118d30' 0.50\"W, 33d30' 0.50\"N)\n",
      "Band 1 Block=256x256 Type=Float32, ColorInterp=Gray\n",
      "  Minimum=-61.785, Maximum=602.602, Mean=4.558, StdDev=38.235\n",
      "  NoData Value=-32768\n",
      "  Metadata:\n",
      "    STATISTICS_MAXIMUM=602.60241699219\n",
      "    STATISTICS_MEAN=4.5577477240447\n",
      "    STATISTICS_MINIMUM=-61.78483581543\n",
      "    STATISTICS_STDDEV=38.234846104946\n",
      "    STATISTICS_VALID_PERCENT=100\n"
     ]
    }
   ],
   "source": [
    "!gdalinfo -stats N33W119_wgs84.tif"
   ]
  },
  {
   "cell_type": "code",
   "execution_count": 40,
   "metadata": {
    "hidden": true,
    "hideCode": false,
    "hidePrompt": false
   },
   "outputs": [
    {
     "name": "stdout",
     "output_type": "stream",
     "text": [
      "Driver: GMT/GMT NetCDF Grid Format\n",
      "Files: 18.grd\n",
      "Size is 1201, 601\n",
      "Origin = (-121.002499999999998,35.502499999999998)\n",
      "Pixel Size = (0.005000000000000,-0.005000000000000)\n",
      "Corner Coordinates:\n",
      "Upper Left  (-121.0025000,  35.5025000) \n",
      "Lower Left  (-121.0025000,  32.4975000) \n",
      "Upper Right (-114.9975000,  35.5025000) \n",
      "Lower Right (-114.9975000,  32.4975000) \n",
      "Center      (-118.0000000,  34.0000000) \n",
      "Band 1 Block=1201x1 Type=Float32, ColorInterp=Undefined\n",
      "  Minimum=-74.586, Maximum=3411.414, Mean=443.527, StdDev=504.287\n",
      "  Metadata:\n",
      "    STATISTICS_MAXIMUM=3411.4138183594\n",
      "    STATISTICS_MEAN=443.52650734192\n",
      "    STATISTICS_MINIMUM=-74.586204528809\n",
      "    STATISTICS_STDDEV=504.28678716346\n",
      "    STATISTICS_VALID_PERCENT=100\n"
     ]
    }
   ],
   "source": [
    "!gdalinfo -stats 18.grd"
   ]
  },
  {
   "cell_type": "markdown",
   "metadata": {
    "hidden": true,
    "hideCode": true,
    "hidePrompt": true
   },
   "source": [
    "<br>\n",
    "<div class=\"alert alert-info\">\n",
    "<b>Nota:</b>\n",
    "Como puede ver, GDAL admite una amplia gama de formatos de datos y proporciona una interfaz unificada. Si planea trabajar con conjuntos de datos ráster, le recomendamos que utilice uno de estos formatos admitidos como base. Tiene que haber una razón realmente convincente para elegir un formato diferente.\n",
    "</div>\n",
    "\n"
   ]
  },
  {
   "cell_type": "markdown",
   "metadata": {
    "hideCode": true,
    "hidePrompt": true
   },
   "source": [
    "## Sistemas de archivos virtuales"
   ]
  },
  {
   "cell_type": "markdown",
   "metadata": {
    "hideCode": true,
    "hidePrompt": true
   },
   "source": [
    "GDAL no necesariamente necesita que los datos se almacenen en un archivo local. Proporciona una interfaz similar a un archivo para varias fuentes de datos y estos se conocen como formatos virtuales. Estos sistemas se denominan sistemas de archivos virtuales. Para obtener una lista completa de los sistemas de archivos virtuales admitidos por GDAL, consulte http://www.gdal.org/gdal_virtual_file_systems.html\n",
    "\n",
    "Veremos un par de ejemplos de cómo funcionan."
   ]
  },
  {
   "cell_type": "markdown",
   "metadata": {
    "hideCode": true,
    "hidePrompt": true
   },
   "source": [
    "### vsicurl"
   ]
  },
  {
   "cell_type": "markdown",
   "metadata": {
    "hideCode": true,
    "hidePrompt": true
   },
   "source": [
    "Esto está destinado a ser utilizado con conjuntos de datos que se sirven en línea a través de http/https/ftp. Para habilitar esta función, GDAL debe construirse con soporte \"curl\". Aquí hay un ejemplo de cómo usaríamos esta característica"
   ]
  },
  {
   "cell_type": "code",
   "execution_count": 41,
   "metadata": {},
   "outputs": [
    {
     "name": "stdout",
     "output_type": "stream",
     "text": [
      "ERROR 11: HTTP response code: 404\n",
      "gdalinfo failed - unable to open '/vsicurl/http://landsat-pds.s3.amazonaws.com/L8/001/003/LC80010032014272LGN00/LC80010032014272LGN00_B1.TIF'.\n"
     ]
    }
   ],
   "source": [
    "#Este es un ejemplo de trabajo con el archivo Landsat de Amazon\n",
    "!gdalinfo /vsicurl/http://landsat-pds.s3.amazonaws.com/L8/001/003/LC80010032014272LGN00/LC80010032014272LGN00_B1.TIF    "
   ]
  },
  {
   "cell_type": "markdown",
   "metadata": {
    "heading_collapsed": true,
    "hideCode": true,
    "hidePrompt": true
   },
   "source": [
    "### vsizip / vsitar / vsigzip"
   ]
  },
  {
   "cell_type": "code",
   "execution_count": 43,
   "metadata": {
    "hidden": true
   },
   "outputs": [
    {
     "name": "stdout",
     "output_type": "stream",
     "text": [
      "Archive:  DEM.zip\n",
      "Zip file size: 2600801 bytes, number of entries: 12\n",
      "drwx---     2.0 fat        0 b- stor 04-Nov-17 10:01 DEM_10m/\n",
      "-rw-a--     2.0 fat  9687040 t- defN 03-Mar-18 06:39 DEM_10m/bushkill_pa.dem\n",
      "-rw-a--     2.0 fat    29376 t- defN 03-Apr-05 18:41 DEM_10m/bushkill_pa.html\n",
      "-rw-a--     2.0 fat    23087 t- defN 03-Apr-05 18:41 DEM_10m/bushkill_pa.text\n",
      "-rw-a--     2.0 fat      973 t- defN 03-Feb-07 15:48 DEM_10m/bushkill_pa.txt\n",
      "-rw-a--     2.0 fat    20758 t- defN 03-Apr-05 18:41 DEM_10m/bushkill_pa.xml\n",
      "drwx---     2.0 fat        0 b- stor 04-Nov-17 10:01 DEM_30m/\n",
      "-rw-a--     2.0 fat    26279 t- defN 03-Aug-28 08:11 DEM_30m/bushkill_dem_30m_metadata.html\n",
      "drwx---     2.0 fat        0 b- stor 04-Nov-17 10:01 DEM_30m/bushkill_dem_30m_metadata_files/\n",
      "-rw-a--     2.0 fat      104 b- defN 03-Aug-28 08:10 DEM_30m/bushkill_dem_30m_metadata_files/disk.gif\n",
      "-rw-ah-     2.0 fat     3072 b- defN 03-Aug-28 08:33 DEM_30m/bushkill_dem_30m_metadata_files/Thumbs.db\n",
      "-rw-a--     2.0 fat  1077248 t- defN 00-Oct-24 05:52 DEM_30m/bushkill_pa.dem\n",
      "12 files, 10867937 bytes uncompressed, 2599205 bytes compressed:  76.1%\n"
     ]
    }
   ],
   "source": [
    "#Mire el DEM descargado del sitio de PSU\n",
    "!zipinfo DEM.zip"
   ]
  },
  {
   "cell_type": "code",
   "execution_count": 44,
   "metadata": {
    "hidden": true,
    "hideCode": false,
    "hidePrompt": false,
    "scrolled": true
   },
   "outputs": [
    {
     "name": "stdout",
     "output_type": "stream",
     "text": [
      "Driver: USGSDEM/USGS Optional ASCII DEM (and CDED)\n",
      "Files: /vsizip/DEM.zip/DEM_30m/bushkill_pa.dem\n",
      "Size is 350, 465\n",
      "Coordinate System is:\n",
      "PROJCRS[\"unnamed\",\n",
      "    BASEGEOGCRS[\"NAD27\",\n",
      "        DATUM[\"North American Datum 1927\",\n",
      "            ELLIPSOID[\"Clarke 1866\",6378206.4,294.978698213898,\n",
      "                LENGTHUNIT[\"metre\",1]]],\n",
      "        PRIMEM[\"Greenwich\",0,\n",
      "            ANGLEUNIT[\"degree\",0.0174532925199433]],\n",
      "        ID[\"EPSG\",4267]],\n",
      "    CONVERSION[\"UTM zone 18N\",\n",
      "        METHOD[\"Transverse Mercator\",\n",
      "            ID[\"EPSG\",9807]],\n",
      "        PARAMETER[\"Latitude of natural origin\",0,\n",
      "            ANGLEUNIT[\"degree\",0.0174532925199433],\n",
      "            ID[\"EPSG\",8801]],\n",
      "        PARAMETER[\"Longitude of natural origin\",-75,\n",
      "            ANGLEUNIT[\"degree\",0.0174532925199433],\n",
      "            ID[\"EPSG\",8802]],\n",
      "        PARAMETER[\"Scale factor at natural origin\",0.9996,\n",
      "            SCALEUNIT[\"unity\",1],\n",
      "            ID[\"EPSG\",8805]],\n",
      "        PARAMETER[\"False easting\",500000,\n",
      "            LENGTHUNIT[\"metre\",1],\n",
      "            ID[\"EPSG\",8806]],\n",
      "        PARAMETER[\"False northing\",0,\n",
      "            LENGTHUNIT[\"metre\",1],\n",
      "            ID[\"EPSG\",8807]],\n",
      "        ID[\"EPSG\",16018]],\n",
      "    CS[Cartesian,2],\n",
      "        AXIS[\"easting\",east,\n",
      "            ORDER[1],\n",
      "            LENGTHUNIT[\"metre\",1,\n",
      "                ID[\"EPSG\",9001]]],\n",
      "        AXIS[\"northing\",north,\n",
      "            ORDER[2],\n",
      "            LENGTHUNIT[\"metre\",1,\n",
      "                ID[\"EPSG\",9001]]]]\n",
      "Data axis to CRS axis mapping: 1,2\n",
      "Origin = (489495.000000000000000,4552455.000000000000000)\n",
      "Pixel Size = (30.000000000000000,-30.000000000000000)\n",
      "Metadata:\n",
      "  AREA_OR_POINT=Point\n",
      "Corner Coordinates:\n",
      "Upper Left  (  489495.000, 4552455.000) ( 75d 7'30.51\"W, 41d 7'30.85\"N)\n",
      "Lower Left  (  489495.000, 4538505.000) ( 75d 7'29.66\"W, 40d59'58.45\"N)\n",
      "Upper Right (  499995.000, 4552455.000) ( 75d 0' 0.21\"W, 41d 7'31.09\"N)\n",
      "Lower Right (  499995.000, 4538505.000) ( 75d 0' 0.21\"W, 40d59'58.70\"N)\n",
      "Center      (  494745.000, 4545480.000) ( 75d 3'45.15\"W, 41d 3'44.84\"N)\n",
      "Band 1 Block=350x465 Type=Int16, ColorInterp=Undefined\n",
      "  NoData Value=-32767\n",
      "  Unit Type: m\n"
     ]
    }
   ],
   "source": [
    "###Interactuar directamente con datos dentro de archivos zip/tar\n",
    "!gdalinfo /vsizip/DEM.zip/DEM_30m/bushkill_pa.dem"
   ]
  },
  {
   "cell_type": "markdown",
   "metadata": {
    "heading_collapsed": true,
    "hideCode": true,
    "hidePrompt": true
   },
   "source": [
    "### vsis3/ vsigs/ vsiaz"
   ]
  },
  {
   "cell_type": "markdown",
   "metadata": {
    "hidden": true,
    "hideCode": true,
    "hidePrompt": true
   },
   "source": [
    "Muchas de las nuevas actualizaciones en GDAL se enfocan en ampliar el soporte a los datos almacenados en plataformas en la nube, lo que permite a los usuarios interactuar con pequeñas porciones de datos sin tener que descargar todo."
   ]
  },
  {
   "cell_type": "markdown",
   "metadata": {
    "hidden": true
   },
   "source": [
    "#### Opción 1: Usar vsicurl y cookies con archivo .netrc"
   ]
  },
  {
   "cell_type": "markdown",
   "metadata": {
    "hidden": true
   },
   "source": [
    "En este caso, reutilizaremos la configuración del archivo .netrc que configuramos anteriormente para las descargas automáticas de DEM desde LP DAAC. Si no lo ha hecho, complete el Paso 2 desde el enlace que se muestra aquí:\n",
    "https://wiki.earthdata.nasa.gov/display/EL/How+To+Access+Data+With+cURL+And+Wget"
   ]
  },
  {
   "cell_type": "code",
   "execution_count": 46,
   "metadata": {
    "hidden": true
   },
   "outputs": [
    {
     "name": "stdout",
     "output_type": "stream",
     "text": [
      "None\n"
     ]
    },
    {
     "name": "stderr",
     "output_type": "stream",
     "text": [
      "ERROR 4: `/vsicurl/https://grfn.asf.alaska.edu/door/download/S1-GUNW-D-R-160-tops-20190710_20190628-162436-20935N_18926N-PP-6a53-v2_0_2.nc' does not exist in the file system, and is not recognized as a supported dataset name.\n"
     ]
    }
   ],
   "source": [
    "gdal.SetConfigOption('GDAL_HTTP_COOKIEFILE','asf_cookies.txt')\n",
    "gdal.SetConfigOption('GDAL_HTTP_COOKIEJAR', 'asf_cookies.txt')\n",
    "results = gdal.Info(\"/vsicurl/https://grfn.asf.alaska.edu/door/download/S1-GUNW-D-R-160-tops-20190710_20190628-162436-20935N_18926N-PP-6a53-v2_0_2.nc\")\n",
    "print(results)"
   ]
  },
  {
   "cell_type": "markdown",
   "metadata": {
    "hidden": true
   },
   "source": [
    "Más información sobre cómo interactuar con los datos que ASF aloja en Amazon Cloud en tutoriales posteriores..."
   ]
  },
  {
   "cell_type": "markdown",
   "metadata": {
    "heading_collapsed": true,
    "hideCode": true,
    "hidePrompt": true
   },
   "source": [
    "### vsimem"
   ]
  },
  {
   "cell_type": "markdown",
   "metadata": {
    "hidden": true,
    "hideCode": true,
    "hidePrompt": true
   },
   "source": [
    "Estas son características que permiten su uso en matrices de memoria al igual que otros conjuntos de datos GDAL. Aquí hay un ejemplo:"
   ]
  },
  {
   "cell_type": "code",
   "execution_count": 47,
   "metadata": {
    "hidden": true,
    "hideCode": false,
    "hidePrompt": false
   },
   "outputs": [
    {
     "name": "stdout",
     "output_type": "stream",
     "text": [
      "GEOGCS[\"WGS 84\",DATUM[\"WGS_1984\",SPHEROID[\"WGS 84\",6378137,298.257223563,AUTHORITY[\"EPSG\",\"7030\"]],AUTHORITY[\"EPSG\",\"6326\"]],PRIMEM[\"Greenwich\",0],UNIT[\"degree\",0.0174532925199433,AUTHORITY[\"EPSG\",\"9122\"]],AXIS[\"Latitude\",NORTH],AXIS[\"Longitude\",EAST],AUTHORITY[\"EPSG\",\"4326\"]]\n",
      "(-119.0001388888808, 0.00027777777777781464, 0.0, 34.000138888885445, 0.0, -0.00027777777777781464)\n"
     ]
    }
   ],
   "source": [
    "##Get memory driver\n",
    "memdrv = gdal.GetDriverByName('MEM')\n",
    "\n",
    "##Open source dataset in read only mode\n",
    "ds = gdal.Open('N33W119_wgs84.tif', gdal.GA_ReadOnly)\n",
    "\n",
    "##Create an in-memory copy\n",
    "memds = memdrv.CreateCopy('dummyname', ds)\n",
    "\n",
    "##Close source\n",
    "ds = None\n",
    "\n",
    "##Use copy for operations\n",
    "print(memds.GetProjection())\n",
    "print(memds.GetGeoTransform())\n",
    "\n",
    "##Close memory copy\n",
    "memds = None"
   ]
  },
  {
   "cell_type": "markdown",
   "metadata": {
    "hideCode": true,
    "hidePrompt": true
   },
   "source": [
    "## Formato Virtual Raster Table (VRT)"
   ]
  },
  {
   "cell_type": "markdown",
   "metadata": {
    "hideCode": true,
    "hidePrompt": true
   },
   "source": [
    "El formato de tabla ráster virtual (VRT) amplía la idea de virtualización a discos reales en archivo. VRT es un formato personalizado compatible con GDAL que es similar a los \"enlaces\" o \"accesos directos\" en los sistemas operativos, excepto que tiene más funciones que simplemente apuntar a otras fuentes de datos.\n",
    "\n",
    "A menudo, cuando trabajamos con conjuntos de datos ráster, tendemos a generar un volumen bastante grande de productos intermedios debido a operaciones como recortar, mirar múltiples y enmascarar. Los VRT ofrecen la opción de crear canales de flujo de trabajo que generan dichos productos sobre la marcha. Nos basaremos ampliamente en esta función para nuestros ejercicios de series de tiempo más adelante.\n",
    "\n",
    "Los detalles sobre la función VRT de GDAL se pueden encontrar aquí: http://www.gdal.org/gdal_vrttut.html\n",
    "\n",
    "Es posible que ya haya notado que ISCE genera un archivo **.vrt** para cada producto ráster generado por los flujos de trabajo. Veremos los VRT con mayor detalle como parte de los otros cuadernos sobre manipulación de datos ráster. Pero aquí hay algunos ejemplos breves que demuestran las capacidades de este formato."
   ]
  },
  {
   "cell_type": "markdown",
   "metadata": {
    "heading_collapsed": true
   },
   "source": [
    "### Recorte de conjuntos de datos"
   ]
  },
  {
   "cell_type": "markdown",
   "metadata": {
    "hidden": true
   },
   "source": [
    "ISCE utiliza archivos GDAL VRT para extraer virtualmente una sola ráfaga de los productos Sentinel-1 SAFE. De nuestro tutorial de procesamiento TOPS, recordará que los datos del modo TOPS de Sentinel-1 se entregan como productos SEGUROS que contienen archivos TIFF para cada franja de imágenes. Cada franja consiste en un número de ráfagas o escaneos.\n",
    "\n",
    "Para evitar replicar estos datos en el disco nuevamente, usamos un archivo VRT simple para señalar la ubicación de los datos de ráfaga dentro de los archivos TIFF. Por ejemplo, en la salida de procesamiento de topsApp.ipynb, habrá SLC de ráfaga procesados organizados en carpetas, donde \"referencia\" es la imagen de referencia de un interferograma y \"secundaria\" es la imagen que se interferirá con la referencia. Si tuviera que mirar el contenido de reference/IW1/burst04.slc.vrt, verá algo como\n",
    "\n",
    "```xml\n",
    "<VRTDataset rasterXSize=\"20665\" rasterYSize=\"1493\">\n",
    "    <VRTRasterBand dataType=\"CFloat32\" band=\"1\">\n",
    "        <NoDataValue>0.0</NoDataValue>\n",
    "        <SimpleSource>\n",
    "            <SourceFilename relativeToVRT=\"1\">/vsizip//Users/agram/data/isce/japan/data/S1A_IW_SLC__1SSV_20160408T091355_20160408T091430_010728_01001F_83EB.zip/S1A_IW_SLC__1SSV_20160408T091355_20160408T091430_010728_01001F_83EB.SAFE/measurement/s1a-iw1-slc-vv-20160408t091355-20160408t091428-010728-01001f-001.tiff</SourceFilename>\n",
    "            <SourceBand>1</SourceBand>\n",
    "            <SourceProperties RasterXSize=\"20665\" RasterYSize=\"17916\" DataType=\"CInt16\"/>\n",
    "            <SrcRect xOff=\"130\" yOff=\"4498\" xSize=\"20468\" ySize=\"1458\"/>\n",
    "            <DstRect xOff=\"130\" yOff=\"19\" xSize=\"20468\" ySize=\"1458\"/>\n",
    "        </SimpleSource>\n",
    "    </VRTRasterBand>\n",
    "</VRTDataset>\n",
    "```"
   ]
  },
  {
   "cell_type": "markdown",
   "metadata": {
    "hidden": true,
    "hidePrompt": true
   },
   "source": [
    "Para mayor claridad, anotemos el archivo vrt para describir lo que está sucediendo. Tenga en cuenta que el formato VRT se basa en XML. Por lo tanto, utilizaremos la función de comentarios de XML para anotar el XML para su comprensión.\n",
    "\n",
    "```xml\n",
    "<!--Size of the virtual dataset-->\n",
    "<VRTDataset rasterXSize=\"20665\" rasterYSize=\"1493\">\n",
    "    <!-- Band 1 of the dataset and its data type -->\n",
    "    <VRTRasterBand dataType=\"CFloat32\" band=\"1\">\n",
    "        <!--No data value for this dataset-->\n",
    "        <NoDataValue>0.0</NoDataValue>\n",
    "        <!--We use a simple source to suggest that we don't alter contents of the data in source-->\n",
    "        <SimpleSource>\n",
    "            <!--Name of the source - notice that we point to a TIFF inside a zip file -->\n",
    "            <SourceFilename relativeToVRT=\"1\">/vsizip//Users/agram/data/isce/japan/data/S1A_IW_SLC__1SSV_20160408T091355_20160408T091430_010728_01001F_83EB.zip/S1A_IW_SLC__1SSV_20160408T091355_20160408T091430_010728_01001F_83EB.SAFE/measurement/s1a-iw1-slc-vv-20160408t091355-20160408t091428-010728-01001f-001.tiff</SourceFilename>\n",
    "            <!--Source may contain multiple bands. Indicate band from source -->\n",
    "            <SourceBand>1</SourceBand>\n",
    "            <!--Properties of the source. This is optional. GDAL will figure it out on the fly if not provided, but will be slow as it actually has to read the source to figure this out. Note that source is of type CInt16 -->\n",
    "            <SourceProperties RasterXSize=\"20665\" RasterYSize=\"17916\" DataType=\"CInt16\"/>\n",
    "            <!--Indicate spatial subset of source data in pixels and lines -->\n",
    "            <SrcRect xOff=\"130\" yOff=\"4498\" xSize=\"20468\" ySize=\"1458\"/>\n",
    "            <!--Indicate spatial location of destination-->\n",
    "            <DstRect xOff=\"130\" yOff=\"19\" xSize=\"20468\" ySize=\"1458\"/>\n",
    "        </SimpleSource>\n",
    "    </VRTRasterBand>\n",
    "</VRTDataset>\n",
    "```"
   ]
  },
  {
   "cell_type": "markdown",
   "metadata": {
    "heading_collapsed": true
   },
   "source": [
    "### Modificar algunos metadatos"
   ]
  },
  {
   "cell_type": "markdown",
   "metadata": {
    "hidden": true
   },
   "source": [
    "¿Recuerda el conjunto de datos en formato GMT del ejercicio anterior? Recuerde que fue etiquetado con información de coordenadas espaciales pero no con metadatos del sistema de coordenadas. Podemos arreglar eso rápidamente escribiendo un VRT que apunte al archivo con la información de coordenadas incluida en él."
   ]
  },
  {
   "cell_type": "code",
   "execution_count": 48,
   "metadata": {
    "hidden": true
   },
   "outputs": [
    {
     "name": "stdout",
     "output_type": "stream",
     "text": [
      "Input file size is 1201, 601\n"
     ]
    }
   ],
   "source": [
    "!gdal_translate -of VRT -a_srs EPSG:4326 18.grd UCSB_18arcsec.dem.vrt"
   ]
  },
  {
   "cell_type": "code",
   "execution_count": 49,
   "metadata": {
    "hidden": true,
    "scrolled": true
   },
   "outputs": [
    {
     "name": "stdout",
     "output_type": "stream",
     "text": [
      "<VRTDataset rasterXSize=\"1201\" rasterYSize=\"601\">\n",
      "  <SRS dataAxisToSRSAxisMapping=\"2,1\">GEOGCS[\"WGS 84\",DATUM[\"WGS_1984\",SPHEROID[\"WGS 84\",6378137,298.257223563,AUTHORITY[\"EPSG\",\"7030\"]],AUTHORITY[\"EPSG\",\"6326\"]],PRIMEM[\"Greenwich\",0,AUTHORITY[\"EPSG\",\"8901\"]],UNIT[\"degree\",0.0174532925199433,AUTHORITY[\"EPSG\",\"9122\"]],AXIS[\"Latitude\",NORTH],AXIS[\"Longitude\",EAST],AUTHORITY[\"EPSG\",\"4326\"]]</SRS>\n",
      "  <GeoTransform> -1.2100250000000000e+02,  5.0000000000000001e-03,  0.0000000000000000e+00,  3.5502499999999998e+01,  0.0000000000000000e+00, -5.0000000000000001e-03</GeoTransform>\n",
      "  <VRTRasterBand dataType=\"Float32\" band=\"1\" blockYSize=\"1\">\n",
      "    <Metadata>\n",
      "      <MDI key=\"STATISTICS_MAXIMUM\">3411.4138183594</MDI>\n",
      "      <MDI key=\"STATISTICS_MEAN\">443.52650734192</MDI>\n",
      "      <MDI key=\"STATISTICS_MINIMUM\">-74.586204528809</MDI>\n",
      "      <MDI key=\"STATISTICS_STDDEV\">504.28678716346</MDI>\n",
      "      <MDI key=\"STATISTICS_VALID_PERCENT\">100</MDI>\n",
      "    </Metadata>\n",
      "    <SimpleSource>\n",
      "      <SourceFilename relativeToVRT=\"1\">18.grd</SourceFilename>\n",
      "      <SourceBand>1</SourceBand>\n",
      "      <SourceProperties RasterXSize=\"1201\" RasterYSize=\"601\" DataType=\"Float32\" BlockXSize=\"1201\" BlockYSize=\"1\" />\n",
      "      <SrcRect xOff=\"0\" yOff=\"0\" xSize=\"1201\" ySize=\"601\" />\n",
      "      <DstRect xOff=\"0\" yOff=\"0\" xSize=\"1201\" ySize=\"601\" />\n",
      "    </SimpleSource>\n",
      "  </VRTRasterBand>\n",
      "</VRTDataset>\n"
     ]
    }
   ],
   "source": [
    "!cat UCSB_18arcsec.dem.vrt"
   ]
  },
  {
   "cell_type": "code",
   "execution_count": 50,
   "metadata": {
    "hidden": true,
    "scrolled": true
   },
   "outputs": [
    {
     "name": "stdout",
     "output_type": "stream",
     "text": [
      "Driver: VRT/Virtual Raster\n",
      "Files: UCSB_18arcsec.dem.vrt\n",
      "       18.grd\n",
      "Size is 1201, 601\n",
      "Coordinate System is:\n",
      "GEOGCRS[\"WGS 84\",\n",
      "    DATUM[\"World Geodetic System 1984\",\n",
      "        ELLIPSOID[\"WGS 84\",6378137,298.257223563,\n",
      "            LENGTHUNIT[\"metre\",1]]],\n",
      "    PRIMEM[\"Greenwich\",0,\n",
      "        ANGLEUNIT[\"degree\",0.0174532925199433]],\n",
      "    CS[ellipsoidal,2],\n",
      "        AXIS[\"geodetic latitude (Lat)\",north,\n",
      "            ORDER[1],\n",
      "            ANGLEUNIT[\"degree\",0.0174532925199433]],\n",
      "        AXIS[\"geodetic longitude (Lon)\",east,\n",
      "            ORDER[2],\n",
      "            ANGLEUNIT[\"degree\",0.0174532925199433]],\n",
      "    ID[\"EPSG\",4326]]\n",
      "Data axis to CRS axis mapping: 2,1\n",
      "Origin = (-121.002499999999998,35.502499999999998)\n",
      "Pixel Size = (0.005000000000000,-0.005000000000000)\n",
      "Corner Coordinates:\n",
      "Upper Left  (-121.0025000,  35.5025000) (121d 0' 9.00\"W, 35d30' 9.00\"N)\n",
      "Lower Left  (-121.0025000,  32.4975000) (121d 0' 9.00\"W, 32d29'51.00\"N)\n",
      "Upper Right (-114.9975000,  35.5025000) (114d59'51.00\"W, 35d30' 9.00\"N)\n",
      "Lower Right (-114.9975000,  32.4975000) (114d59'51.00\"W, 32d29'51.00\"N)\n",
      "Center      (-118.0000000,  34.0000000) (118d 0' 0.00\"W, 34d 0' 0.00\"N)\n",
      "Band 1 Block=128x128 Type=Float32, ColorInterp=Undefined\n",
      "  Min=-74.586 Max=3411.414 \n",
      "  Minimum=-74.586, Maximum=3411.414, Mean=443.527, StdDev=504.287\n",
      "  Metadata:\n",
      "    STATISTICS_MAXIMUM=3411.4138183594\n",
      "    STATISTICS_MEAN=443.52650734192\n",
      "    STATISTICS_MINIMUM=-74.586204528809\n",
      "    STATISTICS_STDDEV=504.28678716346\n",
      "    STATISTICS_VALID_PERCENT=100\n"
     ]
    }
   ],
   "source": [
    "!gdalinfo UCSB_18arcsec.dem.vrt"
   ]
  },
  {
   "cell_type": "markdown",
   "metadata": {
    "heading_collapsed": true
   },
   "source": [
    "### Conjuntos de datos derivados"
   ]
  },
  {
   "cell_type": "markdown",
   "metadata": {
    "hidden": true
   },
   "source": [
    "A menudo, terminamos en situaciones en las que necesitamos manipular ligeramente los datos para usarlos con otras herramientas de análisis. Por ejemplo, obtenga potencia en dB o amplitud o fase de SLC corregistrados. La generación de estos productos derivados podría consumir mucho espacio en disco. Los VRT proporcionan un mecanismo denominado **funciones de píxeles** para realizar estas transformaciones sobre la marcha. El conjunto de funciones de píxeles disponibles son (lista actual):\n",
    "\n",
    "* \"real\": extrae la parte real de una sola banda de trama (solo una copia si la entrada no es compleja)\n",
    "* \"imag\": extrae una parte imaginaria de una sola banda de trama (0 para no compleja)\n",
    "* \"complejo\": haga una banda compleja fusionando dos bandas utilizadas como valores reales e imag\n",
    "* \"mod\": módulo de extracción de una sola banda de trama (real o compleja)\n",
    "* \"fase\": extrae la fase de una sola banda de trama [-PI, PI] (0 o PI para no compleja)\n",
    "* \"conj\": calcula el conjugado complejo de una sola banda ráster (solo una copia si la entrada no es compleja)\n",
    "* \"suma\": suma 2 o más bandas ráster\n",
    "* \"diff\": calcula la diferencia entre 2 bandas de trama (b1 - b2)\n",
    "* \"mul\": multiplica 2 o más bandas de trama\n",
    "* \"cmul\": multiplica la primera banda por el complejo conjugado de la segunda\n",
    "* \"inv\": inversa (1./x). Nota: no se realiza verificación en la división cero\n",
    "* \"intensidad\": calcula la intensidad Re(x*conj(x)) de una sola banda ráster (real o compleja)\n",
    "* \"sqrt\": realiza la raíz cuadrada de una sola banda ráster (solo real)\n",
    "* \"log10\": calcula el logaritmo (base 10) de los abs de una sola banda raster (real o compleja): log10( abs( x ) )\n",
    "* \"dB\": realiza la conversión a dB de los abs de una sola banda ráster (real o compleja): 20. * log10( abs( x ) )\n",
    "* \"dB2amp\": realiza la conversión de escala de logarítmica a lineal (amplitud) (es decir, 10 ^ (x/20)) de una sola banda de trama (solo real)\n",
    "* \"dB2pow\": realiza la conversión de escala de logarítmica a lineal (potencia) (es decir, 10 ^ (x/10)) de una sola banda de trama (solo real)\n",
    "\n",
    "\n",
    "Tenga en cuenta que esta lista es muy relevante para los usuarios de SAR/InSAR ;)"
   ]
  },
  {
   "cell_type": "markdown",
   "metadata": {
    "heading_collapsed": true
   },
   "source": [
    "# <u> Ahora está listo para comenzar a explorar los productos de datos geocodificados y no empaquetados de ARIA mediante GDAL. </u>"
   ]
  },
  {
   "cell_type": "markdown",
   "metadata": {},
   "source": []
  }
 ],
 "metadata": {
  "hide_code_all_hidden": true,
  "kernelspec": {
   "display_name": "Python 3.8.13 ('isce2')",
   "language": "python",
   "name": "python3"
  },
  "language_info": {
   "codemirror_mode": {
    "name": "ipython",
    "version": 3
   },
   "file_extension": ".py",
   "mimetype": "text/x-python",
   "name": "python",
   "nbconvert_exporter": "python",
   "pygments_lexer": "ipython3",
   "version": "3.8.13"
  },
  "toc": {
   "base_numbering": 1,
   "nav_menu": {},
   "number_sections": false,
   "sideBar": true,
   "skip_h1_title": false,
   "title_cell": "Table of Contents",
   "title_sidebar": "Contents",
   "toc_cell": false,
   "toc_position": {},
   "toc_section_display": true,
   "toc_window_display": true
  },
  "vscode": {
   "interpreter": {
    "hash": "f198759ffd434a69a85f977f6c5f5e3f13f21a07dc38024e25527e8e127096e8"
   }
  }
 },
 "nbformat": 4,
 "nbformat_minor": 4
}
