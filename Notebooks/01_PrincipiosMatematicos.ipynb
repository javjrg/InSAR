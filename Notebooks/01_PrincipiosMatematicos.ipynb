{
 "cells": [
  {
   "cell_type": "markdown",
   "metadata": {
    "slideshow": {
     "slide_type": "slide"
    }
   },
   "source": [
    "# Conceptos matemáticos básicos para la interferometría\n",
    "\n",
    "En este sección, presentaremos los elementos matemáticos esenciales que se encuentran típicamente en el radar de apertura sintética (SAR) y la interferometría. Asumiremos que el lector tiene una comprensión del álgebra. Esta sección puede servir como indicador para que los estudiantes evalúen su capacidad para aprovechar al máximo este curso.\n",
    "\n",
    "Para esquematizar de una mejor manera todos los conceptos, hemos separado los contenidos de esta sección en los siguientes temas:\n",
    "\n",
    "1. [Trigonometría](#section-1)<br>\n",
    "2. [Números complejos](#section-2)<br>\n",
    "3. [Vectores y algebra vectorial](#section-3)<br>\n",
    "4. [Algebra lineal o matricial](#section-4)<br>\n",
    "5. [Calculo elemental](#section-5)<br>\n",
    "6. [Transformada de Fourier](#section-6)<br>\n",
    "7. [Decibeles](#section-7)<br>\n"
   ]
  },
  {
   "cell_type": "markdown",
   "metadata": {},
   "source": [
    "## Preliminares\n",
    "\n",
    "Antes de comenzar con la sección daremos importaremos algunas librerías y definiremos algunas funciones que nos serán necesarias para el desarrollo de la sección"
   ]
  },
  {
   "cell_type": "code",
   "execution_count": 1,
   "metadata": {
    "hideCode": true,
    "hideOutput": true,
    "hidePrompt": true,
    "hide_input": true,
    "slideshow": {
     "slide_type": "-"
    }
   },
   "outputs": [],
   "source": [
    "# Algunas librerías necesarias y definiciones de parámetros\n",
    "\n",
    "import warnings\n",
    "warnings.filterwarnings('ignore')\n",
    "\n",
    "bShowInline = True  # Set = False para la generación de documentos\n",
    "%matplotlib inline\n",
    "import matplotlib.pyplot as plt\n",
    "\n",
    "params = {'legend.fontsize': 'x-large',\n",
    "          'figure.figsize': (15, 5),\n",
    "         'axes.labelsize': 'x-large',\n",
    "         'axes.titlesize':'x-large',\n",
    "         'xtick.labelsize':'x-large',\n",
    "         'ytick.labelsize':'x-large'}\n",
    "plt.rcParams.update(params)\n",
    "\n",
    "def makeplot( plt, figlabel, figcaption):\n",
    "    figname = figlabel+'.png'\n",
    "    plt.savefig(figname)\n",
    "    if bShowInline:\n",
    "        plt.show()\n",
    "    else:\n",
    "        plt.close()\n",
    "    strLatex=\"\"\"\n",
    "    \\\\begin{figure}[b]\n",
    "    \\centering\n",
    "        \\includegraphics[totalheight=10.0cm]{%s}\n",
    "        \\caption{%s}\n",
    "        \\label{fig:%s}\n",
    "    \\end{figure}\"\"\"%(figname, figcaption, figlabel) \n",
    "    return display(Latex(strLatex)) "
   ]
  },
  {
   "cell_type": "code",
   "execution_count": 2,
   "metadata": {
    "hideCode": true,
    "hideOutput": true,
    "hidePrompt": true
   },
   "outputs": [],
   "source": [
    "from ipywidgets import widgets, Layout, Box, GridspecLayout\n",
    "\n",
    "def create_multipleChoice_widget(description, options, correct_answer, hint):\n",
    "    if correct_answer not in options:\n",
    "        options.append(correct_answer)\n",
    "    correct_answer_index = options.index(correct_answer)\n",
    "    radio_options = [(words, i) for i, words in enumerate(options)]\n",
    "    alternativ = widgets.RadioButtons(\n",
    "        options = radio_options,\n",
    "        description = '',\n",
    "        disabled = False,\n",
    "        indent = False,\n",
    "        align = 'center',\n",
    "    )\n",
    "    description_out = widgets.Output(layout=Layout(width='auto'))\n",
    "    with description_out:\n",
    "        print(description)\n",
    "    feedback_out = widgets.Output()\n",
    "    def check_selection(b):\n",
    "        a = int(alternativ.value)\n",
    "        if a==correct_answer_index:\n",
    "            s = '\\x1b[6;30;42m' + \"correct\" + '\\x1b[0m' +\"\\n\"\n",
    "        else:\n",
    "            s = '\\x1b[5;30;41m' + \"try again\" + '\\x1b[0m' +\"\\n\"\n",
    "        with feedback_out:\n",
    "            feedback_out.clear_output()\n",
    "            print(s)\n",
    "        return\n",
    "    check = widgets.Button(description=\"check\")\n",
    "    check.on_click(check_selection)\n",
    "    hint_out = widgets.Output()\n",
    "    def hint_selection(b):\n",
    "        with hint_out:\n",
    "            print(hint)       \n",
    "        with feedback_out:\n",
    "            feedback_out.clear_output()\n",
    "            print(hint)\n",
    "    hintbutton = widgets.Button(description=\"hint\")\n",
    "    hintbutton.on_click(hint_selection)\n",
    "    return widgets.VBox([description_out, \n",
    "                         alternativ, \n",
    "                         widgets.HBox([hintbutton, check]), feedback_out], \n",
    "                        layout=Layout(display='flex',\n",
    "                                     flex_flow='column',\n",
    "                                     align_items='stretch',\n",
    "                                     width='auto')) \n",
    "test = create_multipleChoice_widget('1. Let a, b, c be real numbers. If a<b and b<c, then:',\n",
    "                                   ['a>c','a<c','b<c','c<a'],\n",
    "                                   'a<c',\n",
    "                                   \"[hint]:\")\n",
    "trig = create_multipleChoice_widget('',\n",
    "    ['A','B','C','D'],\n",
    "    'B',\"[hint]: Given in question\")\n",
    "comp1 = create_multipleChoice_widget('',\n",
    "    ['A','B','C','D'],\n",
    "    'C',\"[hint]:\")\n",
    "comp2 = create_multipleChoice_widget('',\n",
    "    ['A','B','C','D'],\n",
    "    'B',\"[hint]:\")\n",
    "vec1 = create_multipleChoice_widget('',\n",
    "    ['A','B','C','D'],\n",
    "    'B',\"[hint]:\")\n",
    "vec2 = create_multipleChoice_widget('',\n",
    "    ['A','B','C','D'],\n",
    "    'A',\"[hint]:\")\n",
    "calc = create_multipleChoice_widget('',\n",
    "    ['A','B','C','D'],\n",
    "    'A',\"[hint]:\")\n",
    "dB = create_multipleChoice_widget('',\n",
    "    ['A','B','C','D'],\n",
    "    'D',\"[hint]:\")"
   ]
  },
  {
   "cell_type": "markdown",
   "metadata": {
    "hidePrompt": true,
    "slideshow": {
     "slide_type": "-"
    }
   },
   "source": [
    "<a id=\"section-1\"></a>\n",
    "## Trigonometría"
   ]
  },
  {
   "cell_type": "markdown",
   "metadata": {
    "hidePrompt": true,
    "slideshow": {
     "slide_type": "-"
    }
   },
   "source": [
    "Un aporte importante de la trigonometría es el estudio de triángulos. En las imágenes de radar y la interferometría nos encontramos con muchos triángulos. Por lo que haremos un recordatorio de algunos conceptos básicos.\n",
    "\n",
    "Definamos un triángulo rectángulo (uno con un ángulo de $90^\\circ$ entre dos de los lados) donde el lado horizontal tiene longitud $x$ y el lado vertical tiene longitud $y$. Podemos decir que la longitud tercer lado (llamado hipotenusa) está dada por $\\sqrt{x^2 + y^2}$, como se ilustra en la figura.\n",
    "\n",
    "<div>\n",
    "<p style = 'text-align:center;'>\n",
    "<img src=\"Figs/triangle.png\" width=\"300\"/> \n",
    "</p>\n",
    "</div>\n",
    "\n",
    "\n",
    "\n",
    "Con el ángulo $\\theta$ entre la horizontal y la hipotenusa especificado, podemos definir las relaciones trigonométricas entre los lados y el ángulo anteriormente definido. Estas relaciones son las siguientes:\n",
    "\n",
    "\\begin{equation}\n",
    "\\cos \\theta = \\frac{x}{\\sqrt{x^2 + y^2}}\n",
    "\\end{equation}\n",
    "\n",
    "\\begin{equation}\n",
    "\\sin \\theta = \\frac{y}{\\sqrt{x^2 + y^2}}\n",
    "\\end{equation}\n",
    "\n",
    "\\begin{equation}\n",
    "\\tan \\theta = \\frac{y}{x}\n",
    "\\end{equation}\n",
    "\n",
    "\\begin{equation}\n",
    "\\sec \\theta = \\frac{1}{\\cos \\theta}\n",
    "\\end{equation}\n",
    "\n",
    "\\begin{equation}\n",
    "\\csc \\theta = \\frac{1}{\\sin \\theta}\n",
    "\\end{equation}\n",
    "\n",
    "\\begin{equation}\n",
    "\\cot \\theta = \\frac{1}{\\tan \\theta}\n",
    "\\end{equation}"
   ]
  },
  {
   "cell_type": "markdown",
   "metadata": {},
   "source": [
    "### El circulo unitario\n",
    "\n",
    "Otra forma de definir las funciones trigonométricas es a través del círculo unitario. Para un círculo de radio $r$, la circunferencia viene dada por\n",
    "\n",
    "\\begin{equation}\n",
    "C=2\\pi r\n",
    "\\end{equation}\n",
    "\n",
    "Llamaremos \"círculo unitario\" al cirvulo cuyo radio es $r=1$, como se ilustra en la imagen que se presenta a continuación. La circunferencia es $2\\pi$ y cualquier punto $P$ en el círculo está descrito por las coordenadas cartesianas $(x,y)$ $(\\cos\\theta,\\sin\\theta)$ donde $\\theta$ es el ángulo formado por la horizontal y la línea desde el origen hasta $P$. El ángulo $\\theta$ se mide desde la horizontal. Las coordenadas $x=\\cos\\theta, y=\\sin\\theta$ oscilan entre $+1$ y $-1$ a medida que aumenta $\\theta$.\n",
    "\n",
    "<div>\n",
    "<p style = 'text-align:center;'>\n",
    "<img src=\"Figs/unitcircle.jpg\" width=\"400\"/> \n",
    "</p>"
   ]
  },
  {
   "cell_type": "markdown",
   "metadata": {},
   "source": [
    "### Identidades trigonométricas básicas\n",
    "\n",
    "Hay una gran cantidad de relaciones o identidades útiles que se usan explícitamente en este curso o que pueden ser útiles para resolver otros problemas relacionados. Acá dejamos una lista de las identidades más clásicas\n",
    "\n",
    "\\begin{equation}\n",
    "\\sin^2\\theta + \\cos^2\\theta = 1  \\qquad , \\qquad \\sin(-\\theta) = -\\sin(\\theta) \\qquad , \\qquad\\cos(-\\theta) = \\cos(\\theta)\n",
    "\\end{equation}\n",
    "\n",
    "\\begin{equation}\n",
    " \\sin(2\\alpha) = 2\\sin(\\alpha)\\cos(\\alpha) \\qquad , \\qquad \\cos(2\\alpha) = \\cos^2\\alpha -\\sin^2\\alpha\n",
    "\\end{equation}\n",
    "\n",
    "\\begin{equation}\n",
    " \\sin\\left(\\frac{\\alpha}{2}\\right) = \\pm \\sqrt{\\frac{1-\\cos\\alpha}{2}} \\qquad , \\qquad   \\cos\\left(\\frac{\\alpha}{2}\\right) = \\pm \\sqrt{\\frac{1+\\cos\\alpha}{2}}\n",
    "\\end{equation}\n",
    "\n",
    "\\begin{equation}\n",
    "1+\\tan^2\\alpha = \\sec^2\\alpha \\qquad , \\qquad 1+\\cot^2\\alpha = \\csc^2\\alpha \n",
    "\\end{equation}\n",
    "\n",
    "\\begin{equation}\n",
    "\\sin(\\alpha\\pm\\beta) = \\sin\\alpha\\cos\\beta \\pm \\cos\\alpha \\sin\\beta \n",
    "\\end{equation}\n",
    "\n",
    "\\begin{equation}\n",
    "\\cos(\\alpha\\pm\\beta) = \\cos\\alpha\\cos\\beta \\mp \\sin\\alpha \\sin\\beta \n",
    "\\end{equation}\n",
    "\n",
    "\\begin{equation}\n",
    "\\tan(\\alpha\\pm\\beta) = \\frac{\\tan\\alpha \\pm \\tan\\beta}{1\\mp\\tan\\alpha\\tan\\beta}\n",
    "\\end{equation}\n"
   ]
  },
  {
   "cell_type": "markdown",
   "metadata": {},
   "source": [
    "## Sumas trigonométricas y relaciones de productos\n",
    "\n",
    "A veces es conveniente convertir sumas de cantidades trigonométricas en productos y viceversa. Aquí hay algunas fórmulas convenientes.\n",
    "\n",
    "\\begin{equation}\n",
    "\\sin\\theta\\sin\\phi = \\frac{\\cos(\\theta-\\phi)-\\cos(\\theta+\\phi)}{2}\n",
    "\\end{equation}\n",
    "\n",
    "\\begin{equation}\n",
    "\\sin\\theta\\cos\\phi = \\frac{\\sin(\\theta+\\phi)-\\sin(\\theta-\\phi)}{2}\n",
    "\\end{equation}\n",
    "\n",
    "\\begin{equation}\n",
    "\\cos\\theta\\cos\\phi = \\frac{\\cos(\\theta-\\phi)+\\cos(\\theta+\\phi)}{2}\n",
    "\\end{equation}\n",
    "\n",
    "\\begin{equation}\n",
    "\\sin\\theta\\pm \\sin\\phi = 2\\sin\\left(\\frac{\\theta\\pm\\phi}{2}\\right)\\cos\\left(\\frac{\\theta\\mp\\phi}{2}\\right)\n",
    "\\end{equation}\n",
    "\n",
    "\\begin{equation}\n",
    "\\cos\\theta + \\cos\\phi = 2\\cos\\left(\\frac{\\theta + \\phi}{2}\\right)\\cos\\left(\\frac{\\theta-\\phi}{2}\\right)\n",
    "\\end{equation}\n",
    "\n",
    "\\begin{equation}\n",
    "\\cos\\theta - \\cos\\phi = - 2\\sin\\left(\\frac{\\theta + \\phi}{2}\\right)\\sin\\left(\\frac{\\theta-\\phi}{2}\\right)\n",
    "\\end{equation}"
   ]
  },
  {
   "cell_type": "markdown",
   "metadata": {},
   "source": [
    "## Leyes del seno y el coseno\n",
    "\n",
    "Las llamadas leyes del seno y del coseno en trigonometría se utilizan mucho en la interferometría. Permiten la solución fácil para los ángulos o lados de un triángulo de forma arbitraria, como se muestra aquí.\n",
    "\n",
    "<br> <img src=\"Figs/gentriangle.png\" width=\"400\" align=\"center\" /> <br> \n",
    "\n",
    "### Ley de los senos\n",
    "\n",
    "\\begin{equation}\n",
    "\\frac{\\sin\\alpha}{a} = \\frac{\\sin\\beta}{b} = \\frac{\\sin\\gamma}{c}\n",
    "\\end{equation}\n",
    "\n",
    "### Ley de los cosenos\n",
    "\n",
    "\\begin{equation}\n",
    "c^2 = a^2 + b^2 - 2 a b \\cos \\gamma\n",
    "\\end{equation}\n",
    "\n",
    "\\begin{equation}\n",
    "a^2 = b^2 + c^2 - 2 b c \\cos \\alpha\n",
    "\\end{equation}\n",
    "\n",
    "\\begin{equation}\n",
    "b^2 = a^2 + c^2 - 2 a c \\cos \\beta\n",
    "\\end{equation}\n",
    "\n",
    "Tenga en cuenta que si uno de los ángulos es $90^\\circ$, digamos $\\gamma$ en este caso, entonces la Ley de los cosenos se reduce al teorema de Pitágoras:\n",
    "\n",
    "\\begin{equation}\n",
    "c^2 = a^2 + b^2\n",
    "\\end{equation}"
   ]
  },
  {
   "cell_type": "markdown",
   "metadata": {
    "hideCode": false,
    "hidePrompt": true
   },
   "source": [
    "<a id=\"section-2\"></a>\n",
    "## Números Complejos \n",
    "\n",
    "### ¿Qué es un número complejo y realmente los necesitamos?\n",
    "\n",
    "La respuesta es sí. Los números complejos surgieron en el siglo XVI al intentar resolver ecuaciones polinómicas como\n",
    "\n",
    "\\begin{equation}\n",
    "x^2+1 = 0\n",
    "\\end{equation}\n",
    "\n",
    "Se encontró que al agregar $i=\\sqrt{-1}$ era posible determinar todas las soluciones de $n$ para cualquier ecuación polinomial de orden $n$ ( $n=2$ en la ecuación anterior).\n",
    "\n",
    "En física e ingeniería, los números complejos surgen de forma natural en una miríada de formas, incluida la descripción de fenómenos ondulatorios. Los píxeles en las imágenes de radar se representan fundamentalmente como números complejos, cada uno con una amplitud que representa la reflectividad del píxel y una fase que codifica la geometría de la observación, así como otros efectos de superficie. Como tal, la comprensión de los números complejos es esencial para comprender completamente las representaciones subyacentes y el lenguaje de la interferometría.\n",
    "\n",
    "Afortunadamente, solo se necesitan algunos datos básicos e identidades sobre números complejos.\n",
    "\n",
    "Es importante observar que\n",
    "\n",
    "\\begin{equation}\n",
    "i^2 = -1  \\qquad \\Rightarrow \\qquad \\frac{1}{i} = - i\n",
    "\\end{equation}\n"
   ]
  },
  {
   "cell_type": "markdown",
   "metadata": {},
   "source": [
    "### Aritmética compleja\n",
    "\n",
    "Todos los números complejos se pueden escribir en la forma:\n",
    "\n",
    "\\begin{equation}\n",
    "z = \\underbrace{\\quad x \\quad}_\\text{parte real} + \\quad i \\underbrace{\\quad  y \\quad}_\\text{parte imaginaria}\n",
    "\\end{equation}\n",
    "\n",
    "Para sumar o restar números complejos, simplemente suma o resta las partes real e imaginaria. Para $z_1 = x_1 + i y_1$ y $z_2 = x_2 + i y_2$,\n",
    "\n",
    "\\begin{equation}\n",
    "z_1 \\pm z_2 = (x_1 \\pm x_2) + i (y_1 \\pm y_2)\n",
    "\\end{equation}\n",
    "\n",
    "\n",
    "\n"
   ]
  },
  {
   "cell_type": "markdown",
   "metadata": {},
   "source": [
    "### Vista geométrica de números complejos\n",
    "\n",
    "#### El plano complejo\n",
    "\n",
    "Los números complejos se pueden ver como puntos en un plano, donde los ejes de coordenadas del plano son los ejes real e imaginario. La suma y la resta se pueden visualizar como una suma de vectores, como se muestra en la siguiente figura.\n",
    "\n",
    "<br> <img src=\"Figs/complexplane.png\" width=\"400\" align=\"center\" /> <br> \n",
    "\n"
   ]
  },
  {
   "cell_type": "markdown",
   "metadata": {},
   "source": [
    "#### Módulo (o Magnitud) y Conjugados de un Número Complejo\n",
    "\n",
    "La magnitud o módulo de un número complejo $z$ es simplemente su longitud en el plano complejo y normalmente se expresa como $\\vert z \\vert$.\n",
    "\n",
    "La magnitud de $z$ se puede calcular en términos de su complejo conjugado, expresado como $z^*$ o $\\bar{z}$. Esto es simplemente su reflejo sobre el eje real.\n",
    "\n",
    "<br> <img src=\"Figs/conjugate.png\" width=\"400\" align=\"center\" /> <br> \n",
    "\n",
    "De la figura, es fácil ver que la parte real $\\Re (z)$ y la parte imaginaria $\\Im(z)$ de $z$ son\n",
    "\\begin{equation}\n",
    "\\Re(z) = \\frac{z+z^*}{2} \\qquad \\Im(z) = \\frac{z-z^*}{2i}\n",
    "\\end{equation}\n",
    "\n",
    "La magnitud de $z$ geométricamente la hipotenusa del triángulo formado entre $x$, $y$ y $\\vert z \\vert$ en el plano complejo:\n",
    "\\begin{equation}\n",
    "\\vert z \\vert = \\sqrt{x^2+y^2}\n",
    "\\end{equation}\n",
    "\n",
    "Más formalmente, la magnitud de un vector complejo se define como\n",
    "\\begin{equation}\n",
    "\\vert z \\vert  =  \\sqrt{zz^*} = \\sqrt{x^2+y^2}\n",
    "\\end{equation}"
   ]
  },
  {
   "cell_type": "markdown",
   "metadata": {},
   "source": [
    "### Multiplicación y División de Números Complejos\n",
    "\n",
    "Para multiplicar y dividir números complejos, los tratamos como binomios. La multiplicación es sencilla:\n",
    "\n",
    "\\begin{equation}\n",
    "z_1 z_2  =  x_1 x_2 - y_1 y_2 + i(x_1 y_2 + x_2 y_1)\n",
    "\\end{equation}\n",
    "\n",
    "La división es un poco más complicada. Aquí cambiamos la división en multiplicación al multiplicar el numerador y el denominador por el complejo conjugado del denominador\n",
    "\\begin{equation}\n",
    "\\frac{z_1}{z_2} =  \\frac{x_1 x_2 + y_1 y_2}{x^2+y^2} + i \\frac{-x_1 y_2 + x_2 y_1}{x^2+y^2}\n",
    "\\end{equation}\n"
   ]
  },
  {
   "cell_type": "markdown",
   "metadata": {},
   "source": [
    "### Representación en formato polar de números complejos\n",
    "\n",
    "Tal como vimos con los triángulos y las funciones trigonométricas, las componentes real e imaginaria de un número complejo se pueden representar en un formato polar (ahí examinamos el círculo unitario donde la hipotenusa siempre tuvo longitud 1. Aquí el número complejo tiene longitud $r = |z|$.) Haciendo referencia a la figura,\n",
    "\\begin{equation}\n",
    "z_1 = x_1 + i y_1 = r_1 \\cos\\theta_1 + i r_1 \\sin\\theta_1\n",
    "\\end{equation}\n",
    "\n",
    "\\begin{equation}\n",
    "z_2 = x_2 + i y_2 = r_2 \\cos\\theta_2 + i r_2 \\sin\\theta_2\n",
    "\\end{equation}\n",
    "\n",
    "<br> <img src=\"Figs/polar.png\" width=\"300\" align=\"center\" /> <br> \n",
    "\n",
    "Esta representación proporciona una vista geométrica de la multiplicación y división que simplifica el esfuerzo.\n",
    "\n",
    "\\begin{equation}\n",
    "z_1 z_2  =  r_1 r_2 \\cos(\\theta_1+\\theta_2) + i r_1 r_2 \\sin(\\theta_1+\\theta_2)\n",
    "\\end{equation}\n",
    "\n",
    "Entonces el producto involucra el producto de las magnitudes y las sumas de los ángulos. Una expansión similar para la división muestra que la razón involucra la razón de las magnitudes y las diferencias de los ángulos:\n",
    "\\begin{equation}\n",
    "\\frac{z_1}{z_2} = \\frac{r_1}{r_2} \\cos(\\theta_1-\\theta_2) + i \\frac{r_1}{r_2} \\sin(\\theta_1-\\theta_2) \n",
    "\\end{equation}\n"
   ]
  },
  {
   "cell_type": "markdown",
   "metadata": {},
   "source": [
    "### Identidades de Euler\n",
    "\n",
    "Basándose en las fórmulas de la forma polar para la multiplicación y la división, Euler desarrolló la siguiente identidad notable:\n",
    "\n",
    "\\begin{equation}\n",
    "e^{i\\theta} = \\cos\\theta + i \\sin\\theta\n",
    "\\end{equation}\n",
    "\n",
    "Entonces todo número complejo se puede escribir en la forma\n",
    "\n",
    "\\begin{equation}\n",
    "z = r\\cos\\theta + i r\\sin\\theta = r e^{i\\theta}\n",
    "\\end{equation}\n",
    "\n",
    "La multiplicación y la división son fáciles en este formato.\n",
    "\n",
    "\\begin{equation}\n",
    "z_1 z_2 = r_1 e^{i\\theta_1} r_2 e^{i\\theta_2} = r_1 r_2 e^{i(\\theta_1+\\theta_2)}\n",
    "\\end{equation}\n",
    "\n",
    "\\begin{equation}\n",
    "\\frac{z_1}{z_2} = \\frac{r_1 e^{i\\theta_1}}{r_2 e^{i\\theta_2}} = \\frac{r_1}{r_2}e^{i(\\theta_1-\\theta_2)}\n",
    "\\end{equation}\n",
    "\n",
    "El complejo conjugado y la magnitud también son fáciles de calcular en este formato:\n",
    "\n",
    "\\begin{equation}\n",
    "z^* = r e^{-i\\theta}\n",
    "\\end{equation}\n",
    "\n",
    "\\begin{equation}\n",
    "|z|^2 = z z^* = r e^{i\\theta} r e^{-i\\theta} = r^2 e^{i(\\theta-\\theta)} = r^2\n",
    "\\end{equation}\n",
    "\n",
    "Aquí hay algunas otras fórmulas de números complejos útiles \n",
    "\n",
    "\\begin{equation}\n",
    "\\cos\\theta = \\frac{e^{i\\theta}+e^{-i\\theta}}{2}\n",
    "\\end{equation}\n",
    "\n",
    "\\begin{equation}\n",
    "\\sin\\theta = \\frac{e^{i\\theta}-e^{-i\\theta}}{2i}\n",
    "\\end{equation}\n",
    "\n",
    "\\begin{equation}\n",
    "r = \\sqrt{\\Re(z)^2+\\Im(z)^2}\n",
    "\\end{equation}\n",
    "\n",
    "\\begin{equation}\n",
    "r = \\sqrt{\\Re(z)^2+\\Im(z)^2}\n",
    "\\end{equation}\n",
    "\n",
    "\\begin{equation}\n",
    "\\theta = \n",
    "     \\begin{cases}\n",
    "       \\tan^{-1}\\frac{\\Im(z)}{\\Re(z)} &\\quad \\Re(z)>0\\\\\n",
    "        \\tan^{-1}\\frac{\\Im(z)}{\\Re(z)} +\\frac{\\pi}{2} &\\quad \\Re(z)<0 \\ \\text{and} \\ \\Im(z) \\ge 0\\\\\n",
    "        \\tan^{-1}\\frac{\\Im(z)}{\\Re(z)} - \\frac{\\pi}{2} &\\quad \\Re(z)<0 \\ \\text{and} \\ \\Im(z) < 0\\\\\n",
    "     \\end{cases}\n",
    "\\end{equation}"
   ]
  },
  {
   "cell_type": "markdown",
   "metadata": {
    "hideCode": false,
    "hidePrompt": true
   },
   "source": [
    "<a id=\"section-3\"></a>\n",
    "## Vectores y algebra vectorial"
   ]
  },
  {
   "cell_type": "markdown",
   "metadata": {
    "hideCode": false,
    "hidePrompt": true
   },
   "source": [
    "### Definición de Vectores e Interpretación Geométrica\n",
    "\n",
    "Los vectores son objetos que tienen magnitud (o longitud) y dirección. Pueden existir en un espacio de 2, 3 o n dimensiones. \n",
    "\n",
    "<br> <img src=\"Figs/vecs.png\" width=\"400\" align=\"center\" /> <br> \n",
    "\n",
    "Los vectores se representan como pares de números en dos dimensiones, triples de números en tres dimensiones y $n$-tupla de números en $n$ dimensiones.\n",
    "\n",
    "<br> <img src=\"Figs/2n3vecs.png\" width=\"400\" align=\"center\" /> <br> "
   ]
  },
  {
   "cell_type": "markdown",
   "metadata": {},
   "source": [
    "### Aritmética vectorial\n",
    "\n",
    "#### Longitud o Magnitud de un Vector\n",
    "\n",
    "La magnitud o longitud euclidiana de un vector en $n$ dimensiones viene dada por\n",
    "\n",
    "\\begin{equation}\n",
    "\\vert\\vec{v}\\vert = \\sqrt{x_1^2 + x_2^2 + x_3^2 + \\dots + x_n^2}\n",
    "\\end{equation}\n",
    "\n",
    "Un vector unitario tiene una longitud de 1. Cualquier vector se puede convertir en un vector unitario dividiendo por su longitud\n",
    "\n",
    "\\begin{equation}\n",
    "\\hat{v} = \\frac{\\vec{v}}{\\vert\\vec{v}\\vert}\n",
    "\\end{equation}\n",
    "\n",
    "En la figura anterior de la derecha que ilustra el vector de 3 $\\vec{v} =[x_1,x_2,x_3]$, la longitud de $\\vec{v}$ viene dada por $|\\vec{v}| = \\sqrt{x_1^2 + x_2^2 + x_3^2}$. Su proyección sobre el plano $(x,y)$ también es un vector, con longitud $\\sqrt{x_1^2 + x_2^2}$."
   ]
  },
  {
   "cell_type": "markdown",
   "metadata": {},
   "source": [
    "#### Multiplicación escalar de un vector\n",
    "\n",
    "Para multiplicar un número por un vector simplemente multiplicamos cada componente del vector por el número. Si el valor absoluto del número es mayor que uno, la longitud aumenta. Si el valor absoluto del número es menor que uno, la longitud disminuye. Multiplicar por un número negativo apunta el vector en la dirección opuesta.\n",
    "\n",
    "\\begin{equation}\n",
    "a\\vec{v} =[ax_1,ax_2,ax_3,\\dots,ax_n]\n",
    "\\end{equation}\n",
    "\n",
    "<br> <img src=\"Figs/sclvecs.png\" width=\"400\" align=\"center\" /> <br>"
   ]
  },
  {
   "cell_type": "markdown",
   "metadata": {},
   "source": [
    "#### Suma y Resta de Vectores\n",
    "\n",
    "Para sumar o restar a los vectores simplemente sume o reste sus componentes\n",
    "\n",
    "\\begin{equation}\n",
    "\\vec{v} =[v_1,v_2,v_3,\\dots,v_n]\n",
    "\\end{equation}\n",
    "\n",
    "\\begin{equation}\n",
    "\\vec{w} =[w_1,w_2,w_3,\\dots,w_n]\n",
    "\\end{equation}\n",
    "\n",
    "\\begin{equation}\n",
    "\\vec{v} \\pm \\vec{w} =[v_1\\pm w_1,v_2\\pm w_2,v_3\\pm w_3,\\dots,v_n\\pm w_n]\n",
    "\\end{equation}\n",
    "\n",
    "<br> <img src=\"Figs/addvecs.png\" width=\"400\" align=\"center\" /> <br>"
   ]
  },
  {
   "cell_type": "markdown",
   "metadata": {},
   "source": [
    "### Punto o producto interno y ángulo entre vectores\n",
    "\n",
    "A menudo se desea conocer el ángulo entre dos vectores, por ejemplo para determinar si son perpendiculares o no. Esto se puede hacer usando el producto escalar de dos vectores definidos como\n",
    "\n",
    "\\begin{equation}\n",
    "\\vec{v} \\cdot \\vec{w} = \\langle\\vec{v},\\vec{w}\\rangle = v_1 w_1 + v_2 w_2 +  v_3 w_3 + \\dots + v_n w_n = \\sum_{i=1}^n v_i w_i\n",
    "\\end{equation}\n",
    "\n",
    "Con esta definición, el ángulo entre los vectores viene dado por\n",
    "\n",
    "\\begin{equation}\n",
    "\\cos\\theta = \\frac{\\vec{v}\\cdot\\vec{w}}{|\\vec{v}| |\\vec{w}|}\n",
    "\\end{equation}\n",
    "\n",
    "La magnitud de un vector también se puede expresar convenientemente como un producto escalar\n",
    "\n",
    "\\begin{equation}\n",
    "|\\vec{v}| = \\sqrt{\\langle\\vec{v},\\vec{v}\\rangle}\n",
    "\\end{equation}\n",
    "\n",
    "Tenga en cuenta que si el producto escalar es igual a cero, entonces $\\theta=\\pi/2$ y los vectores son perpendiculares.\n",
    "\n",
    "##### La ley de los cosenos es un producto punto\n",
    "\n",
    "La ley de los cosenos se puede representar usando vectores como se muestra en la figura \n",
    "\n",
    "<br> <img src=\"Figs/losdp.png\" width=\"200\" align=\"left\" /> <br>\n",
    "\n",
    "\\begin{equation}\n",
    "|\\vec{v} - \\vec{w}|^2 = |\\vec{v}|^2 + |\\vec{w}|^2 - 2 |\\vec{v}| |\\vec{w}| \\cos\\theta\n",
    "\\end{equation}\n",
    "\n",
    "\\begin{equation}\n",
    "(v_1-w_1)^2 + (v_2-w_2)^2 =  |\\vec{v}| |\\vec{w}| \\cos\\theta \n",
    "\\end{equation}\n",
    "\n",
    "Esto muestra que el producto escalar es otra forma de la Ley de los cosenos.\n"
   ]
  },
  {
   "cell_type": "markdown",
   "metadata": {},
   "source": [
    "### Cross Products\n",
    "\n",
    "The cross product of two vectors is a vector perpendicular to the two vectors. The cross product is only defined for vectors in three dimensions. It is calculated through the determinant\n",
    "\n",
    "\\begin{eqnarray}\n",
    "\\vec{v} \\times \\vec{w} & = & \\begin{vmatrix}\n",
    "\\hat{i} & \\hat{j} & \\hat{k} \\\\\n",
    "v_1 &  v_2 & v_3 \\\\\n",
    "w_1 &  w_2 & w_3\n",
    "\\end{vmatrix} \\\\\n",
    "& = & (v_2 w_3 - v_3 w_2) \\hat{i} + (v_3 w_1 - v_1 w_3)\\hat{j} + (v_1 w_2 - v_2 w_1)\\hat{k}\n",
    "\\end{eqnarray}\n",
    "\n",
    "In vector form, it can be written then\n",
    "\n",
    "\\begin{equation}\n",
    "\\vec{v} \\times \\vec{w} = \\begin{bmatrix}\n",
    "(v_2 w_3 - v_3 w_2) \\\\\n",
    "(v_3 w_1 - v_1 w_3) \\\\\n",
    "(v_1 w_2 - v_2 w_1)\n",
    "\\end{bmatrix}\n",
    "\\end{equation}\n",
    "\n",
    "\n",
    "<br> <img src=\"Figs/crossprd.png\" width=\"200\" align=\"left\" /> <br> A convenient way to remember the direction the resultant vector points from the cross product is to use the \"right-hand rule\".  Positioning the right hand fingers as shown in the figure, and assigning $\\vec{v}$ and $\\vec{w}$ to the index and middle fingers imagined to be in a plane, the resultant vector is in the direction the thumb points, perpendicular to the plane formed by the other fingers. \n",
    "\n"
   ]
  },
  {
   "cell_type": "markdown",
   "metadata": {},
   "source": [
    "<div class=\"alert alert-warning\">\n",
    "<font size=\"5\"> <b> Test your understanding - Vectors <b> </font>\n",
    "</div>\n",
    "\n",
    "The look vector, $\\vec{\\ell}$,  to a target is given by\n",
    "\n",
    "\\begin{equation}\n",
    "\\vec{\\ell} = \\begin{bmatrix}\n",
    "0 \\\\\n",
    "3\\\\\n",
    "-4 \n",
    "\\end{bmatrix} \\nonumber\n",
    "\\end{equation}\n",
    "\n",
    "then the unit vector, $\\hat{\\ell}$, pointing in this direction is\n",
    "\n",
    "A.  $\\hat{\\ell} = \\begin{bmatrix}\n",
    "0 \\\\\n",
    "\\frac{3}{5}\\\\\n",
    "\\frac{4}{5}\n",
    "\\end{bmatrix}\n",
    "$\n",
    "\n",
    "B. $\\hat{\\ell} = \\begin{bmatrix}\n",
    "0 \\\\\n",
    "\\frac{3}{5}\\\\\n",
    "-\\frac{4}{5}\n",
    "\\end{bmatrix}\n",
    "$\n",
    "\n",
    "C. $\\hat{\\ell} = \\begin{bmatrix}\n",
    "0 \\\\\n",
    "\\frac{5}{3}\\\\\n",
    "\\frac{5}{4}\n",
    "\\end{bmatrix}\n",
    "$\n",
    "    \n",
    "D.  $\\hat{\\ell} = \\begin{bmatrix}\n",
    "1 \\\\\n",
    "1\\\\\n",
    "1\n",
    "\\end{bmatrix}\n",
    "$\n"
   ]
  },
  {
   "cell_type": "code",
   "execution_count": 7,
   "metadata": {},
   "outputs": [
    {
     "data": {
      "application/vnd.jupyter.widget-view+json": {
       "model_id": "918fd695956849e39c3986012e272d84",
       "version_major": 2,
       "version_minor": 0
      },
      "text/plain": [
       "VBox(children=(Output(layout=Layout(width='auto')), RadioButtons(options=(('A', 0), ('B', 1), ('C', 2), ('D', …"
      ]
     },
     "metadata": {},
     "output_type": "display_data"
    }
   ],
   "source": [
    " vec1"
   ]
  },
  {
   "cell_type": "markdown",
   "metadata": {},
   "source": [
    "If $\\vec{v}=( 0, \\sin \\theta_{\\ell}, -\\cos \\theta_{\\ell} )$, which of the following vectors is perpendicular to $\\vec{v}$? \n",
    "\n",
    "\n",
    "A. $(0, \\cos \\theta_{\\ell}, \\sin \\theta_{\\ell} )$\n",
    "\n",
    "B. $(0, -\\cos \\theta_{\\ell}, \\sin \\theta_{\\ell} )$\n",
    "\n",
    "C. $ (\\cos \\theta_{\\ell}, 0, \\sin \\theta_{\\ell} )$ \n",
    "\n",
    "D. None of the above. \n"
   ]
  },
  {
   "cell_type": "code",
   "execution_count": 8,
   "metadata": {},
   "outputs": [
    {
     "data": {
      "application/vnd.jupyter.widget-view+json": {
       "model_id": "d28807fe82d0471c9abe7063c6824898",
       "version_major": 2,
       "version_minor": 0
      },
      "text/plain": [
       "VBox(children=(Output(layout=Layout(width='auto')), RadioButtons(options=(('A', 0), ('B', 1), ('C', 2), ('D', …"
      ]
     },
     "metadata": {},
     "output_type": "display_data"
    }
   ],
   "source": [
    "vec2"
   ]
  },
  {
   "cell_type": "markdown",
   "metadata": {
    "hideCode": false,
    "hidePrompt": true
   },
   "source": [
    "<a id=\"section-4\"></a>\n",
    "## 4.0 Linear or Matrix Algebra \n",
    "\n"
   ]
  },
  {
   "cell_type": "markdown",
   "metadata": {},
   "source": [
    "### Definition of a Matrix\n",
    "\n",
    "A matrix is simply an rectangular array of numbers.  The numbers may be real or complex.\n",
    "\n",
    "\\begin{equation}\n",
    "A = \\begin{bmatrix}\n",
    "a_{11} & a_{12} & \\dots & a_{1n} \\\\\n",
    "{\\color{blue} {a_{21}}} & {\\color{blue} {a_{22}}} & \\dots & {\\color{blue} {a_{2n}}} \\\\\n",
    "\\vdots & \\vdots & \\vdots & \\vdots \\\\\n",
    "a_{m1} & a_{m2} & \\dots & a_{mn} \n",
    "\\end{bmatrix}\n",
    "\\end{equation}\n",
    "\n",
    "The row index is the first index, running from 1 to $m$, as shown in blue, $a_{k,i},\\  i=1,n$ for fixed $k$.  The column index is the second index, running from 1 to $n$; the column is defined as the numbers arranged vertically $a_{i,k},\\  i=1,m$ for fixed $k$.\n",
    "\n",
    "If $m=n$, the matrix is said to be square.  Mostly we will use $2 \\times 2$ or $3 \\times 3$ matrices.\n",
    "\n",
    "Vectors are often represented as matricies with only 1 column, as we saw previously.\n",
    "\n",
    "\\begin{equation}\n",
    "\\vec{v} = \\begin{bmatrix}\n",
    "v_1 \\\\\n",
    "v_2 \\\\\n",
    "\\vdots \\\\\n",
    "v_n\n",
    "\\end{bmatrix}\n",
    "\\end{equation}\n",
    "\n",
    "Matrices are useful because they can be used to represent linear transformations, for example rotations, or to solve systems of linear equations."
   ]
  },
  {
   "cell_type": "markdown",
   "metadata": {},
   "source": [
    "### Matrix Transpose\n",
    "\n",
    "The transpose of an $m \\times n$ matrix $A$, denoted $A^t$, is an $n \\times m$ matrix obtained by interchanging rows and columns: the ijth entry in the transpose is given by\n",
    "\n",
    "\\begin{equation}\n",
    "A^t_{ij} A_{ji}\n",
    "\\end{equation}\n",
    "\n",
    "Written out in array form\n",
    "\n",
    "\\begin{equation}\n",
    "\\begin{bmatrix}\n",
    "a_{11} & \\dots & a_{1n} \\\\\n",
    "\\vdots & \\vdots &  \\vdots \\\\\n",
    "a_{m1} & \\dots & a_{mn} \n",
    "\\end{bmatrix}^t\n",
    "= \\begin{bmatrix}\n",
    "a_{11} &  \\dots & a_{m1} \\\\\n",
    "\\vdots & \\vdots & \\vdots \\\\\n",
    "a_{1n}  & \\dots & a_{mn} \n",
    "\\end{bmatrix}\n",
    "\\end{equation}"
   ]
  },
  {
   "cell_type": "markdown",
   "metadata": {},
   "source": [
    "### Matrix Arithmetic\n",
    "\n",
    "#### Addition and Subtraction\n",
    "\n",
    "Two matrices of the same dimension can be added or subtracted simply by adding/subtracting the corresponding entries\n",
    "\n",
    "\\begin{equation}\n",
    "A + B = \\begin{bmatrix}\n",
    "a_{11} & \\dots & a_{1n} \\\\\n",
    "\\vdots & \\vdots &  \\vdots \\\\\n",
    "a_{m1} & \\dots & a_{mn} \n",
    "\\end{bmatrix}\n",
    "+ \\begin{bmatrix}\n",
    "b_{11} &  \\dots & b_{1n} \\\\\n",
    "\\vdots & \\vdots & \\vdots \\\\\n",
    "b_{m1}  & \\dots & b_{mn} \n",
    "\\end{bmatrix}\n",
    "= \\begin{bmatrix}\n",
    "a_{11}+b_{11} &  \\dots & a_{1n}+b_{1n} \\\\\n",
    "\\vdots & \\vdots & \\vdots \\\\\n",
    "a_{m1}+b_{m1}  & \\dots & a_{mn}+b_{mn} \n",
    "\\end{bmatrix}\n",
    "\\end{equation}\n",
    "\n",
    "A matrix can be multiplied by a number (real or complex) by multiplying all entries by that number\n",
    "\n",
    "\\begin{equation}\n",
    "rA = r \\begin{bmatrix}\n",
    "a_{11} & \\dots & a_{1n} \\\\\n",
    "\\vdots & \\vdots &  \\vdots \\\\\n",
    "a_{m1} & \\dots & a_{mn} \n",
    "\\end{bmatrix}\n",
    "=  \\begin{bmatrix}\n",
    "r a_{11} & \\dots & r a_{1n} \\\\\n",
    "\\vdots & \\vdots &  \\vdots \\\\\n",
    "r a_{m1} & \\dots & r a_{mn} \n",
    "\\end{bmatrix}\n",
    "\\end{equation}\n"
   ]
  },
  {
   "cell_type": "markdown",
   "metadata": {},
   "source": [
    "#### Matrix Multiplication\n",
    "\n",
    "Two matrices can be multiplied if the number of columns of the first matrix equals the number of rows of the second matrix\n",
    "\n",
    "\\begin{eqnarray}\n",
    "C_{mn} = A_{mk} B_{kn} & = & \n",
    "\\begin{bmatrix}\n",
    "a_{11} & a_{12} & \\dots & a_{1k} \\\\\n",
    "a_{21} & a_{22} & \\dots & a_{2k} \\\\\n",
    "\\vdots & \\vdots &  \\vdots & \\vdots \\\\\n",
    "{\\color{blue} {a_{i1}}} & {\\color{blue} {a_{i2}}} & {\\color{blue} {\\dots}} & {\\color{blue} {a_{ik}}} \\\\\n",
    "\\vdots & \\vdots &  \\vdots & \\vdots \\\\\n",
    "a_{m1} & a_{m2} & \\dots & a_{mk} \n",
    "\\end{bmatrix}_{mk} \\begin{bmatrix}\n",
    "b_{11} & b_{12} & \\dots & {\\color{red} {b_{1j}}} & \\dots & b_{1n} \\\\\n",
    "b_{21} & b_{22} & \\dots & {\\color{red} {b_{2j}}} & \\dots & b_{2n} \\\\\n",
    "\\vdots & \\vdots &  \\vdots & \\vdots & \\vdots & \\vdots\\\\\n",
    "b_{k1} & b_{k2} & \\dots & {\\color{red} {b_{kj}}} & \\dots & b_{kn} \\\\ \n",
    "\\end{bmatrix}_{kn} \\\\\n",
    "& = & \\begin{bmatrix}\n",
    "c_{11} & \\dots  & c_{1j} & \\dots & b_{1n} \\\\\n",
    "\\vdots & \\vdots & \\vdots & \\vdots & \\vdots \\\\\n",
    "c_{i1} & \\dots  & \\boxed{c_{ij}=\\sum_{p=1}^k a_{ip} b_{pj}} & \\dots & c_{2n} \\\\\n",
    "\\vdots & \\vdots & \\vdots & \\vdots & \\vdots \\\\\n",
    "c_{m1} & \\dots  & c_{mj} & \\dots & c_{mn} \\\\ \n",
    "\\end{bmatrix}_{mn}\n",
    "\\end{eqnarray}\n",
    "\n",
    "The $i$th row (in blue) of $A$ and $j$th column (in red) of $B$ are multiplied as a dot product, shown in the box in $C$.  \n",
    "\n",
    "Matrix multiplication is associative, but {\\em not commutative}:\n",
    "\\begin{equation}\n",
    "A(BC) = (AB)C\n",
    "\\end{equation}\n"
   ]
  },
  {
   "cell_type": "markdown",
   "metadata": {},
   "source": [
    "### Matrix Inverse\n",
    "\n",
    "A square matrix $A$ is said to be invertible if there exists a matrix $B$ such that\n",
    "\\begin{equation}\n",
    "AB = BA = I\n",
    "\\end{equation}\n",
    "where $I$ is the matrix with all ones on the diagonal and 0 elsewhere (note: $AI=A$)\n",
    "\n",
    "If such a $B$ exists then it is called the inverse of $A$ and denoted $A^{-1}$. \n",
    "For a $2 \\times 2$ matrix defined as\n",
    "\\begin{equation}\n",
    "A=\\begin{bmatrix}\n",
    "a & b \\\\\n",
    "c & d \\\\ \n",
    "\\end{bmatrix}\n",
    "\\end{equation}\n",
    "the determinant $\\det(A) = ad-bc$, and the inverse is given by\n",
    "\\begin{equation}\n",
    "A^{-1}=\\frac{1}{ad-bc}\\begin{bmatrix}\n",
    "d & -b \\\\\n",
    "-c & a \\\\ \n",
    "\\end{bmatrix}\n",
    "\\end{equation}\n",
    "\n",
    "\n",
    "In general if  $\\det(A)\\ne0$,  then an inverse exists. There are general formulas for computing the inverse, however they are not needed for this course.\n"
   ]
  },
  {
   "cell_type": "markdown",
   "metadata": {},
   "source": [
    "### Rotation Matrices\n",
    "\n",
    "Matrices can be used represent the rotation through an angle about an axis in either two or three dimensions. \n",
    "\n",
    "In two dimension the rotation matrices are of the form\n",
    "\\begin{equation}\n",
    "R(\\theta) = \\begin{bmatrix}\n",
    "\\cos\\theta & -\\sin\\theta \\\\\n",
    "\\sin\\theta & \\cos\\theta \\\\ \n",
    "\\end{bmatrix}\n",
    "\\end{equation}\n",
    "\n",
    "Rotation matrices have two very special properties:\n",
    "- The dot product of every row or column with itself equals 1.\n",
    "- The inverse of a rotation matrix is equal to its transpose.\n",
    "\\begin{equation}\n",
    "A^{-1} = A^t\n",
    "\\end{equation}\n",
    "\n",
    "For the $2\\times 2$ rotation matrix\n",
    "\\begin{equation}\n",
    "R^{-1}(\\theta) = R(-\\theta) = \\begin{bmatrix}\n",
    "\\cos\\theta & \\sin\\theta \\\\\n",
    "-\\sin\\theta & \\cos\\theta \\\\ \n",
    "\\end{bmatrix}\n",
    "\\end{equation}\n"
   ]
  },
  {
   "cell_type": "markdown",
   "metadata": {},
   "source": [
    "### Euler Angles and Three-dimensional Rotations\n",
    "\n",
    "Euler angles provide a means of specifying an arbitrary 3-dimensional rotation matrix by specifying three angles and specified sequence of axes about which to rotate.\n",
    "\n",
    "There are twelve possible right handed Euler angle sequences that may be used to specify any rotation matrix - and conversely every rotation matrix can be decomposed into any of the twelve possible Euler angle sequences.\n",
    "\n",
    "Euler angle sequences are the sequence of axes about which to rotate, the twelve sequences are\n",
    "<br> <img src=\"Figs/eulerangs.png\" width=\"600\" align=\"center\" /> <br>\n",
    "\n"
   ]
  },
  {
   "cell_type": "markdown",
   "metadata": {},
   "source": [
    "Rotations in three dimensions can be decomposed as the product of 3 elemental rotations (there are 12 right handed possibilities.) \n",
    "\n",
    "The elemental Rotation matrices are\n",
    "\\begin{equation}\n",
    "R_x(\\theta) = \\begin{bmatrix}\n",
    "1 & 0 & 0 \\\\\n",
    "0 & \\cos\\theta & \\sin\\theta \\\\\n",
    "0 & -\\sin\\theta & \\cos\\theta \\\\\n",
    "\\end{bmatrix} \\qquad R_y(\\theta) = \\begin{bmatrix}\n",
    "\\cos\\theta & 0 & -\\sin\\theta \\\\\n",
    "0 & 1 & 0 \\\\\n",
    "\\sin\\theta & 0 &  \\cos\\theta \\\\\n",
    "\\end{bmatrix}\n",
    "\\end{equation}\n",
    "\n",
    "\\begin{equation}\n",
    "R_z(\\theta) = \\begin{bmatrix}\n",
    "\\cos\\theta & \\sin\\theta & 0\\\\\n",
    "-\\sin\\theta &  \\cos\\theta & 0\\\\\n",
    "0 & 0 & 1 \\\\\n",
    "\\end{bmatrix}\n",
    "\\end{equation}\n"
   ]
  },
  {
   "cell_type": "markdown",
   "metadata": {
    "hideCode": false,
    "hidePrompt": true
   },
   "source": [
    "<a id=\"section-5\"></a>\n",
    "## 5.0 Basic Calculus \n",
    "\n"
   ]
  },
  {
   "cell_type": "markdown",
   "metadata": {},
   "source": [
    "### Derivatives\n",
    "\n",
    "The derivative of a function provides a measure of how quickly a function is changing as well as to provide a way to approximate a function linearly in a neighborhood of a point: The derivative of a function gives the slope of the tangent line to the graph of the function at a point. \n",
    "\n",
    "The derivative is defined as \n",
    "\n",
    "\\begin{equation}\n",
    "\\frac{d f}{dx}(x) = \\dot{f}(x) = f^{\\prime}(x) = \\lim_{x \\to 0} \\frac{f(x+\\Delta x) - f(x)}{\\Delta x}\n",
    "\\end{equation}\n",
    "<br> <img src=\"Figs/slope1.png\" width=\"400\" align=\"left\" /> <br>  In region around $x_0$ a function can be approximated by its tangent line \n",
    "\\begin{equation}\n",
    "f(x) \\approx f(x_o) + f^{\\prime}(x_o)(x - x_o)\n",
    "\\end{equation}"
   ]
  },
  {
   "cell_type": "markdown",
   "metadata": {},
   "source": [
    "### Product, Quotient and Chain Rules\n",
    "\n",
    "The following three rules are very useful when computing derivatives \n",
    "\n",
    "Product Rule:\n",
    "\n",
    "\\begin{equation}\n",
    "\\frac{d}{dx} \\left[ f(x) g(x) \\right] = f(x) \\frac{d g}{d x}(x) + g(x) \\frac{d f}{d x}(x)\n",
    "\\end{equation}\n",
    "\n",
    "Quotient Rule:\n",
    "\n",
    "\\begin{equation}\n",
    "\\frac{d}{dx} \\left[ \\frac{f(x)} {g(x)} \\right] = \\frac{g(x) \\frac{d f}{d x}(x) - f(x) \\frac{d g}{d x}(x)}{g^2(x)} \n",
    "\\end{equation}\n",
    "\n",
    "Chain Rule:\n",
    "\n",
    "\\begin{equation}\n",
    "\\frac{d}{dx}f(g(x)) = \\frac{d f}{d x}(g(x)) \\frac{d g}{d x}(x)\n",
    "\\end{equation}\n"
   ]
  },
  {
   "cell_type": "markdown",
   "metadata": {},
   "source": [
    "### Derivatives of Some Useful Functions \n",
    "\n",
    "Polynomials\n",
    "\n",
    "\\begin{equation}\n",
    "\\frac{d}{dx} a = 0  \\qquad \\frac{d}{dx} x^n = nx^{n-1}\n",
    "\\end{equation}\n",
    "\n",
    "Trigonometric Functions\n",
    "\n",
    "\\begin{equation}\n",
    "\\frac{d}{dx} \\cos(x) = -\\sin(x)  \\qquad \\frac{d}{dx} \\sin(x) = \\cos(x) \\qquad \\frac{d}{dx} \\tan(x)  = \\sec^2(x)\n",
    "\\end{equation}\n",
    "\n",
    "Exponential and Log Functions\n",
    "\n",
    "\\begin{equation}\n",
    "\\frac{d}{dx} e^{x} = e^{x} \\qquad \\frac{d}{d x} \\ln (x) = \\frac{1}{x}\n",
    "\\end{equation}"
   ]
  },
  {
   "cell_type": "markdown",
   "metadata": {},
   "source": [
    "### Partial Derivatives and Gradient\n",
    "\n",
    "Sometimes we have functions that have more than one independent variable, *e.g.*, \n",
    "\n",
    "\\begin{equation}\n",
    "\\rho(h_p,\\theta_{\\ell}) = \\frac{h_p}{\\cos \\theta_{\\ell}}\n",
    "\\end{equation}\n",
    "\n",
    "The partial derivative of a functions is the derivative with respect to one of the variables while keeping the remining variables constant.\n",
    "\n",
    "\\begin{equation}\n",
    "\\frac{\\partial f}{dx_i}(x_1,\\cdots,x_n) = \\lim_{x \\to 0} \\frac{f(x_1,\\cdots,x_i+\\Delta x,\\cdots,x_n) - f(x_1,\\cdots,x_n)}{\\Delta x}\n",
    "\\end{equation}\n",
    "\n",
    "The gradient is the vector of partial derivatives with respect to all the variables\n",
    "\n",
    "\\begin{equation}\n",
    "\\vec{\\nabla} f(x_1,\\cdots,x_n)= \\vec{\\nabla} f(\\vec{x})= \\left[ \\frac{\\partial f}{\\partial x_1}(\\vec{x}), \\cdots, \\frac{\\partial f}{\\partial x_n}(\\vec{x}) \\right]\n",
    "\\end{equation}"
   ]
  },
  {
   "cell_type": "markdown",
   "metadata": {},
   "source": [
    "### Approximating a Multi-Variable Function\n",
    "\n",
    "In defining the derivative above in one dimension as the local slope at a point, we saw that we could approximate the function there as:\n",
    "\n",
    "\\begin{equation}\n",
    "f(x) \\approx f(x_o) + f^{\\prime}(x_o)(x - x_o)\n",
    "\\end{equation}\n",
    "\n",
    "This can be extended to the multi-variable case, where the gradient can be used to approximate a function locally by the linear function\n",
    "\n",
    "\\begin{equation}\n",
    "f(\\vec{x}) \\approx  f(\\vec{x}_o) + \\langle \\vec{\\nabla}f (\\vec{x}_o) , \\vec{x} - \\vec{x}_o \\rangle\n",
    "\\end{equation}\n",
    "\n",
    "where the notation $\\langle,\\rangle$ represents the dot product, described in the linear algebra section. \n",
    "\n",
    "<br> <img src=\"Figs/mvslope.png\" width=\"400\" align=\"left\" /> <br>This can be written in long form as:\n",
    "\n",
    "\\begin{equation}\n",
    "f(x_1,\\cdots,x_n)  \\approx  f(x_{1_o},\\cdots,x_{n_o}) + \\sum \\limits_{k=1}^{n} \\frac{\\partial f}{\\partial x_k} (x_1,\\cdots,x_n) (x_k- x_{k_o})\n",
    "\\end{equation}\n"
   ]
  },
  {
   "cell_type": "markdown",
   "metadata": {},
   "source": [
    "### Integral Calculus\n",
    "\n",
    "Integration is the inverse operation to differentiation, and can be used to find the area under the graph of a function. \n",
    "\n",
    "The anti-derivative, $F(x)$, of a function $f(x)$ is the function whose derivative is equal to $f(x)$\n",
    "\n",
    "\\begin{equation}\n",
    "F(x) = \\int  \\!\\! f(x) dx  \\qquad \\frac{d}{dx}F(x) = f(x)\n",
    "\\end{equation}\n",
    "\n",
    "\n",
    "<br> <img src=\"Figs/defint.png\" width=\"400\" align=\"left\" /> <br>The definite integral relates the signed area under a curve with the anti-derivative\n",
    "\n",
    "\\begin{equation}\n",
    "\\int \\limits_{a}^{b} \\!\\!  f(x) dx = F(b) - F(a)\n",
    "\\end{equation}"
   ]
  },
  {
   "cell_type": "markdown",
   "metadata": {},
   "source": [
    "### Integrals of Some Useful Functions \n",
    "\n",
    "Polynomials\n",
    "\n",
    "\\begin{equation}\n",
    "\\int \\!\\! x^n dx = \\frac{1}{n+1} x^{n+1}\n",
    "\\end{equation}\n",
    "\n",
    "Trigonometric Functions\n",
    "\n",
    "\\begin{equation}\n",
    "\\int \\!\\! \\cos(x) dx = \\sin (x) \\qquad \\int \\!\\! \\sin(x) dx = -\\cos (x)\n",
    "\\end{equation}\n",
    "\n",
    "Exponential and Log Functions\n",
    "\n",
    "\\begin{equation}\n",
    "\\int \\!\\! e^{ax} dx = \\frac{1}{a} e^{ax} \\qquad \\int \\!\\! \\frac{1}{x} dx = \\ln x\n",
    "\\end{equation}"
   ]
  },
  {
   "cell_type": "markdown",
   "metadata": {},
   "source": [
    "<div class=\"alert alert-warning\">\n",
    "<font size=\"5\"> <b> Test your understanding - Calculus <b> </font>\n",
    "</div>\n",
    "\n",
    "Consider the formula relating the interferometric phase, $\\phi$, to the baseline length, $b$, look angle $\\theta_{\\ell}$ and baseline orientation angle $\\alpha$ given by\n",
    "\n",
    "\\begin{equation}\n",
    "\\phi = \\frac{4 \\pi}{\\lambda} b \\sin(\\theta_{\\ell} - \\alpha) \\nonumber\n",
    "\\end{equation}\n",
    "\n",
    "what is the partial derivative of the phase with respect to baseline orientation angle? \n",
    "\n",
    "A. $\\frac{\\partial \\phi}{\\partial \\alpha} = -\\frac{4 \\pi}{\\lambda} b \\cos(\\theta_{\\ell} - \\alpha)$\n",
    "\n",
    "B. $\\frac{\\partial \\phi}{\\partial \\alpha} =  \\frac{4 \\pi}{\\lambda} b \\sin(\\theta_{\\ell} - \\alpha)$\n",
    "\n",
    "C. $\\frac{\\partial \\phi}{\\partial \\alpha} =  \\frac{4 \\pi}{\\lambda} \\sin(\\theta_{\\ell} - \\alpha)$\n",
    "\n",
    "D. $ \\frac{\\partial \\phi}{\\partial \\alpha} = \\frac{4 \\pi}{\\lambda} b \\sin^2(\\theta_{\\ell} - \\alpha)$\n"
   ]
  },
  {
   "cell_type": "code",
   "execution_count": 9,
   "metadata": {},
   "outputs": [
    {
     "data": {
      "application/vnd.jupyter.widget-view+json": {
       "model_id": "e8a0d8dbf8c54827bb329f101063a37d",
       "version_major": 2,
       "version_minor": 0
      },
      "text/plain": [
       "VBox(children=(Output(layout=Layout(width='auto')), RadioButtons(options=(('A', 0), ('B', 1), ('C', 2), ('D', …"
      ]
     },
     "metadata": {},
     "output_type": "display_data"
    }
   ],
   "source": [
    "calc"
   ]
  },
  {
   "cell_type": "markdown",
   "metadata": {
    "hideCode": false,
    "hidePrompt": true
   },
   "source": [
    "<a id=\"section-6\"></a>\n",
    "## 6.0 Fourier Transforms \n",
    "\n"
   ]
  },
  {
   "cell_type": "markdown",
   "metadata": {},
   "source": [
    "In this module, we give a quick introduction to Fourier Transforms, the mathematical means of examining the spectrum of a time function.  We start with the basics of sine functions.\n",
    "\n",
    "### Sinusoidal Functions\n",
    "\n",
    "The sine function or sinusoid is a mathematical function that describes a smooth repetitive oscillation. It occurs often in pure mathematics, as well as physics, signal processing, electrical engineering and many other fields.\n",
    "The most basic functional form is:\n",
    "\\begin{eqnarray}\n",
    "s(t) & = & A \\sin (\\omega t + \\phi)\\\\\n",
    "     & = & A \\sin (2\\pi f t + \\phi)\n",
    "\\end{eqnarray}\n",
    "\n",
    "The following basic parameters describing the sinusoid \n",
    "- $A$, the amplitude, is the peak deviation of the function from 0.\n",
    "- $\\omega$, the angular frequency, specifies how many oscillations occur in a unit time interval, in radians per second\n",
    "  - The angular frequency, $\\omega$, period, $T$, and frequency, $f$, are related by\n",
    "\\begin{equation}\n",
    "T=\\frac{1}{f} = \\frac{2\\pi}{\\omega}\n",
    "\\end{equation}\n",
    "- $\\phi$, the phase, specifies where in its cycle the oscillation begins at $t = 0$.\n",
    "\n",
    "When $\\phi\\ne0$, the entire waveform appears to be shifted in time by the amount $\\phi/\\omega$ seconds. A negative value represents a delay, and a positive value represents an advance, \"head-start\"."
   ]
  },
  {
   "cell_type": "code",
   "execution_count": 10,
   "metadata": {},
   "outputs": [],
   "source": [
    "def s(A,f,phi,t):\n",
    "    return A*np.sin(2*np.pi()*f*t + phi)"
   ]
  },
  {
   "cell_type": "markdown",
   "metadata": {},
   "source": [
    "#### Examples of sinusoids\n",
    "\n",
    "Here are some examples of sinusoids and how they change according to changes in amplitude, phase, and frequency.\n",
    "\n",
    "<br> <img src=\"Figs/sines.png\" width=\"600\" align=\"center\" /> <br>"
   ]
  },
  {
   "cell_type": "markdown",
   "metadata": {},
   "source": [
    "### Phasors\n",
    "\n",
    "Euler’s Identity showed a relationship between sines, cosines and complex exponentials. It should not be a surprise then that sine functions can be views in terms of complex exponentials, which are called {\\em phasors}. \n",
    "\n",
    "A phasor is a complex function of the form\n",
    "\\begin{equation}\n",
    "z(t) = Ae^{i\\omega t + \\phi_0} = A\\cos(\\omega t + \\phi_0) + i A \\sin(\\omega t + \\phi_0)\n",
    "\\end{equation}\n",
    "where $\\phi_0$ is a constant phase offset.\n",
    "\n",
    "The figure on the right shows the phasor representation in the complex plane.  As $t$ increases, for $\\omega>0$ the phasor rotates counterclockwise. For $\\omega<0$, it rotates clockwise.  In both cases, the phasor makes one rotation in T units of time.\n",
    "\n",
    "<br> <img src=\"Figs/phasor.png\" width=\"600\" align=\"center\" /> <br>"
   ]
  },
  {
   "cell_type": "markdown",
   "metadata": {},
   "source": [
    "### Summing Sinusoids with Different Frequencies\n",
    "\n",
    "By combining waves of different frequencies and amplitude we can generate interesting signals. The curves below show the function\n",
    "\\begin{equation}\n",
    "f_{N}(t) = \\frac{1}{2} + \\sum_{k=1}^N\\frac{2}{(2k-1)\\pi}\\sin((2k-1)t)\n",
    "\\end{equation}\n",
    "for a number of values of $N$.  As higher frequency sinusoids are added, it is possible to represent functions with faster variations in time. \n",
    "<br> <img src=\"Figs/sinesum.png\" width=\"600\" align=\"center\" /> <br>"
   ]
  },
  {
   "cell_type": "markdown",
   "metadata": {},
   "source": [
    "### Frequency Content of a Signal\n",
    "\n",
    "We just showed how we could generate interesting signals by combining sinusoids of different amplitude, frequency and phase. \n",
    "\n",
    "The inverse problem is the subject of Fourier analysis. That is: given a signal, what are the component frequencies present in the signal?\n",
    "- A Fourier transform is sort of like a prism that separates white light into the colors of the rainbow. Each color is a different frequency or wavelength of light. \n",
    "\n",
    "In Synthetic Aperture Radar, Fourier Transforms play a key role in forming images.\n",
    "Fourier Transforms are also important for understanding volumetric correlation in radar interferometry. \n",
    "\n",
    "\n"
   ]
  },
  {
   "cell_type": "markdown",
   "metadata": {},
   "source": [
    "### The Fourier Transform\n",
    "\n",
    "The Fourier Transform is the mathematical tool that determines the frequency content of a time function. It transforms a function from the time domain to the frequency domain. The basic idea is very simple, and we use the analogy of a film reel to illustrate heuristically.  Imagine we create needle rotating in about an axis like a phasor rotating in the complex plain - for example a pressure gauge that rotates as pressure changes.  \n",
    "\n",
    "<br> <img src=\"Figs/fourierframe.png\" width=\"600\" align=\"left\" /> <br>If we were to film that rotating needle, phasors rotating at the same frequency as the file frame rate would be captured at the same orientation from frame to frame.  If we add up all the frames, this would be large signal.\n",
    "\n",
    "Phasors rotating at a different frequency from the film frame rate would be captured at random moments, and would not add up to much if the frames were added.  For each angular frequency $\\omega$ that is of interest, we change the frame rate to match that frequency and record the magnitude of the added frames.  The figure illustrates this idea. \n",
    "\n",
    "Summing frames is mathematically represented in the continuous domain by integration.  The definition of the Fourier Transform is given by\n",
    "\n",
    "\\begin{equation}\n",
    "\\mathcal{F}(s(t))(\\omega) = S(\\omega) \\equiv \\int_{-\\infty}^{\\infty} s(t) e^{-i\\omega t} dt\n",
    "\\end{equation}\n",
    "\n",
    "If $s(t) = e^{i\\omega t}$, the integration would be over all time a constant value of 1; hence the integration is infinite.  For other values of $\\omega$ it can be shown that the integral is 0. This is the mathematical expression of the heuristic example above.  For an arbitrary function, the Fourier Transform sorts the information into the  spectrum of frequency content in the function. \n",
    "\n"
   ]
  },
  {
   "cell_type": "markdown",
   "metadata": {},
   "source": [
    "### The sinc Function\n",
    "\n",
    "The Fourier transform of a rectangular pulse leads to the classical {\\em sinc} function and shows the relationship between resolution and bandwidth.  The time domain function is \n",
    "\n",
    "<br> <img src=\"Figs/tdsinc.png\" width=\"300\" align=\"left\" /> <br>\\begin{eqnarray}\n",
    "\\mathcal{F}({\\text{rect}}(t))(\\omega) & = & \\int_{-\\infty}^{\\infty} {\\text{rect}}(t) e^{-i\\omega t} dt\\\\\n",
    "& = & \\int_{-\\tau/2}^{\\tau/2} e^{-i\\omega t} dt\\\\\n",
    "& = & -\\frac{1}{i\\omega} e^{-i\\omega t}\\Big\\rvert_{-\\tau/2}^{\\tau/2}\\\\\n",
    "& = & -\\frac{1}{i\\omega} (e^{-i\\omega \\tau/2} - e^{i\\omega \\tau/2})\\\\\n",
    "& = & \\frac{2}{\\omega} \\frac{(e^{-i\\omega \\tau/2} - e^{i\\omega \\tau/2})}{2i}\\\\\n",
    "& = & \\frac{2}{\\omega} \\sin \\bigl(\\frac{\\omega \\tau}{2}\\bigr) \\\\\n",
    "& = & \\tau \\frac{\\sin \\bigl(\\frac{\\omega \\tau}{2}\\bigr)}{\\frac{\\omega \\tau}{2}} = \\tau\\  {\\text{sinc}} \\bigl(\\frac{\\omega \\tau}{2}\\bigr)\n",
    "\\end{eqnarray}\n",
    "\n",
    "<br> <img src=\"Figs/fdsinc.png\" width=\"300\" align=\"left\" /> <br>Note that as the pulse becomes narrower, i.e., as $\\tau$ becomes smaller and there is finer time resolution, the spectrum becomes broader.  This illustrates a general principle that to have finer spatial resolution requires a broader band signal."
   ]
  },
  {
   "cell_type": "markdown",
   "metadata": {},
   "source": [
    "### Useful Fourier Transform Relationships\n",
    "\n",
    "Here are a few Fourier transform properties that are useful. \n",
    "\n",
    "Inverse Transform: $\\qquad\\mathcal{F}^{-1}(S(\\omega))(t) =  \\int_{-\\infty}^{\\infty} S(\\omega) e^{i\\omega t} d\\omega$\n",
    "\n",
    "Linearity: $\\qquad \\mathcal{F}(as(t) + bw(t)) = a \\mathcal{F}(s(t)) + b \\mathcal{F}(w(t))$\n",
    "\n",
    "Shift Property: $\\qquad \\mathcal{F}(s(t\\pm t_0))  = S(\\omega) e^{i\\pm\\omega t_0}$\n",
    "\n",
    "Time Reversal:  $\\qquad \\mathcal{F}(s(-t)) = S(-\\omega)$\n",
    "\n",
    "Scaling: $\\qquad \\mathcal{F}(s(at)) = \\frac{1}{a}S\\bigl(\\frac{\\omega}{a}\\bigr)$\n",
    "\n",
    "Conjugation:  $\\qquad \\mathcal{F}(s^*(t)) = S^*(-\\omega)$\n",
    "\n",
    "Parseval's Theorem of energy conservation: $\\qquad \\int_{-\\infty}^{\\infty} |s(t)|^2 dt = \\frac{1}{2\\pi} \\int_{-\\infty}^{\\infty} |S(\\omega)|^2 d\\omega$"
   ]
  },
  {
   "cell_type": "markdown",
   "metadata": {},
   "source": [
    "<a id=\"section-7\"></a>\n",
    "## 7.0 Decibels\n",
    "\n",
    "### What is a dB?\n",
    "\n",
    "In engineering and physics, we often encounter quantities that can vary by many orders of magnitude. \n",
    "\n",
    "It turns out to be convenient to express such quantities in terms of decibels or dBs.\n",
    "\n",
    "A decibel is a logarithmic unit used to describe a ratio. For example, power is often measured in dB relative to a reference of 1 Watt.\n",
    "\n",
    "\\begin{equation}\n",
    "P_{\\text{dB}} = 10 \\log_{10} P\n",
    "\\end{equation}\n",
    "\n",
    "Since logarithms convert multiplications into additions, doubling a quantity increases it by 3 dB\n",
    "\n",
    "\\begin{equation}\n",
    "10 \\log_{10} 2P = 10 \\log_{10} P + 10 \\log_{10} 2 \\approx 10 \\log_{10} P + 3{\\text{dB}}\n",
    "\\end{equation}\n",
    "\n",
    "Sometimes a 20 is used instead of a 10 in converting to dB. This is because the quantity needs to be squared before converting.\n",
    "\n",
    "\\begin{equation}\n",
    "P_{\\text{dB}} = 10 \\log_{10} V^2 = 20 \\log_{10} V\n",
    "\\end{equation}\n",
    "\n",
    "This is usually encountered when considering power ratios based on signal amplitudes or voltages."
   ]
  },
  {
   "cell_type": "markdown",
   "metadata": {},
   "source": [
    "<div class=\"alert alert-warning\">\n",
    "<font size=\"5\"> <b> Test your understanding - deciBels <b> </font>\n",
    "</div>\n",
    "\n",
    "An amplifier increases the power of a returned radar echo by a factor of 15. By how many dB has the power increased? \n",
    "\n",
    "A. $20 \\log_{10}(15) $ dB\n",
    "\n",
    "B. 3 dB\n",
    "\n",
    "C. 15 dB\n",
    "\n",
    "D. $10 \\log_{10}(15) $ dB\n",
    "  "
   ]
  },
  {
   "cell_type": "code",
   "execution_count": 11,
   "metadata": {},
   "outputs": [
    {
     "data": {
      "application/vnd.jupyter.widget-view+json": {
       "model_id": "2376009f213f4b9392cfdb7e829fe924",
       "version_major": 2,
       "version_minor": 0
      },
      "text/plain": [
       "VBox(children=(Output(layout=Layout(width='auto')), RadioButtons(options=(('A', 0), ('B', 1), ('C', 2), ('D', …"
      ]
     },
     "metadata": {},
     "output_type": "display_data"
    }
   ],
   "source": [
    "dB"
   ]
  },
  {
   "cell_type": "code",
   "execution_count": null,
   "metadata": {},
   "outputs": [],
   "source": []
  }
 ],
 "metadata": {
  "celltoolbar": "Hide code",
  "hide_code_all_hidden": false,
  "hide_input": false,
  "kernelspec": {
   "display_name": "Python 3.8.13 ('isce2')",
   "language": "python",
   "name": "python3"
  },
  "language_info": {
   "codemirror_mode": {
    "name": "ipython",
    "version": 3
   },
   "file_extension": ".py",
   "mimetype": "text/x-python",
   "name": "python",
   "nbconvert_exporter": "python",
   "pygments_lexer": "ipython3",
   "version": "3.8.13"
  },
  "toc": {
   "base_numbering": 1,
   "nav_menu": {},
   "number_sections": true,
   "sideBar": true,
   "skip_h1_title": false,
   "title_cell": "Table of Contents",
   "title_sidebar": "Contents",
   "toc_cell": false,
   "toc_position": {},
   "toc_section_display": true,
   "toc_window_display": false
  },
  "vscode": {
   "interpreter": {
    "hash": "f198759ffd434a69a85f977f6c5f5e3f13f21a07dc38024e25527e8e127096e8"
   }
  }
 },
 "nbformat": 4,
 "nbformat_minor": 2
}
